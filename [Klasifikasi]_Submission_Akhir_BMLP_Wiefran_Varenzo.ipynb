{
  "nbformat": 4,
  "nbformat_minor": 0,
  "metadata": {
    "colab": {
      "provenance": []
    },
    "kernelspec": {
      "name": "python3",
      "display_name": "Python 3"
    },
    "language_info": {
      "name": "python"
    }
  },
  "cells": [
    {
      "cell_type": "markdown",
      "source": [
        "# **1. Import Library**"
      ],
      "metadata": {
        "id": "fKADPWcFKlj3"
      }
    },
    {
      "cell_type": "markdown",
      "source": [
        "Pada tahap ini, Anda perlu mengimpor beberapa pustaka (library) Python yang dibutuhkan untuk analisis data dan pembangunan model machine learning."
      ],
      "metadata": {
        "id": "LgA3ERnVn84N"
      }
    },
    {
      "cell_type": "code",
      "source": [
        "import numpy as np\n",
        "import pandas as pd\n",
        "import matplotlib.pyplot as plt\n",
        "import seaborn as sns\n",
        "\n",
        "from sklearn.model_selection import (\n",
        "    train_test_split, StratifiedKFold, cross_val_score, GridSearchCV, RandomizedSearchCV\n",
        ")\n",
        "from sklearn.preprocessing import MinMaxScaler, OneHotEncoder, StandardScaler\n",
        "from sklearn.pipeline import Pipeline\n",
        "from sklearn.compose import ColumnTransformer\n",
        "from sklearn.metrics import classification_report, confusion_matrix\n",
        "\n",
        "from imblearn.pipeline import Pipeline as ImbPipeline\n",
        "from imblearn.over_sampling import SMOTE\n",
        "\n",
        "from sklearn.linear_model import LogisticRegression\n",
        "from sklearn.ensemble import RandomForestClassifier\n",
        "from sklearn.svm import SVC\n",
        "from sklearn.neighbors import KNeighborsClassifier\n",
        "from sklearn.tree import DecisionTreeClassifier\n"
      ],
      "metadata": {
        "id": "BlmvjLY9M4Yj"
      },
      "execution_count": 1,
      "outputs": []
    },
    {
      "cell_type": "markdown",
      "source": [
        "# **2. Memuat Dataset dari Hasil Clustering**"
      ],
      "metadata": {
        "id": "f3YIEnAFKrKL"
      }
    },
    {
      "cell_type": "markdown",
      "source": [
        "Memuat dataset hasil clustering dari file CSV ke dalam variabel DataFrame."
      ],
      "metadata": {
        "id": "Ey3ItwTen_7E"
      }
    },
    {
      "cell_type": "code",
      "source": [
        "from google.colab import files\n",
        "files.upload()"
      ],
      "metadata": {
        "id": "GHCGNTyrM5fS",
        "colab": {
          "base_uri": "https://localhost:8080/",
          "height": 127
        },
        "outputId": "34d33fc2-2457-488c-f576-04186cb09a11"
      },
      "execution_count": 2,
      "outputs": [
        {
          "output_type": "display_data",
          "data": {
            "text/plain": [
              "<IPython.core.display.HTML object>"
            ],
            "text/html": [
              "\n",
              "     <input type=\"file\" id=\"files-5e7e9db8-1b43-4bf4-93cf-9b06c0117bb6\" name=\"files[]\" multiple disabled\n",
              "        style=\"border:none\" />\n",
              "     <output id=\"result-5e7e9db8-1b43-4bf4-93cf-9b06c0117bb6\">\n",
              "      Upload widget is only available when the cell has been executed in the\n",
              "      current browser session. Please rerun this cell to enable.\n",
              "      </output>\n",
              "      <script>// Copyright 2017 Google LLC\n",
              "//\n",
              "// Licensed under the Apache License, Version 2.0 (the \"License\");\n",
              "// you may not use this file except in compliance with the License.\n",
              "// You may obtain a copy of the License at\n",
              "//\n",
              "//      http://www.apache.org/licenses/LICENSE-2.0\n",
              "//\n",
              "// Unless required by applicable law or agreed to in writing, software\n",
              "// distributed under the License is distributed on an \"AS IS\" BASIS,\n",
              "// WITHOUT WARRANTIES OR CONDITIONS OF ANY KIND, either express or implied.\n",
              "// See the License for the specific language governing permissions and\n",
              "// limitations under the License.\n",
              "\n",
              "/**\n",
              " * @fileoverview Helpers for google.colab Python module.\n",
              " */\n",
              "(function(scope) {\n",
              "function span(text, styleAttributes = {}) {\n",
              "  const element = document.createElement('span');\n",
              "  element.textContent = text;\n",
              "  for (const key of Object.keys(styleAttributes)) {\n",
              "    element.style[key] = styleAttributes[key];\n",
              "  }\n",
              "  return element;\n",
              "}\n",
              "\n",
              "// Max number of bytes which will be uploaded at a time.\n",
              "const MAX_PAYLOAD_SIZE = 100 * 1024;\n",
              "\n",
              "function _uploadFiles(inputId, outputId) {\n",
              "  const steps = uploadFilesStep(inputId, outputId);\n",
              "  const outputElement = document.getElementById(outputId);\n",
              "  // Cache steps on the outputElement to make it available for the next call\n",
              "  // to uploadFilesContinue from Python.\n",
              "  outputElement.steps = steps;\n",
              "\n",
              "  return _uploadFilesContinue(outputId);\n",
              "}\n",
              "\n",
              "// This is roughly an async generator (not supported in the browser yet),\n",
              "// where there are multiple asynchronous steps and the Python side is going\n",
              "// to poll for completion of each step.\n",
              "// This uses a Promise to block the python side on completion of each step,\n",
              "// then passes the result of the previous step as the input to the next step.\n",
              "function _uploadFilesContinue(outputId) {\n",
              "  const outputElement = document.getElementById(outputId);\n",
              "  const steps = outputElement.steps;\n",
              "\n",
              "  const next = steps.next(outputElement.lastPromiseValue);\n",
              "  return Promise.resolve(next.value.promise).then((value) => {\n",
              "    // Cache the last promise value to make it available to the next\n",
              "    // step of the generator.\n",
              "    outputElement.lastPromiseValue = value;\n",
              "    return next.value.response;\n",
              "  });\n",
              "}\n",
              "\n",
              "/**\n",
              " * Generator function which is called between each async step of the upload\n",
              " * process.\n",
              " * @param {string} inputId Element ID of the input file picker element.\n",
              " * @param {string} outputId Element ID of the output display.\n",
              " * @return {!Iterable<!Object>} Iterable of next steps.\n",
              " */\n",
              "function* uploadFilesStep(inputId, outputId) {\n",
              "  const inputElement = document.getElementById(inputId);\n",
              "  inputElement.disabled = false;\n",
              "\n",
              "  const outputElement = document.getElementById(outputId);\n",
              "  outputElement.innerHTML = '';\n",
              "\n",
              "  const pickedPromise = new Promise((resolve) => {\n",
              "    inputElement.addEventListener('change', (e) => {\n",
              "      resolve(e.target.files);\n",
              "    });\n",
              "  });\n",
              "\n",
              "  const cancel = document.createElement('button');\n",
              "  inputElement.parentElement.appendChild(cancel);\n",
              "  cancel.textContent = 'Cancel upload';\n",
              "  const cancelPromise = new Promise((resolve) => {\n",
              "    cancel.onclick = () => {\n",
              "      resolve(null);\n",
              "    };\n",
              "  });\n",
              "\n",
              "  // Wait for the user to pick the files.\n",
              "  const files = yield {\n",
              "    promise: Promise.race([pickedPromise, cancelPromise]),\n",
              "    response: {\n",
              "      action: 'starting',\n",
              "    }\n",
              "  };\n",
              "\n",
              "  cancel.remove();\n",
              "\n",
              "  // Disable the input element since further picks are not allowed.\n",
              "  inputElement.disabled = true;\n",
              "\n",
              "  if (!files) {\n",
              "    return {\n",
              "      response: {\n",
              "        action: 'complete',\n",
              "      }\n",
              "    };\n",
              "  }\n",
              "\n",
              "  for (const file of files) {\n",
              "    const li = document.createElement('li');\n",
              "    li.append(span(file.name, {fontWeight: 'bold'}));\n",
              "    li.append(span(\n",
              "        `(${file.type || 'n/a'}) - ${file.size} bytes, ` +\n",
              "        `last modified: ${\n",
              "            file.lastModifiedDate ? file.lastModifiedDate.toLocaleDateString() :\n",
              "                                    'n/a'} - `));\n",
              "    const percent = span('0% done');\n",
              "    li.appendChild(percent);\n",
              "\n",
              "    outputElement.appendChild(li);\n",
              "\n",
              "    const fileDataPromise = new Promise((resolve) => {\n",
              "      const reader = new FileReader();\n",
              "      reader.onload = (e) => {\n",
              "        resolve(e.target.result);\n",
              "      };\n",
              "      reader.readAsArrayBuffer(file);\n",
              "    });\n",
              "    // Wait for the data to be ready.\n",
              "    let fileData = yield {\n",
              "      promise: fileDataPromise,\n",
              "      response: {\n",
              "        action: 'continue',\n",
              "      }\n",
              "    };\n",
              "\n",
              "    // Use a chunked sending to avoid message size limits. See b/62115660.\n",
              "    let position = 0;\n",
              "    do {\n",
              "      const length = Math.min(fileData.byteLength - position, MAX_PAYLOAD_SIZE);\n",
              "      const chunk = new Uint8Array(fileData, position, length);\n",
              "      position += length;\n",
              "\n",
              "      const base64 = btoa(String.fromCharCode.apply(null, chunk));\n",
              "      yield {\n",
              "        response: {\n",
              "          action: 'append',\n",
              "          file: file.name,\n",
              "          data: base64,\n",
              "        },\n",
              "      };\n",
              "\n",
              "      let percentDone = fileData.byteLength === 0 ?\n",
              "          100 :\n",
              "          Math.round((position / fileData.byteLength) * 100);\n",
              "      percent.textContent = `${percentDone}% done`;\n",
              "\n",
              "    } while (position < fileData.byteLength);\n",
              "  }\n",
              "\n",
              "  // All done.\n",
              "  yield {\n",
              "    response: {\n",
              "      action: 'complete',\n",
              "    }\n",
              "  };\n",
              "}\n",
              "\n",
              "scope.google = scope.google || {};\n",
              "scope.google.colab = scope.google.colab || {};\n",
              "scope.google.colab._files = {\n",
              "  _uploadFiles,\n",
              "  _uploadFilesContinue,\n",
              "};\n",
              "})(self);\n",
              "</script> "
            ]
          },
          "metadata": {}
        },
        {
          "output_type": "stream",
          "name": "stdout",
          "text": [
            "Saving Dataset_clustering.csv to Dataset_clustering.csv\n"
          ]
        },
        {
          "output_type": "execute_result",
          "data": {
            "text/plain": [
              "{'Dataset_clustering.csv': b'TransactionAmount,TransactionType,Channel,LoginAttempts,CustomerOccupation,Cluster_Kmeans\\n14.089999999999975,Debit,ATM,1.0,Doctor,0\\n376.24,Debit,ATM,1.0,Doctor,0\\n126.28999999999999,Debit,Online,1.0,Student,0\\n184.5,Debit,Online,1.0,Student,0\\n13.449999999999989,Credit,Online,1.0,Student,0\\n92.15,Debit,ATM,1.0,Student,0\\n7.079999999999984,Credit,ATM,1.0,Doctor,0\\n171.42,Credit,Branch,1.0,Retired,0\\n106.23000000000002,Credit,Branch,1.0,Engineer,0\\n815.96,Debit,ATM,1.0,Doctor,0\\n17.78000000000003,Credit,Online,1.0,Engineer,0\\n190.02000000000004,Debit,Online,1.0,Student,0\\n494.52,Credit,Branch,1.0,Student,0\\n781.76,Debit,ATM,1.0,Student,0\\n166.99,Debit,Online,1.0,Student,0\\n465.45,Debit,ATM,1.0,Engineer,0\\n555.8,Credit,Branch,1.0,Student,0\\n492.93,Debit,Online,1.0,Engineer,0\\n18.680000000000007,Credit,Branch,1.0,Retired,0\\n71.47999999999999,Credit,Online,1.0,Student,0\\n59.31999999999999,Debit,Branch,1.0,Retired,0\\n85.76999999999998,Debit,Branch,1.0,Doctor,0\\n52.19999999999999,Debit,Online,1.0,Engineer,0\\n345.84,Debit,Online,3.0,Student,1\\n145.54,Debit,Online,1.0,Student,0\\n7.490000000000009,Credit,Online,1.0,Retired,0\\n246.93,Debit,ATM,5.0,Student,1\\n40.31999999999999,Debit,Branch,1.0,Engineer,0\\n127.44999999999999,Debit,Online,1.0,Doctor,0\\n56.170000000000016,Debit,Branch,1.0,Student,0\\n28.310000000000002,Credit,Online,1.0,Doctor,0\\n59.120000000000005,Debit,ATM,1.0,Doctor,0\\n396.45,Debit,ATM,3.0,Engineer,1\\n877.81,Debit,Online,1.0,Student,0\\n255.26,Credit,Branch,1.0,Doctor,0\\n124.75999999999999,Debit,Branch,1.0,Engineer,0\\n78.13,Debit,Branch,1.0,Student,0\\n649.28,Debit,ATM,1.0,Retired,0\\n795.31,Debit,ATM,2.0,Doctor,0\\n335.63,Debit,Online,1.0,Retired,0\\n328.47,Debit,ATM,1.0,Retired,0\\n34.01999999999998,Debit,Online,1.0,Doctor,0\\n241.42,Credit,Online,1.0,Doctor,0\\n55.31999999999999,Debit,ATM,1.0,Student,0\\n304.31,Debit,Branch,1.0,Student,0\\n435.27,Debit,Branch,1.0,Retired,0\\n164.49,Debit,Branch,1.0,Student,0\\n510.24,Debit,Online,1.0,Student,0\\n626.9,Debit,Online,1.0,Student,0\\n22.00999999999999,Credit,Online,1.0,Engineer,0\\n425.34,Credit,Online,1.0,Retired,0\\n424.56,Debit,Online,1.0,Engineer,0\\n85.43,Debit,Branch,1.0,Doctor,0\\n169.5,Debit,Branch,1.0,Student,0\\n104.63,Debit,ATM,1.0,Retired,0\\n316.95,Debit,Branch,1.0,Student,0\\n60.53999999999999,Credit,Branch,1.0,Retired,0\\n292.56,Credit,Branch,1.0,Retired,0\\n386.52,Debit,Branch,1.0,Engineer,0\\n112.07,Debit,Branch,1.0,Student,0\\n568.52,Debit,ATM,1.0,Engineer,0\\n263.99,Debit,Branch,2.0,Retired,0\\n349.64,Debit,Online,1.0,Engineer,0\\n601.4,Credit,Branch,1.0,Engineer,0\\n5.769999999999982,Debit,Online,1.0,Doctor,0\\n201.33,Credit,Branch,1.0,Engineer,0\\n298.42,Debit,Branch,1.0,Retired,0\\n521.06,Debit,Branch,1.0,Student,0\\n117.28,Credit,Online,1.0,Engineer,0\\n189.12,Credit,Branch,1.0,Engineer,0\\n133.55,Debit,ATM,1.0,Engineer,0\\n143.21,Debit,Online,1.0,Engineer,0\\n24.769999999999982,Debit,ATM,1.0,Retired,0\\n233.92,Credit,Online,1.0,Student,0\\n1212.51,Debit,Branch,1.0,Student,0\\n232.12,Debit,ATM,1.0,Engineer,0\\n162.63,Debit,Online,1.0,Student,0\\n91.53,Debit,Branch,1.0,Doctor,0\\n120.29000000000002,Debit,Branch,1.0,Student,0\\n174.25,Debit,Online,1.0,Doctor,0\\n183.71,Debit,ATM,1.0,Engineer,0\\n345.39,Credit,Online,1.0,Engineer,0\\n922.55,Debit,ATM,1.0,Retired,0\\n259.91,Debit,Online,1.0,Doctor,0\\n154.71,Debit,Online,1.0,Doctor,0\\n1340.19,Credit,Online,1.0,Engineer,0\\n24.560000000000002,Debit,Branch,1.0,Doctor,0\\n568.07,Debit,ATM,1.0,Doctor,0\\n9.610000000000014,Credit,Online,1.0,Doctor,0\\n392.96,Debit,Online,1.0,Student,0\\n716.93,Credit,Online,1.0,Retired,0\\n223.85,Debit,ATM,4.0,Engineer,1\\n230.66,Debit,Branch,1.0,Student,0\\n442.12,Debit,Online,1.0,Student,0\\n644.17,Debit,ATM,1.0,Engineer,0\\n508.68,Credit,Branch,1.0,Engineer,0\\n858.6300000000001,Credit,Branch,1.0,Student,0\\n25.360000000000014,Debit,ATM,1.0,Engineer,0\\n147.62,Debit,Branch,1.0,Retired,0\\n115.01999999999998,Debit,Branch,1.0,Doctor,0\\n383.37,Debit,Branch,1.0,Engineer,0\\n98.54000000000002,Credit,Online,1.0,Student,0\\n83.24000000000001,Credit,Branch,1.0,Doctor,0\\n196.16,Debit,Branch,1.0,Engineer,0\\n129.94,Debit,ATM,1.0,Engineer,0\\n306.9,Debit,Online,1.0,Engineer,0\\n114.98000000000002,Debit,Online,1.0,Retired,0\\n756.59,Debit,Branch,1.0,Student,0\\n503.76,Debit,Online,1.0,Student,0\\n143.03,Debit,ATM,1.0,Retired,0\\n1045.22,Debit,ATM,1.0,Retired,0\\n245.54,Debit,ATM,1.0,Student,0\\n254.37,Credit,Online,1.0,Engineer,0\\n213.76,Credit,ATM,1.0,Retired,0\\n327.86,Debit,Online,1.0,Engineer,0\\n2.5,Debit,Online,1.0,Doctor,0\\n300.08,Credit,Online,1.0,Doctor,0\\n56.97999999999999,Credit,ATM,2.0,Engineer,0\\n407.65,Debit,Online,1.0,Engineer,0\\n115.82999999999996,Debit,Branch,1.0,Engineer,0\\n53.56999999999999,Debit,ATM,1.0,Retired,0\\n63.34,Credit,Online,1.0,Doctor,0\\n317.87,Debit,Online,1.0,Student,0\\n331.65,Debit,Online,1.0,Engineer,0\\n5.0400000000000205,Debit,ATM,1.0,Retired,0\\n214.54,Credit,Online,1.0,Doctor,0\\n598.81,Debit,Branch,1.0,Doctor,0\\n841.28,Debit,Online,1.0,Student,0\\n38.14999999999998,Debit,Online,1.0,Student,0\\n1036.66,Debit,Branch,1.0,Doctor,0\\n124.72,Debit,Branch,1.0,Engineer,0\\n302.45,Credit,Branch,1.0,Retired,0\\n208.04,Debit,Online,1.0,Engineer,0\\n5.769999999999982,Credit,Branch,1.0,Student,0\\n381.33,Debit,ATM,1.0,Doctor,0\\n16.160000000000025,Debit,ATM,1.0,Doctor,0\\n486.08,Debit,Online,1.0,Student,0\\n336.39,Debit,Branch,1.0,Student,0\\n997.4300000000001,Debit,Online,1.0,Doctor,0\\n234.57,Debit,Online,1.0,Student,0\\n6.0,Debit,Online,1.0,Doctor,0\\n1049.92,Debit,ATM,1.0,Retired,0\\n227.14,Debit,ATM,1.0,Student,0\\n233.74,Credit,Online,1.0,Retired,0\\n113.01999999999998,Credit,Branch,1.0,Retired,0\\n45.849999999999994,Debit,ATM,1.0,Student,0\\n973.3900000000001,Debit,Branch,1.0,Retired,0\\n514.95,Debit,Online,5.0,Doctor,1\\n415.5,Debit,ATM,1.0,Doctor,0\\n265.76,Debit,Online,1.0,Retired,0\\n69.4,Debit,Online,1.0,Retired,0\\n332.93,Credit,Branch,1.0,Engineer,0\\n267.9,Debit,Online,1.0,Student,0\\n496.03,Debit,Branch,1.0,Doctor,0\\n376.26,Debit,ATM,1.0,Engineer,0\\n83.01999999999998,Credit,Online,1.0,Engineer,0\\n93.25999999999999,Credit,Online,1.0,Student,0\\n803.37,Credit,Branch,1.0,Doctor,0\\n35.75999999999999,Debit,Branch,1.0,Student,0\\n28.53000000000003,Debit,Online,1.0,Doctor,0\\n139.53,Credit,Online,1.0,Doctor,0\\n307.57,Debit,Branch,1.0,Doctor,0\\n60.650000000000006,Credit,Branch,1.0,Retired,0\\n74.86000000000001,Debit,Branch,1.0,Doctor,0\\n117.97,Debit,Branch,1.0,Retired,0\\n231.91,Debit,ATM,1.0,Engineer,0\\n126.20999999999998,Debit,Branch,1.0,Retired,0\\n506.28,Credit,Online,2.0,Retired,0\\n304.35,Debit,Branch,1.0,Engineer,0\\n281.85,Debit,ATM,1.0,Student,0\\n777.88,Debit,Branch,1.0,Engineer,0\\n119.18,Debit,Branch,1.0,Retired,0\\n177.19,Debit,Online,1.0,Retired,0\\n260.88,Debit,Branch,1.0,Student,0\\n169.47,Debit,Online,1.0,Student,0\\n73.23000000000002,Debit,Branch,1.0,Student,0\\n1362.55,Debit,ATM,1.0,Engineer,0\\n792.57,Debit,ATM,1.0,Student,0\\n237.06,Debit,Online,1.0,Retired,0\\n34.170000000000016,Credit,Online,1.0,Engineer,0\\n740.25,Debit,Online,1.0,Doctor,0\\n453.54,Debit,ATM,1.0,Doctor,0\\n300.47,Debit,Branch,1.0,Retired,0\\n110.92999999999998,Credit,Branch,1.0,Student,0\\n201.69,Debit,ATM,1.0,Doctor,0\\n399.21,Debit,ATM,1.0,Engineer,0\\n1041.88,Debit,Online,1.0,Retired,0\\n630.36,Debit,ATM,1.0,Retired,0\\n10.939999999999998,Credit,ATM,1.0,Engineer,0\\n215.9,Debit,ATM,1.0,Doctor,0\\n1422.55,Debit,Branch,1.0,Retired,0\\n226.37,Credit,Branch,1.0,Doctor,0\\n444.89,Credit,Branch,1.0,Doctor,0\\n280.57,Credit,Online,1.0,Student,0\\n488.54,Debit,Branch,1.0,Engineer,0\\n3.3000000000000114,Credit,Branch,1.0,Doctor,0\\n199.39,Debit,Branch,1.0,Retired,0\\n20.360000000000014,Debit,Branch,1.0,Retired,0\\n113.63999999999999,Debit,Online,1.0,Retired,0\\n493.11,Debit,Branch,1.0,Retired,0\\n307.41,Debit,ATM,1.0,Student,0\\n11.180000000000007,Debit,Online,1.0,Doctor,0\\n313.82,Debit,Branch,1.0,Engineer,0\\n51.0,Debit,Branch,1.0,Retired,0\\n140.98,Debit,Branch,1.0,Engineer,0\\n288.04,Debit,ATM,1.0,Retired,0\\n800.55,Debit,ATM,1.0,Engineer,0\\n485.54,Debit,ATM,1.0,Engineer,0\\n521.15,Debit,ATM,1.0,Doctor,0\\n321.79,Credit,ATM,1.0,Retired,0\\n304.93,Debit,ATM,1.0,Doctor,0\\n432.08,Debit,ATM,1.0,Doctor,0\\n694.2,Debit,ATM,1.0,Retired,0\\n116.86000000000001,Debit,ATM,1.0,Engineer,0\\n386.81,Credit,Online,1.0,Doctor,0\\n74.88,Debit,ATM,1.0,Student,0\\n195.76,Debit,Branch,1.0,Retired,0\\n134.7,Debit,ATM,1.0,Doctor,0\\n890.24,Credit,Online,1.0,Engineer,0\\n361.27,Debit,ATM,1.0,Doctor,0\\n131.56,Debit,Branch,1.0,Doctor,0\\n485.51,Credit,Online,1.0,Retired,0\\n547.87,Debit,ATM,1.0,Retired,0\\n457.29999999999995,Debit,Online,1.0,Engineer,0\\n506.24,Debit,ATM,1.0,Engineer,0\\n486.59,Debit,Branch,1.0,Retired,0\\n163.68,Debit,Branch,1.0,Doctor,0\\n581.65,Debit,ATM,1.0,Student,0\\n52.00999999999999,Debit,ATM,1.0,Doctor,0\\n630.24,Debit,ATM,1.0,Student,0\\n523.74,Debit,ATM,1.0,Doctor,0\\n705.6,Debit,Branch,3.0,Doctor,1\\n217.5,Credit,Branch,1.0,Engineer,0\\n91.48000000000002,Debit,ATM,1.0,Doctor,0\\n5.25,Debit,ATM,1.0,Doctor,0\\n54.03,Credit,ATM,1.0,Retired,0\\n736.73,Debit,Branch,1.0,Engineer,0\\n368.91,Debit,Branch,1.0,Doctor,0\\n33.06,Credit,Online,1.0,Retired,0\\n66.5,Credit,Online,1.0,Engineer,0\\n177.08,Debit,Online,1.0,Doctor,0\\n588.54,Debit,Branch,1.0,Engineer,0\\n173.5,Debit,ATM,1.0,Student,0\\n78.32999999999996,Credit,Online,1.0,Engineer,0\\n40.660000000000025,Debit,Branch,1.0,Retired,0\\n97.22,Credit,Branch,1.0,Retired,0\\n34.06999999999999,Debit,Branch,1.0,Student,0\\n492.06,Debit,Online,1.0,Student,0\\n842.01,Credit,Online,1.0,Doctor,0\\n73.55000000000001,Debit,ATM,1.0,Engineer,0\\n760.53,Debit,Online,1.0,Engineer,0\\n273.08,Credit,Branch,1.0,Engineer,0\\n371.69,Debit,Branch,1.0,Retired,0\\n218.96,Debit,ATM,1.0,Student,0\\n227.39,Debit,Online,1.0,Student,0\\n237.99,Credit,Branch,1.0,Doctor,0\\n186.6,Debit,Online,1.0,Doctor,0\\n341.15,Debit,Online,1.0,Student,0\\n434.58,Debit,ATM,1.0,Doctor,0\\n312.88,Credit,Branch,1.0,Engineer,0\\n75.15,Debit,ATM,1.0,Student,0\\n23.30000000000001,Debit,ATM,1.0,Engineer,0\\n47.379999999999995,Credit,Online,1.0,Student,0\\n512.81,Debit,Branch,1.0,Retired,0\\n488.15,Debit,Branch,1.0,Engineer,0\\n12.819999999999993,Debit,ATM,1.0,Engineer,0\\n66.9,Credit,Online,4.0,Retired,1\\n535.91,Debit,Online,1.0,Engineer,0\\n270.72,Credit,Online,1.0,Engineer,0\\n97.98000000000002,Debit,Branch,1.0,Retired,0\\n196.08,Debit,Online,1.0,Retired,0\\n251.18,Debit,ATM,1.0,Engineer,0\\n44.52000000000004,Debit,Online,1.0,Student,0\\n178.87,Debit,Online,1.0,Doctor,0\\n1176.28,Credit,ATM,5.0,Engineer,1\\n386.68,Debit,Branch,1.0,Doctor,0\\n167.14,Debit,Online,1.0,Retired,0\\n345.22,Debit,Branch,1.0,Retired,0\\n74.85,Debit,ATM,1.0,Retired,0\\n671.73,Debit,Branch,1.0,Engineer,0\\n255.04,Debit,ATM,1.0,Engineer,0\\n45.77000000000001,Debit,Online,1.0,Student,0\\n329.69,Credit,Online,1.0,Student,0\\n362.04,Credit,Branch,2.0,Doctor,0\\n11.920000000000016,Debit,Branch,1.0,Doctor,0\\n47.41999999999999,Debit,ATM,1.0,Doctor,0\\n35.99000000000001,Debit,Branch,1.0,Retired,0\\n151.19,Credit,Branch,1.0,Doctor,0\\n242.62,Credit,Online,1.0,Student,0\\n48.72,Debit,Branch,1.0,Student,0\\n43.46000000000001,Debit,ATM,1.0,Student,0\\n1036.2099999999998,Debit,Online,1.0,Student,0\\n443.78999999999996,Debit,ATM,1.0,Retired,0\\n365.14,Debit,Online,1.0,Retired,0\\n757.41,Debit,ATM,1.0,Student,0\\n20.54000000000002,Debit,Branch,1.0,Engineer,0\\n475.36,Debit,ATM,1.0,Engineer,0\\n34.74000000000001,Debit,ATM,1.0,Retired,0\\n689.54,Debit,Branch,1.0,Student,0\\n211.18,Debit,ATM,1.0,Retired,0\\n211.36,Credit,Branch,1.0,Engineer,0\\n744.41,Credit,Online,1.0,Engineer,0\\n61.43000000000001,Debit,Online,1.0,Student,0\\n167.44,Debit,Branch,1.0,Doctor,0\\n361.46,Debit,Online,1.0,Student,0\\n378.85,Debit,Branch,1.0,Retired,0\\n241.11,Debit,Branch,1.0,Doctor,0\\n131.93,Credit,Branch,1.0,Engineer,0\\n20.28000000000003,Debit,Online,1.0,Engineer,0\\n415.88,Debit,Branch,1.0,Doctor,0\\n49.99000000000001,Debit,ATM,1.0,Retired,0\\n1221.65,Debit,Online,1.0,Student,0\\n100.66,Debit,Branch,1.0,Doctor,0\\n485.54,Debit,Online,1.0,Student,0\\n321.15,Debit,Branch,1.0,Doctor,0\\n711.3,Debit,Branch,1.0,Student,0\\n12.230000000000018,Debit,ATM,1.0,Engineer,0\\n350.94,Debit,ATM,1.0,Student,0\\n301.85,Debit,Online,1.0,Engineer,0\\n29.339999999999975,Debit,Online,1.0,Retired,0\\n231.71,Debit,Branch,1.0,Student,0\\n179.43,Debit,ATM,1.0,Retired,0\\n36.70999999999998,Debit,Branch,1.0,Doctor,0\\n138.12,Credit,Branch,1.0,Doctor,0\\n233.24,Debit,ATM,1.0,Engineer,0\\n609.14,Debit,ATM,1.0,Engineer,0\\n436.64,Debit,Branch,1.0,Doctor,0\\n870.4300000000001,Debit,Branch,1.0,Doctor,0\\n354.4,Debit,ATM,1.0,Retired,0\\n22.629999999999995,Debit,Online,1.0,Engineer,0\\n182.19,Debit,Branch,1.0,Student,0\\n126.81,Debit,Branch,1.0,Engineer,0\\n288.17,Debit,Online,1.0,Engineer,0\\n118.76999999999995,Debit,Branch,1.0,Engineer,0\\n651.82,Debit,ATM,1.0,Student,0\\n66.65000000000003,Debit,ATM,1.0,Engineer,0\\n98.53,Debit,Branch,1.0,Retired,0\\n138.94999999999996,Debit,Online,1.0,Retired,0\\n33.889999999999986,Debit,Branch,1.0,Student,0\\n23.70999999999998,Debit,Branch,1.0,Doctor,0\\n1830.0,Debit,Online,1.0,Engineer,0\\n26.060000000000002,Debit,ATM,1.0,Doctor,0\\n17.069999999999993,Debit,Branch,1.0,Engineer,0\\n703.89,Debit,Online,1.0,Engineer,0\\n1271.9,Debit,ATM,1.0,Engineer,0\\n26.55000000000001,Debit,ATM,1.0,Retired,0\\n147.4,Debit,Branch,1.0,Engineer,0\\n202.11,Debit,ATM,1.0,Student,0\\n308.42,Debit,Branch,1.0,Retired,0\\n11.180000000000007,Debit,ATM,1.0,Engineer,0\\n294.15,Debit,Online,1.0,Engineer,0\\n29.579999999999984,Debit,Branch,1.0,Engineer,0\\n139.45,Debit,Online,1.0,Student,0\\n432.63,Debit,ATM,1.0,Doctor,0\\n131.43,Debit,Online,1.0,Doctor,0\\n516.72,Debit,ATM,1.0,Engineer,0\\n121.82,Debit,Online,3.0,Doctor,1\\n374.5,Credit,Branch,1.0,Student,0\\n166.13,Debit,ATM,1.0,Doctor,0\\n626.9,Debit,ATM,1.0,Student,0\\n466.85,Debit,Branch,1.0,Retired,0\\n788.84,Debit,Online,1.0,Retired,0\\n873.6500000000001,Credit,Online,1.0,Doctor,0\\n525.28,Debit,ATM,1.0,Retired,0\\n110.17000000000002,Debit,ATM,1.0,Engineer,0\\n632.69,Debit,ATM,1.0,Retired,0\\n124.35,Debit,ATM,1.0,Retired,0\\n43.849999999999994,Debit,ATM,1.0,Retired,0\\n283.81,Debit,Branch,1.0,Student,0\\n168.53,Debit,ATM,1.0,Retired,0\\n218.59,Credit,Branch,1.0,Engineer,0\\n132.84,Debit,ATM,1.0,Student,0\\n157.37,Credit,Branch,1.0,Doctor,0\\n144.77,Debit,Online,1.0,Student,0\\n643.22,Debit,ATM,1.0,Doctor,0\\n1392.54,Debit,Branch,1.0,Doctor,0\\n208.07,Debit,Online,1.0,Doctor,0\\n94.30000000000001,Debit,Branch,1.0,Doctor,0\\n295.5,Debit,ATM,1.0,Retired,0\\n30.230000000000018,Debit,ATM,1.0,Doctor,0\\n112.05000000000001,Credit,ATM,1.0,Student,0\\n180.24,Debit,Branch,1.0,Engineer,0\\n13.70999999999998,Credit,Online,1.0,Engineer,0\\n96.54000000000002,Debit,Branch,1.0,Retired,0\\n79.35,Debit,Online,1.0,Retired,0\\n101.04000000000002,Debit,ATM,1.0,Student,0\\n74.42000000000002,Debit,Online,1.0,Engineer,0\\n39.660000000000025,Debit,Branch,1.0,Engineer,0\\n99.35999999999999,Debit,ATM,1.0,Doctor,0\\n123.85,Debit,Online,1.0,Engineer,0\\n426.93,Debit,ATM,1.0,Student,0\\n133.73,Credit,Online,1.0,Student,0\\n222.39,Debit,Online,1.0,Engineer,0\\n215.94,Credit,Online,1.0,Student,0\\n6.300000000000011,Debit,Branch,5.0,Retired,1\\n826.23,Debit,ATM,1.0,Doctor,0\\n416.37,Debit,Online,1.0,Engineer,0\\n131.46,Debit,Branch,1.0,Retired,0\\n202.86,Credit,Branch,1.0,Doctor,0\\n268.39,Debit,ATM,1.0,Student,0\\n194.85,Debit,Online,4.0,Student,1\\n137.35,Credit,Online,1.0,Doctor,0\\n712.75,Debit,Branch,1.0,Doctor,0\\n353.82,Debit,ATM,1.0,Doctor,0\\n507.25,Debit,Branch,1.0,Retired,0\\n212.74,Debit,Branch,1.0,Engineer,0\\n364.42,Debit,ATM,1.0,Engineer,0\\n195.12,Debit,ATM,1.0,Doctor,0\\n230.61,Debit,Branch,1.0,Retired,0\\n739.28,Credit,Branch,1.0,Doctor,0\\n390.35,Credit,ATM,1.0,Doctor,0\\n242.03,Debit,Online,1.0,Engineer,0\\n242.39,Credit,ATM,1.0,Student,0\\n135.02999999999997,Debit,ATM,1.0,Student,0\\n83.5,Debit,Branch,5.0,Retired,1\\n193.54,Debit,Branch,1.0,Retired,0\\n617.36,Debit,Branch,1.0,Engineer,0\\n775.23,Credit,Online,1.0,Doctor,0\\n266.57,Debit,ATM,1.0,Retired,0\\n153.4,Debit,ATM,1.0,Engineer,0\\n946.94,Debit,Branch,1.0,Retired,0\\n5.1200000000000045,Debit,Branch,1.0,Engineer,0\\n119.11000000000001,Debit,ATM,1.0,Engineer,0\\n1096.6999999999998,Debit,Online,1.0,Student,0\\n119.72,Debit,Branch,1.0,Engineer,0\\n107.4,Debit,Online,1.0,Doctor,0\\n115.92000000000002,Debit,ATM,1.0,Retired,0\\n438.04,Debit,ATM,1.0,Retired,0\\n677.29,Debit,Online,1.0,Engineer,0\\n296.0,Debit,Branch,1.0,Doctor,0\\n299.09,Credit,Branch,1.0,Engineer,0\\n461.52,Credit,Branch,1.0,Student,0\\n100.51999999999998,Debit,ATM,1.0,Engineer,0\\n85.35,Debit,ATM,1.0,Retired,0\\n79.75999999999999,Debit,Branch,1.0,Engineer,0\\n778.49,Credit,Online,1.0,Retired,0\\n386.38,Debit,Online,1.0,Engineer,0\\n165.25,Debit,Online,1.0,Doctor,0\\n14.29000000000002,Debit,ATM,1.0,Engineer,0\\n232.79,Credit,Branch,1.0,Retired,0\\n1237.5599999999997,Credit,Branch,1.0,Engineer,0\\n92.29000000000002,Debit,Branch,1.0,Engineer,0\\n293.97,Debit,Branch,1.0,Retired,0\\n136.32,Debit,Online,1.0,Student,0\\n251.06,Debit,Online,1.0,Doctor,0\\n50.170000000000016,Credit,ATM,1.0,Retired,0\\n21.399999999999977,Debit,Branch,1.0,Engineer,0\\n73.28,Debit,Branch,1.0,Student,0\\n70.23000000000002,Debit,ATM,1.0,Doctor,0\\n689.29,Debit,ATM,1.0,Student,0\\n745.03,Debit,Online,1.0,Student,0\\n54.610000000000014,Debit,ATM,1.0,Engineer,0\\n54.05000000000001,Debit,Branch,1.0,Student,0\\n107.47,Debit,Online,1.0,Retired,0\\n611.11,Debit,ATM,4.0,Student,1\\n219.63,Debit,ATM,1.0,Doctor,0\\n188.7,Debit,Branch,1.0,Retired,0\\n93.51999999999998,Debit,Online,1.0,Engineer,0\\n275.92,Credit,Branch,1.0,Retired,0\\n376.79,Debit,Branch,1.0,Retired,0\\n8.980000000000018,Debit,Online,1.0,Retired,0\\n697.32,Debit,Online,1.0,Retired,0\\n17.44999999999999,Debit,ATM,1.0,Student,0\\n302.16,Debit,Online,5.0,Retired,1\\n442.74,Debit,Branch,1.0,Student,0\\n623.9,Debit,ATM,1.0,Student,0\\n445.41,Debit,ATM,3.0,Doctor,1\\n63.41,Debit,ATM,1.0,Student,0\\n346.85,Debit,ATM,1.0,Doctor,0\\n71.94999999999999,Credit,Online,1.0,Engineer,0\\n7.5,Debit,Online,1.0,Retired,0\\n206.46,Debit,ATM,1.0,Retired,0\\n423.11,Debit,ATM,1.0,Engineer,0\\n35.839999999999975,Credit,Online,1.0,Retired,0\\n88.6,Credit,Branch,1.0,Student,0\\n1431.3,Debit,ATM,1.0,Student,0\\n53.81,Credit,ATM,2.0,Engineer,0\\n22.45999999999998,Debit,Online,1.0,Retired,0\\n334.89,Debit,Online,1.0,Student,0\\n319.27,Credit,Online,1.0,Retired,0\\n144.3,Debit,ATM,1.0,Student,0\\n348.7,Credit,Branch,1.0,Retired,0\\n366.21,Debit,ATM,1.0,Doctor,0\\n99.11000000000001,Debit,Online,1.0,Retired,0\\n539.35,Debit,ATM,1.0,Retired,0\\n188.99,Debit,Branch,1.0,Engineer,0\\n1416.69,Debit,ATM,1.0,Engineer,0\\n710.14,Debit,ATM,1.0,Student,0\\n308.68,Debit,Online,1.0,Doctor,0\\n166.68,Debit,ATM,1.0,Retired,0\\n0.9900000000000091,Debit,ATM,1.0,Engineer,0\\n505.19,Debit,ATM,5.0,Doctor,1\\n66.57999999999998,Debit,Branch,1.0,Student,0\\n223.43,Debit,Branch,1.0,Retired,0\\n659.95,Debit,Online,1.0,Engineer,0\\n634.86,Debit,ATM,1.0,Student,0\\n286.5,Credit,Branch,1.0,Engineer,0\\n322.96,Credit,Branch,1.0,Retired,0\\n654.48,Debit,Branch,1.0,Student,0\\n157.97,Debit,Branch,1.0,Doctor,0\\n120.9,Debit,Branch,1.0,Doctor,0\\n254.77,Debit,Branch,1.0,Engineer,0\\n795.96,Debit,Online,1.0,Retired,0\\n149.25,Debit,ATM,1.0,Engineer,0\\n3.420000000000016,Credit,Online,1.0,Doctor,0\\n68.19,Credit,Online,1.0,Doctor,0\\n493.42,Debit,Branch,1.0,Engineer,0\\n37.56999999999999,Debit,ATM,1.0,Retired,0\\n127.0,Credit,Branch,5.0,Student,1\\n96.88999999999999,Debit,ATM,1.0,Retired,0\\n448.33,Debit,ATM,1.0,Student,0\\n1116.48,Debit,ATM,1.0,Engineer,0\\n8.649999999999977,Debit,Online,1.0,Doctor,0\\n65.57,Debit,Online,1.0,Engineer,0\\n539.81,Debit,Online,1.0,Engineer,0\\n363.53,Debit,ATM,1.0,Retired,0\\n64.9,Credit,Branch,1.0,Retired,0\\n358.18,Debit,ATM,1.0,Student,0\\n167.2,Debit,Branch,1.0,Doctor,0\\n121.91,Debit,Branch,1.0,Doctor,0\\n137.57,Debit,Online,1.0,Engineer,0\\n534.62,Debit,Online,1.0,Doctor,0\\n463.9200000000001,Debit,Online,1.0,Engineer,0\\n320.14,Debit,Online,1.0,Retired,0\\n214.93,Debit,Online,1.0,Student,0\\n660.02,Debit,Branch,1.0,Student,0\\n345.81,Debit,Branch,1.0,Engineer,0\\n143.54,Debit,ATM,1.0,Retired,0\\n42.55000000000004,Debit,Branch,1.0,Engineer,0\\n1063.2499999999998,Credit,Online,1.0,Student,0\\n541.79,Debit,ATM,1.0,Student,0\\n40.56999999999999,Debit,Branch,1.0,Student,0\\n120.24000000000001,Debit,Branch,2.0,Student,0\\n498.67,Debit,Online,1.0,Student,0\\n227.22,Debit,ATM,1.0,Doctor,0\\n1182.86,Debit,Online,1.0,Engineer,0\\n56.94,Credit,Online,1.0,Retired,0\\n629.8199999999999,Debit,ATM,1.0,Retired,0\\n59.44,Debit,Online,1.0,Engineer,0\\n186.69,Debit,Branch,1.0,Engineer,0\\n230.46,Debit,Online,1.0,Student,0\\n65.09,Credit,Online,1.0,Engineer,0\\n457.09,Credit,Online,1.0,Engineer,0\\n552.02,Credit,ATM,1.0,Engineer,0\\n377.12,Debit,ATM,1.0,Engineer,0\\n204.56,Credit,Branch,1.0,Student,0\\n420.28,Debit,Branch,1.0,Doctor,0\\n97.09,Debit,ATM,4.0,Student,1\\n124.59,Debit,Branch,1.0,Student,0\\n73.88,Debit,Online,1.0,Doctor,0\\n77.43,Debit,Online,1.0,Student,0\\n106.15999999999997,Debit,ATM,4.0,Doctor,1\\n245.93,Debit,Branch,1.0,Engineer,0\\n622.41,Debit,ATM,1.0,Doctor,0\\n43.72999999999999,Debit,ATM,1.0,Doctor,0\\n1282.86,Debit,Branch,1.0,Student,0\\n2.0299999999999727,Credit,ATM,1.0,Engineer,0\\n770.65,Debit,Online,1.0,Doctor,0\\n260.31,Debit,Branch,1.0,Doctor,0\\n356.1,Credit,Branch,1.0,Student,0\\n27.069999999999993,Credit,Branch,1.0,Retired,0\\n119.88999999999999,Debit,ATM,1.0,Doctor,0\\n106.38999999999999,Debit,Online,1.0,Doctor,0\\n12.04000000000002,Debit,Online,1.0,Engineer,0\\n365.7,Debit,Branch,2.0,Student,0\\n29.379999999999995,Credit,Branch,1.0,Student,0\\n319.85,Debit,ATM,1.0,Doctor,0\\n350.14,Credit,Online,1.0,Retired,0\\n163.94,Credit,Branch,1.0,Retired,0\\n170.53,Debit,Branch,1.0,Student,0\\n262.22,Credit,ATM,1.0,Engineer,0\\n41.49000000000001,Debit,Online,1.0,Student,0\\n121.43,Credit,Branch,1.0,Engineer,0\\n350.46,Debit,Branch,1.0,Retired,0\\n220.40999999999997,Credit,Online,1.0,Engineer,0\\n33.45999999999998,Debit,ATM,1.0,Retired,0\\n104.79000000000002,Debit,ATM,1.0,Doctor,0\\n246.27,Debit,Online,1.0,Doctor,0\\n48.849999999999994,Debit,ATM,1.0,Student,0\\n332.0,Debit,ATM,1.0,Retired,0\\n118.1,Debit,Online,1.0,Engineer,0\\n84.59,Credit,Branch,1.0,Doctor,0\\n295.64,Debit,Online,1.0,Student,0\\n514.33,Debit,Branch,1.0,Student,0\\n992.1700000000001,Debit,ATM,1.0,Doctor,0\\n94.58999999999997,Debit,Online,1.0,Doctor,0\\n80.43,Debit,Branch,1.0,Retired,0\\n54.25,Debit,Online,1.0,Doctor,0\\n178.88,Credit,Branch,4.0,Retired,1\\n518.85,Debit,Online,1.0,Student,0\\n10.649999999999977,Debit,Online,1.0,Doctor,0\\n198.62,Credit,Branch,1.0,Student,0\\n107.03,Debit,Branch,1.0,Student,0\\n139.57,Debit,ATM,3.0,Student,1\\n312.47,Debit,ATM,4.0,Engineer,1\\n346.11,Debit,Branch,1.0,Engineer,0\\n138.06,Debit,Branch,1.0,Engineer,0\\n158.02,Debit,ATM,1.0,Engineer,0\\n830.01,Credit,Online,1.0,Retired,0\\n435.5,Debit,ATM,1.0,Retired,0\\n110.49000000000001,Debit,Online,1.0,Doctor,0\\n329.4,Debit,Online,1.0,Doctor,0\\n635.4,Debit,ATM,1.0,Doctor,0\\n769.97,Debit,Branch,1.0,Student,0\\n175.07,Debit,Branch,1.0,Student,0\\n7.310000000000002,Debit,Branch,1.0,Retired,0\\n175.14999999999998,Debit,ATM,1.0,Student,0\\n32.54000000000002,Debit,Online,4.0,Student,1\\n121.82,Debit,Online,1.0,Doctor,0\\n56.119999999999976,Debit,ATM,1.0,Doctor,0\\n424.7,Credit,Online,1.0,Retired,0\\n35.160000000000025,Debit,Branch,1.0,Engineer,0\\n35.73000000000002,Debit,Branch,1.0,Doctor,0\\n3.4399999999999977,Debit,ATM,1.0,Retired,0\\n1342.25,Credit,Branch,1.0,Student,0\\n139.03,Credit,Online,1.0,Engineer,0\\n254.92,Credit,ATM,1.0,Engineer,0\\n115.11000000000001,Debit,Online,1.0,Engineer,0\\n171.11,Debit,ATM,1.0,Retired,0\\n168.54,Debit,ATM,2.0,Doctor,0\\n420.76,Debit,Branch,1.0,Retired,0\\n408.46,Debit,Branch,1.0,Retired,0\\n1162.42,Credit,Online,1.0,Doctor,0\\n342.17,Credit,Branch,1.0,Student,0\\n580.71,Debit,ATM,1.0,Engineer,0\\n821.54,Credit,Branch,1.0,Retired,0\\n253.47,Debit,Branch,1.0,Student,0\\n22.810000000000002,Debit,Online,1.0,Retired,0\\n266.57,Credit,Online,1.0,Engineer,0\\n374.61,Credit,Online,1.0,Retired,0\\n339.35,Credit,ATM,1.0,Retired,0\\n810.3600000000001,Debit,ATM,1.0,Student,0\\n9.829999999999984,Debit,ATM,1.0,Student,0\\n135.57,Credit,Branch,1.0,Doctor,0\\n340.05,Debit,ATM,1.0,Engineer,0\\n283.45,Debit,Branch,1.0,Engineer,0\\n100.99000000000001,Debit,ATM,1.0,Doctor,0\\n90.88,Debit,Branch,1.0,Student,0\\n655.15,Debit,ATM,1.0,Engineer,0\\n320.55,Debit,Online,1.0,Engineer,0\\n41.50999999999999,Debit,Online,1.0,Student,0\\n71.52999999999997,Credit,Branch,1.0,Retired,0\\n467.13,Credit,Branch,1.0,Retired,0\\n235.4,Debit,Branch,1.0,Student,0\\n159.32,Debit,Branch,1.0,Student,0\\n50.829999999999984,Credit,Online,1.0,Doctor,0\\n56.889999999999986,Credit,Branch,1.0,Engineer,0\\n20.21999999999997,Debit,ATM,1.0,Engineer,0\\n50.400000000000006,Debit,Branch,1.0,Doctor,0\\n73.88,Debit,Branch,1.0,Retired,0\\n119.60999999999999,Debit,ATM,1.0,Doctor,0\\n1241.05,Debit,Branch,1.0,Student,0\\n116.57999999999998,Debit,Branch,1.0,Engineer,0\\n1919.11,Debit,ATM,1.0,Doctor,0\\n391.96,Debit,ATM,1.0,Retired,0\\n156.26,Credit,Branch,1.0,Engineer,0\\n427.0,Credit,Branch,1.0,Engineer,0\\n443.68,Debit,ATM,1.0,Student,0\\n101.75999999999999,Debit,Branch,1.0,Doctor,0\\n67.57,Debit,Branch,1.0,Engineer,0\\n326.29,Debit,Online,1.0,Engineer,0\\n158.56,Debit,ATM,1.0,Doctor,0\\n56.02000000000004,Debit,Online,1.0,Student,0\\n288.28,Debit,Online,1.0,Student,0\\n245.67,Credit,Branch,1.0,Student,0\\n152.18,Credit,Online,4.0,Engineer,1\\n114.35,Credit,Branch,1.0,Engineer,0\\n373.27,Credit,Online,1.0,Doctor,0\\n504.63,Debit,Online,1.0,Engineer,0\\n126.22,Debit,ATM,4.0,Engineer,1\\n820.1500000000001,Debit,Branch,1.0,Doctor,0\\n986.81,Credit,Online,1.0,Doctor,0\\n8.370000000000005,Debit,ATM,1.0,Retired,0\\n197.49,Credit,Online,1.0,Retired,0\\n637.97,Debit,Branch,1.0,Retired,0\\n13.519999999999982,Debit,ATM,1.0,Student,0\\n432.1,Debit,ATM,1.0,Engineer,0\\n375.17,Debit,ATM,2.0,Engineer,0\\n642.68,Debit,Branch,1.0,Doctor,0\\n78.44,Credit,Online,1.0,Retired,0\\n139.72,Debit,Branch,1.0,Engineer,0\\n499.99,Debit,Branch,1.0,Engineer,0\\n10.069999999999993,Debit,Online,1.0,Student,0\\n120.62,Debit,ATM,1.0,Student,0\\n578.49,Debit,Branch,1.0,Retired,0\\n119.30000000000001,Debit,Branch,5.0,Engineer,1\\n280.92,Debit,Online,1.0,Doctor,0\\n42.420000000000016,Debit,Online,1.0,Student,0\\n77.03,Debit,ATM,1.0,Doctor,0\\n22.589999999999975,Debit,ATM,1.0,Retired,0\\n568.76,Debit,ATM,1.0,Retired,0\\n25.939999999999998,Credit,Online,5.0,Retired,1\\n105.94,Debit,Branch,1.0,Engineer,0\\n733.29,Debit,ATM,5.0,Doctor,1\\n350.15,Credit,ATM,1.0,Student,0\\n1151.18,Debit,ATM,1.0,Doctor,0\\n183.67,Debit,Online,1.0,Student,0\\n278.27,Debit,Branch,1.0,Doctor,0\\n470.3,Debit,ATM,1.0,Doctor,0\\n261.69,Debit,ATM,1.0,Retired,0\\n365.04,Debit,Branch,1.0,Student,0\\n211.1,Debit,Branch,1.0,Retired,0\\n21.49000000000001,Debit,ATM,1.0,Doctor,0\\n63.579999999999984,Debit,ATM,1.0,Student,0\\n321.86,Debit,ATM,1.0,Doctor,0\\n12.110000000000014,Debit,Branch,1.0,Retired,0\\n642.54,Debit,Branch,1.0,Engineer,0\\n210.45,Debit,ATM,1.0,Student,0\\n313.65,Credit,Branch,1.0,Retired,0\\n99.75999999999999,Debit,Branch,1.0,Student,0\\n115.32,Debit,Branch,1.0,Retired,0\\n33.610000000000014,Debit,Online,1.0,Student,0\\n498.59,Credit,Online,1.0,Doctor,0\\n98.81,Debit,Branch,1.0,Student,0\\n1.8700000000000045,Debit,ATM,1.0,Retired,0\\n78.92000000000002,Credit,Online,1.0,Engineer,0\\n194.29,Credit,Branch,1.0,Engineer,0\\n28.730000000000018,Debit,ATM,1.0,Engineer,0\\n105.53,Debit,Online,1.0,Student,0\\n737.34,Debit,Online,1.0,Doctor,0\\n237.86,Debit,ATM,1.0,Student,0\\n409.61,Debit,Branch,1.0,Doctor,0\\n75.53,Credit,Online,1.0,Student,0\\n72.75,Debit,ATM,1.0,Doctor,0\\n39.110000000000014,Debit,Online,1.0,Student,0\\n1309.79,Debit,ATM,1.0,Student,0\\n729.38,Debit,ATM,1.0,Doctor,0\\n137.49,Debit,ATM,1.0,Engineer,0\\n504.71,Debit,Online,1.0,Engineer,0\\n371.47,Credit,Branch,1.0,Student,0\\n430.35,Debit,Online,1.0,Doctor,0\\n230.32,Debit,Branch,1.0,Engineer,0\\n121.70999999999998,Debit,ATM,1.0,Retired,0\\n98.87,Debit,Online,1.0,Student,0\\n117.55000000000001,Debit,ATM,1.0,Student,0\\n244.64,Debit,Branch,1.0,Doctor,0\\n321.93,Debit,ATM,1.0,Engineer,0\\n1092.73,Debit,Branch,1.0,Retired,0\\n283.23,Debit,Online,1.0,Engineer,0\\n346.65,Debit,Online,1.0,Engineer,0\\n381.62,Debit,Online,1.0,Retired,0\\n388.65,Debit,ATM,1.0,Retired,0\\n29.21999999999997,Debit,ATM,1.0,Student,0\\n46.75,Debit,Branch,1.0,Retired,0\\n348.64,Debit,Online,1.0,Retired,0\\n319.17,Debit,Online,1.0,Retired,0\\n73.94999999999999,Debit,ATM,1.0,Student,0\\n389.63,Debit,Online,1.0,Engineer,0\\n217.61,Debit,ATM,1.0,Student,0\\n199.84,Debit,ATM,1.0,Student,0\\n56.349999999999994,Debit,ATM,1.0,Doctor,0\\n248.95,Credit,Branch,1.0,Retired,0\\n142.58,Debit,ATM,1.0,Engineer,0\\n1020.73,Debit,ATM,1.0,Student,0\\n84.34,Debit,Online,3.0,Retired,1\\n1607.55,Debit,ATM,1.0,Engineer,0\\n333.78,Debit,ATM,1.0,Retired,0\\n332.59,Debit,Online,1.0,Retired,0\\n236.81,Debit,Branch,1.0,Student,0\\n417.8,Credit,Branch,1.0,Student,0\\n319.27,Debit,ATM,1.0,Doctor,0\\n384.1,Debit,Branch,1.0,Engineer,0\\n820.6200000000001,Credit,Branch,1.0,Doctor,0\\n474.77,Credit,Online,1.0,Engineer,0\\n542.72,Credit,Branch,1.0,Doctor,0\\n79.80000000000001,Debit,ATM,1.0,Retired,0\\n46.24000000000001,Debit,Branch,1.0,Engineer,0\\n327.8,Debit,ATM,1.0,Doctor,0\\n445.79,Debit,ATM,1.0,Doctor,0\\n55.889999999999986,Debit,Online,1.0,Retired,0\\n158.41,Debit,Branch,1.0,Student,0\\n101.19,Credit,Online,1.0,Doctor,0\\n827.1400000000001,Debit,Branch,4.0,Engineer,1\\n61.97,Debit,ATM,1.0,Retired,0\\n27.20999999999998,Debit,ATM,1.0,Retired,0\\n173.74,Debit,Online,1.0,Retired,0\\n176.11,Debit,Branch,1.0,Engineer,0\\n88.4,Debit,Online,1.0,Engineer,0\\n567.92,Debit,Online,1.0,Retired,0\\n138.11,Credit,Online,1.0,Retired,0\\n456.93,Credit,Branch,1.0,Engineer,0\\n101.42000000000002,Debit,Online,1.0,Retired,0\\n300.61,Debit,Online,1.0,Doctor,0\\n265.94,Debit,Online,1.0,Engineer,0\\n345.54,Debit,Online,1.0,Engineer,0\\n411.52,Debit,ATM,1.0,Doctor,0\\n111.20999999999998,Debit,Branch,1.0,Doctor,0\\n316.37,Debit,ATM,1.0,Engineer,0\\n260.63,Debit,Branch,1.0,Engineer,0\\n92.36000000000001,Debit,ATM,1.0,Engineer,0\\n262.06,Debit,Branch,1.0,Doctor,0\\n64.5,Debit,ATM,1.0,Retired,0\\n253.55,Debit,ATM,5.0,Engineer,1\\n408.28,Credit,Branch,3.0,Student,1\\n175.94,Debit,ATM,1.0,Retired,0\\n199.47,Debit,Online,1.0,Doctor,0\\n51.06999999999999,Debit,Branch,1.0,Retired,0\\n435.86,Debit,ATM,1.0,Retired,0\\n74.73000000000002,Credit,Branch,1.0,Retired,0\\n182.79,Credit,Online,1.0,Student,0\\n628.36,Debit,Online,1.0,Doctor,0\\n268.39,Debit,Online,1.0,Doctor,0\\n362.27,Debit,ATM,1.0,Retired,0\\n560.15,Credit,Online,1.0,Engineer,0\\n351.99,Debit,ATM,2.0,Retired,0\\n132.36,Debit,Branch,1.0,Student,0\\n24.769999999999982,Credit,Online,1.0,Engineer,0\\n668.67,Debit,Online,4.0,Doctor,1\\n80.24000000000001,Credit,Branch,1.0,Doctor,0\\n8.649999999999977,Debit,ATM,1.0,Retired,0\\n178.91,Debit,ATM,1.0,Student,0\\n115.22,Debit,Branch,1.0,Engineer,0\\n161.63,Debit,Online,1.0,Doctor,0\\n542.75,Credit,Branch,1.0,Retired,0\\n317.47,Credit,Online,1.0,Doctor,0\\n280.99,Debit,Branch,1.0,Engineer,0\\n24.189999999999998,Debit,ATM,1.0,Engineer,0\\n586.85,Debit,ATM,1.0,Doctor,0\\n372.41,Debit,ATM,1.0,Retired,0\\n63.170000000000016,Debit,ATM,1.0,Student,0\\n383.69,Debit,Online,1.0,Engineer,0\\n247.17,Credit,Branch,1.0,Retired,0\\n48.78,Credit,Branch,1.0,Student,0\\n4.149999999999977,Credit,Branch,1.0,Retired,0\\n60.99000000000001,Debit,Branch,1.0,Engineer,0\\n408.19,Debit,Branch,1.0,Engineer,0\\n524.6,Debit,Branch,1.0,Doctor,0\\n108.95999999999998,Debit,ATM,1.0,Student,0\\n70.03,Debit,Branch,1.0,Retired,0\\n124.84,Debit,Online,1.0,Retired,0\\n324.04,Debit,ATM,1.0,Retired,0\\n39.69,Debit,Online,1.0,Retired,0\\n157.7,Credit,Branch,1.0,Engineer,0\\n81.26999999999998,Credit,Online,1.0,Student,0\\n193.82,Debit,Branch,1.0,Engineer,0\\n16.730000000000018,Debit,Online,1.0,Retired,0\\n474.05,Debit,ATM,1.0,Retired,0\\n39.20999999999998,Debit,ATM,4.0,Doctor,1\\n637.75,Debit,Branch,1.0,Retired,0\\n153.59,Credit,Branch,1.0,Retired,0\\n186.6,Debit,Branch,1.0,Student,0\\n644.08,Debit,Online,1.0,Student,0\\n226.66,Debit,Branch,1.0,Doctor,0\\n305.0,Debit,ATM,1.0,Student,0\\n233.1,Credit,Branch,1.0,Doctor,0\\n793.13,Debit,Online,1.0,Doctor,0\\n224.19,Debit,ATM,1.0,Doctor,0\\n214.83,Credit,ATM,1.0,Student,0\\n163.46,Credit,Branch,1.0,Retired,0\\n194.99,Debit,Branch,1.0,Engineer,0\\n23.399999999999977,Debit,ATM,4.0,Doctor,1\\n227.5,Debit,Online,1.0,Doctor,0\\n259.9,Debit,Online,1.0,Student,0\\n59.50999999999999,Credit,Online,1.0,Doctor,0\\n50.629999999999995,Debit,Online,1.0,Retired,0\\n1074.95,Debit,Branch,1.0,Student,0\\n112.93999999999997,Credit,Online,1.0,Retired,0\\n11.810000000000002,Debit,ATM,1.0,Student,0\\n329.14,Debit,Branch,1.0,Doctor,0\\n154.24,Debit,ATM,1.0,Retired,0\\n233.44,Debit,Online,1.0,Student,0\\n141.8,Debit,ATM,1.0,Student,0\\n209.03,Debit,Branch,1.0,Engineer,0\\n1137.63,Debit,ATM,1.0,Student,0\\n261.14,Debit,ATM,1.0,Engineer,0\\n101.81,Debit,ATM,1.0,Doctor,0\\n98.70999999999998,Debit,ATM,1.0,Doctor,0\\n87.38,Debit,Branch,1.0,Student,0\\n83.38999999999999,Debit,Branch,1.0,Doctor,0\\n267.55,Debit,Online,1.0,Engineer,0\\n870.05,Debit,ATM,1.0,Doctor,0\\n154.32,Credit,ATM,1.0,Engineer,0\\n164.51,Debit,Branch,1.0,Retired,0\\n758.12,Debit,ATM,1.0,Retired,0\\n103.75999999999999,Debit,Online,1.0,Engineer,0\\n583.92,Debit,Online,1.0,Engineer,0\\n204.06,Debit,Online,1.0,Retired,0\\n53.50999999999999,Debit,Online,1.0,Retired,0\\n1108.4599999999998,Debit,Branch,1.0,Engineer,0\\n52.94999999999999,Credit,Online,1.0,Retired,0\\n120.17000000000002,Debit,ATM,1.0,Doctor,0\\n220.8,Debit,Online,1.0,Engineer,0\\n119.00999999999999,Debit,ATM,1.0,Doctor,0\\n183.32,Debit,ATM,1.0,Student,0\\n858.8800000000001,Debit,Online,1.0,Engineer,0\\n11.45999999999998,Credit,Online,1.0,Engineer,0\\n61.370000000000005,Debit,Branch,1.0,Retired,0\\n103.07999999999998,Credit,Branch,1.0,Engineer,0\\n1.2099999999999795,Debit,Branch,1.0,Retired,0\\n425.18,Credit,Online,1.0,Engineer,0\\n60.96000000000001,Debit,ATM,1.0,Retired,0\\n64.20999999999998,Debit,ATM,1.0,Doctor,0\\n523.02,Debit,Online,1.0,Retired,0\\n50.25999999999999,Debit,Branch,1.0,Retired,0\\n110.07999999999996,Debit,Branch,1.0,Student,0\\n54.47,Credit,Branch,1.0,Student,0\\n79.75999999999999,Debit,Online,1.0,Doctor,0\\n16.79000000000002,Credit,Online,1.0,Doctor,0\\n1531.31,Debit,Online,4.0,Student,1\\n68.61999999999998,Debit,Branch,1.0,Doctor,0\\n157.16,Debit,Branch,1.0,Student,0\\n643.3800000000001,Credit,Online,1.0,Student,0\\n328.34,Credit,Online,1.0,Engineer,0\\n72.68,Debit,Online,1.0,Retired,0\\n354.76,Debit,Branch,1.0,Doctor,0\\n793.88,Credit,ATM,1.0,Student,0\\n29.21999999999997,Debit,ATM,1.0,Engineer,0\\n653.97,Debit,Online,1.0,Engineer,0\\n366.43,Credit,Online,1.0,Student,0\\n120.86000000000001,Debit,Online,4.0,Doctor,1\\n233.74,Debit,Online,1.0,Retired,0\\n471.8399999999999,Debit,ATM,1.0,Student,0\\n213.4,Credit,Branch,1.0,Retired,0\\n254.21,Debit,ATM,1.0,Engineer,0\\n577.73,Debit,ATM,1.0,Doctor,0\\n170.26,Debit,ATM,1.0,Student,0\\n337.73,Debit,Online,4.0,Retired,1\\n330.61,Credit,Branch,1.0,Retired,0\\n132.33,Credit,ATM,1.0,Engineer,0\\n672.74,Credit,Branch,1.0,Engineer,0\\n74.04000000000002,Debit,Online,1.0,Student,0\\n197.18,Debit,Online,1.0,Engineer,0\\n21.149999999999977,Debit,Branch,1.0,Retired,0\\n218.37,Debit,ATM,1.0,Doctor,0\\n590.01,Debit,Online,3.0,Doctor,1\\n697.82,Debit,Online,1.0,Engineer,0\\n302.76,Debit,ATM,3.0,Engineer,1\\n148.0,Debit,Branch,1.0,Student,0\\n22.25999999999999,Debit,Branch,1.0,Student,0\\n0.8600000000000136,Debit,ATM,1.0,Student,0\\n757.1,Debit,Branch,1.0,Doctor,0\\n38.81,Credit,Online,1.0,Student,0\\n76.50999999999999,Credit,Online,4.0,Engineer,1\\n32.45999999999998,Debit,Online,1.0,Doctor,0\\n1022.75,Credit,Branch,1.0,Doctor,0\\n20.639999999999986,Debit,Branch,1.0,Student,0\\n662.11,Debit,Branch,1.0,Student,0\\n288.77,Debit,ATM,1.0,Engineer,0\\n35.05000000000001,Debit,Branch,1.0,Doctor,0\\n214.73,Credit,ATM,1.0,Doctor,0\\n25.379999999999995,Debit,Branch,1.0,Engineer,0\\n617.66,Debit,ATM,1.0,Engineer,0\\n446.39,Debit,ATM,1.0,Retired,0\\n377.92,Debit,Branch,1.0,Engineer,0\\n11.04000000000002,Debit,Online,1.0,Engineer,0\\n275.46,Debit,ATM,1.0,Doctor,0\\n179.76,Debit,Online,1.0,Retired,0\\n32.339999999999975,Debit,Branch,1.0,Doctor,0\\n273.92,Debit,Branch,1.0,Retired,0\\n375.45,Debit,Branch,1.0,Student,0\\n388.98,Debit,ATM,1.0,Student,0\\n492.84,Debit,ATM,1.0,Student,0\\n148.85,Debit,ATM,1.0,Doctor,0\\n119.94999999999999,Credit,Branch,5.0,Retired,1\\n391.66,Debit,Branch,1.0,Engineer,0\\n185.99,Credit,Branch,1.0,Engineer,0\\n322.48,Debit,ATM,1.0,Student,0\\n20.269999999999982,Debit,Branch,1.0,Student,0\\n280.61,Debit,ATM,3.0,Engineer,1\\n199.02,Debit,ATM,1.0,Retired,0\\n104.23000000000002,Credit,Online,1.0,Retired,0\\n353.59,Credit,Branch,5.0,Retired,1\\n55.860000000000014,Debit,Online,1.0,Engineer,0\\n10.769999999999982,Debit,ATM,1.0,Doctor,0\\n95.54999999999998,Debit,Branch,1.0,Engineer,0\\n477.07,Debit,Online,1.0,Engineer,0\\n9.100000000000023,Credit,Online,1.0,Retired,0\\n21.410000000000025,Debit,Online,1.0,Doctor,0\\n278.28,Debit,Branch,1.0,Student,0\\n388.1,Credit,Online,1.0,Retired,0\\n215.39,Debit,ATM,1.0,Student,0\\n194.37,Debit,ATM,1.0,Doctor,0\\n37.69999999999999,Debit,ATM,1.0,Student,0\\n19.589999999999975,Debit,Branch,1.0,Retired,0\\n81.35,Debit,Online,1.0,Engineer,0\\n314.54,Credit,Branch,1.0,Engineer,0\\n466.64,Debit,ATM,1.0,Doctor,0\\n397.01,Debit,ATM,1.0,Student,0\\n472.48,Debit,Branch,1.0,Engineer,0\\n67.15,Debit,Online,1.0,Doctor,0\\n102.67000000000002,Debit,Branch,1.0,Retired,0\\n460.09,Credit,Online,3.0,Doctor,1\\n453.49,Debit,Branch,1.0,Doctor,0\\n267.17,Debit,ATM,1.0,Student,0\\n111.25999999999999,Debit,ATM,1.0,Doctor,0\\n121.17000000000002,Debit,ATM,1.0,Doctor,0\\n213.28,Debit,Branch,1.0,Retired,0\\n187.88,Debit,ATM,1.0,Engineer,0\\n471.88,Credit,Online,1.0,Doctor,0\\n83.79000000000002,Debit,ATM,1.0,Engineer,0\\n212.14,Debit,Branch,1.0,Retired,0\\n99.16,Debit,Online,1.0,Retired,0\\n839.3300000000002,Credit,Branch,1.0,Doctor,0\\n29.910000000000025,Credit,Online,3.0,Retired,1\\n4.240000000000009,Debit,Online,1.0,Engineer,0\\n50.28999999999999,Credit,Online,1.0,Doctor,0\\n135.85,Debit,Online,1.0,Retired,0\\n368.53,Debit,Branch,1.0,Doctor,0\\n17.94999999999999,Credit,Branch,1.0,Doctor,0\\n127.80000000000001,Credit,Branch,1.0,Engineer,0\\n16.730000000000018,Debit,Online,1.0,Engineer,0\\n317.12,Debit,Branch,1.0,Doctor,0\\n476.63,Debit,ATM,1.0,Retired,0\\n156.58,Debit,Branch,1.0,Student,0\\n55.12000000000003,Credit,Online,1.0,Engineer,0\\n15.740000000000009,Debit,Branch,1.0,Student,0\\n353.68,Debit,Online,1.0,Retired,0\\n297.15,Debit,Online,1.0,Retired,0\\n647.85,Debit,Branch,1.0,Doctor,0\\n75.04000000000002,Debit,ATM,1.0,Engineer,0\\n273.92,Debit,Online,1.0,Student,0\\n215.8,Credit,Branch,1.0,Retired,0\\n963.77,Debit,ATM,1.0,Engineer,0\\n420.6,Debit,Branch,1.0,Student,0\\n688.36,Credit,Branch,1.0,Student,0\\n285.18,Credit,Branch,1.0,Doctor,0\\n213.55,Debit,ATM,1.0,Doctor,0\\n463.11,Credit,Branch,1.0,Doctor,0\\n150.03,Debit,ATM,1.0,Retired,0\\n428.61,Debit,Branch,1.0,Retired,0\\n309.56,Debit,Online,1.0,Doctor,0\\n377.08,Credit,Branch,1.0,Student,0\\n77.25000000000003,Debit,Branch,1.0,Doctor,0\\n146.92,Debit,ATM,1.0,Retired,0\\n126.6,Debit,Branch,1.0,Student,0\\n101.33999999999997,Debit,ATM,1.0,Student,0\\n184.97,Debit,Branch,1.0,Doctor,0\\n451.15,Debit,ATM,1.0,Engineer,0\\n516.47,Credit,ATM,1.0,Student,0\\n880.04,Debit,ATM,1.0,Student,0\\n353.69,Debit,Online,1.0,Engineer,0\\n66.69000000000003,Credit,Branch,1.0,Student,0\\n95.75,Debit,Branch,1.0,Engineer,0\\n43.91,Debit,Online,1.0,Student,0\\n98.03,Debit,Branch,1.0,Engineer,0\\n617.66,Debit,ATM,1.0,Engineer,0\\n888.5700000000002,Debit,Online,1.0,Retired,0\\n107.48000000000002,Debit,Branch,1.0,Student,0\\n36.56999999999999,Debit,ATM,1.0,Retired,0\\n575.62,Debit,Online,1.0,Doctor,0\\n84.88999999999999,Debit,ATM,1.0,Engineer,0\\n832.3,Credit,Branch,1.0,Retired,0\\n180.65,Debit,Branch,5.0,Student,1\\n7.759999999999991,Credit,Online,1.0,Retired,0\\n109.30000000000001,Debit,Branch,1.0,Doctor,0\\n230.08,Debit,Online,1.0,Retired,0\\n361.92,Debit,ATM,1.0,Retired,0\\n71.29000000000002,Debit,ATM,2.0,Retired,0\\n122.44999999999999,Debit,Branch,1.0,Doctor,0\\n642.53,Debit,ATM,1.0,Doctor,0\\n62.860000000000014,Debit,Branch,1.0,Student,0\\n175.21,Credit,ATM,1.0,Doctor,0\\n168.0,Credit,Branch,1.0,Engineer,0\\n11.45999999999998,Debit,Online,1.0,Retired,0\\n382.07,Credit,Branch,1.0,Doctor,0\\n13.480000000000018,Debit,Online,3.0,Student,1\\n65.32,Debit,ATM,1.0,Student,0\\n83.07000000000002,Debit,Branch,4.0,Engineer,1\\n730.1,Credit,Branch,1.0,Retired,0\\n85.31,Debit,ATM,1.0,Retired,0\\n726.61,Debit,ATM,1.0,Student,0\\n130.4,Debit,Branch,1.0,Engineer,0\\n68.1,Debit,ATM,1.0,Student,0\\n65.25999999999999,Debit,Branch,1.0,Student,0\\n191.62,Debit,Branch,1.0,Doctor,0\\n212.88,Debit,Online,1.0,Doctor,0\\n88.38,Debit,ATM,1.0,Engineer,0\\n48.77000000000001,Credit,Online,1.0,Engineer,0\\n289.1,Debit,ATM,1.0,Student,0\\n390.09,Debit,Online,1.0,Engineer,0\\n48.28999999999999,Debit,Online,1.0,Engineer,0\\n333.83,Debit,ATM,1.0,Retired,0\\n1074.29,Debit,Branch,1.0,Retired,0\\n100.26999999999998,Debit,Online,1.0,Retired,0\\n44.53999999999999,Debit,ATM,1.0,Engineer,0\\n1156.18,Credit,Online,1.0,Doctor,0\\n82.17000000000002,Debit,Branch,1.0,Student,0\\n1045.45,Debit,Online,1.0,Student,0\\n447.42,Debit,Online,1.0,Engineer,0\\n590.26,Credit,Branch,1.0,Student,0\\n192.73,Debit,Branch,1.0,Retired,0\\n146.01,Debit,Online,1.0,Student,0\\n136.05,Debit,Online,3.0,Student,1\\n11.569999999999993,Credit,Branch,1.0,Retired,0\\n102.34,Debit,Online,1.0,Doctor,0\\n7.819999999999993,Debit,ATM,1.0,Engineer,0\\n79.43,Debit,ATM,1.0,Retired,0\\n386.97,Debit,Branch,1.0,Retired,0\\n51.22,Debit,Branch,1.0,Student,0\\n256.05,Debit,ATM,1.0,Retired,0\\n7.7900000000000205,Debit,Branch,1.0,Doctor,0\\n233.71,Debit,Branch,1.0,Doctor,0\\n176.37,Debit,Branch,1.0,Retired,0\\n122.63,Debit,Branch,1.0,Student,0\\n86.41,Debit,ATM,1.0,Retired,0\\n21.569999999999993,Debit,ATM,1.0,Retired,0\\n82.67000000000002,Debit,Branch,1.0,Student,0\\n451.35,Credit,Branch,1.0,Engineer,0\\n299.42,Credit,Branch,1.0,Retired,0\\n543.47,Debit,ATM,1.0,Student,0\\n346.76,Credit,Branch,1.0,Student,0\\n47.48000000000002,Debit,Branch,1.0,Student,0\\n64.92000000000002,Debit,Branch,1.0,Engineer,0\\n350.72,Credit,ATM,1.0,Student,0\\n3.8000000000000114,Debit,Online,1.0,Doctor,0\\n22.54000000000002,Debit,Online,1.0,Engineer,0\\n767.14,Credit,Branch,1.0,Retired,0\\n167.47,Debit,ATM,1.0,Engineer,0\\n43.650000000000006,Credit,Branch,1.0,Engineer,0\\n391.08,Debit,Online,1.0,Retired,0\\n390.77,Debit,Online,1.0,Doctor,0\\n508.1600000000001,Debit,ATM,1.0,Engineer,0\\n36.75999999999999,Credit,Online,1.0,Retired,0\\n332.33,Debit,ATM,1.0,Student,0\\n362.09,Debit,Branch,1.0,Engineer,0\\n42.579999999999984,Debit,Online,1.0,Doctor,0\\n122.35,Credit,Branch,1.0,Retired,0\\n248.66,Debit,Online,1.0,Engineer,0\\n461.25,Credit,Online,1.0,Doctor,0\\n61.77000000000001,Debit,Branch,1.0,Doctor,0\\n268.92,Debit,Branch,1.0,Engineer,0\\n303.97,Debit,Online,5.0,Student,1\\n219.02,Credit,Online,1.0,Engineer,0\\n125.13999999999999,Debit,Branch,1.0,Student,0\\n47.599999999999994,Debit,Online,1.0,Engineer,0\\n592.82,Debit,Online,1.0,Retired,0\\n372.5,Debit,ATM,1.0,Student,0\\n4.720000000000027,Debit,Branch,1.0,Engineer,0\\n144.93,Debit,Branch,1.0,Engineer,0\\n316.56,Debit,Online,1.0,Engineer,0\\n9.180000000000007,Debit,Online,1.0,Student,0\\n421.25,Debit,Online,1.0,Student,0\\n185.71000000000004,Debit,Branch,1.0,Engineer,0\\n1432.02,Debit,Branch,1.0,Retired,0\\n26.269999999999982,Credit,Online,1.0,Engineer,0\\n297.03,Debit,Online,1.0,Retired,0\\n341.67,Debit,Branch,5.0,Retired,1\\n99.51999999999995,Debit,ATM,1.0,Engineer,0\\n881.1000000000001,Debit,Branch,1.0,Student,0\\n139.69,Debit,Online,1.0,Engineer,0\\n42.72,Debit,ATM,1.0,Engineer,0\\n112.72,Debit,Branch,1.0,Doctor,0\\n568.88,Debit,Branch,1.0,Student,0\\n189.03,Debit,ATM,1.0,Student,0\\n199.8,Debit,ATM,1.0,Student,0\\n189.07999999999998,Debit,Branch,1.0,Doctor,0\\n958.9000000000001,Debit,Branch,1.0,Engineer,0\\n409.59,Debit,Online,1.0,Doctor,0\\n349.34,Credit,ATM,1.0,Student,0\\n283.15,Debit,Online,1.0,Student,0\\n151.82,Debit,ATM,1.0,Retired,0\\n438.59,Debit,Online,1.0,Engineer,0\\n590.57,Debit,ATM,1.0,Retired,0\\n63.74000000000004,Debit,Online,1.0,Retired,0\\n77.01999999999998,Credit,Online,1.0,Doctor,0\\n501.15,Debit,Branch,1.0,Engineer,0\\n917.81,Debit,ATM,2.0,Retired,0\\n8.949999999999989,Debit,Online,1.0,Retired,0\\n173.6,Debit,Online,1.0,Student,0\\n149.40000000000003,Debit,ATM,1.0,Retired,0\\n388.21,Credit,Branch,1.0,Doctor,0\\n484.3,Credit,Online,3.0,Retired,1\\n126.04000000000002,Credit,Branch,1.0,Retired,0\\n52.03999999999999,Credit,Branch,1.0,Doctor,0\\n389.7,Credit,Branch,1.0,Doctor,0\\n161.1,Credit,ATM,1.0,Student,0\\n309.77,Credit,Online,1.0,Retired,0\\n838.5700000000002,Debit,ATM,1.0,Doctor,0\\n202.55,Debit,ATM,2.0,Student,0\\n724.18,Debit,Branch,1.0,Doctor,0\\n124.98000000000002,Debit,ATM,1.0,Student,0\\n487.32,Debit,Branch,1.0,Doctor,0\\n635.91,Credit,Branch,1.0,Doctor,0\\n205.65,Debit,Branch,1.0,Retired,0\\n39.410000000000025,Debit,Branch,1.0,Student,0\\n254.0,Debit,Branch,1.0,Doctor,0\\n436.8,Debit,Branch,1.0,Engineer,0\\n224.73,Debit,Branch,1.0,Retired,0\\n752.69,Credit,ATM,1.0,Doctor,0\\n78.5,Credit,Branch,1.0,Doctor,0\\n50.0,Credit,ATM,1.0,Doctor,0\\n132.42,Debit,ATM,1.0,Student,0\\n11.670000000000016,Debit,Branch,1.0,Retired,0\\n83.16,Debit,ATM,1.0,Retired,0\\n149.02,Credit,Branch,1.0,Engineer,0\\n74.26999999999998,Credit,Online,1.0,Doctor,0\\n876.5700000000002,Credit,ATM,1.0,Retired,0\\n615.58,Debit,ATM,1.0,Doctor,0\\n643.03,Credit,Online,1.0,Engineer,0\\n7.949999999999989,Debit,ATM,1.0,Retired,0\\n270.92,Credit,Branch,1.0,Retired,0\\n499.48,Debit,ATM,1.0,Student,0\\n841.5,Credit,Branch,1.0,Student,0\\n138.82000000000002,Debit,Online,1.0,Retired,0\\n231.46,Credit,Branch,1.0,Engineer,0\\n292.08,Debit,ATM,1.0,Retired,0\\n63.97999999999999,Debit,Online,1.0,Doctor,0\\n235.21,Debit,Branch,1.0,Doctor,0\\n201.73,Debit,Online,1.0,Engineer,0\\n161.31,Debit,ATM,1.0,Student,0\\n18.410000000000025,Debit,Branch,1.0,Doctor,0\\n471.75,Credit,Branch,1.0,Doctor,0\\n290.02,Debit,Branch,1.0,Engineer,0\\n48.05000000000001,Debit,Branch,1.0,Engineer,0\\n359.42,Debit,Branch,1.0,Doctor,0\\n32.910000000000025,Debit,Online,1.0,Student,0\\n3.8000000000000114,Debit,Branch,1.0,Retired,0\\n31.810000000000002,Debit,Online,1.0,Retired,0\\n220.2,Debit,Online,1.0,Student,0\\n476.03,Credit,Branch,1.0,Retired,0\\n141.91,Debit,Branch,1.0,Student,0\\n95.82999999999998,Debit,Online,1.0,Student,0\\n51.150000000000006,Credit,Branch,1.0,Engineer,0\\n1192.2,Credit,Branch,5.0,Retired,1\\n50.75,Debit,ATM,1.0,Doctor,0\\n185.07,Debit,Branch,1.0,Student,0\\n293.54,Debit,Online,1.0,Engineer,0\\n23.379999999999995,Debit,Branch,1.0,Engineer,0\\n285.26,Debit,ATM,1.0,Student,0\\n129.48,Debit,ATM,1.0,Engineer,0\\n743.03,Debit,ATM,1.0,Engineer,0\\n297.86,Credit,ATM,1.0,Student,0\\n231.92,Debit,ATM,1.0,Doctor,0\\n295.82,Credit,Branch,1.0,Engineer,0\\n302.86,Debit,Online,1.0,Doctor,0\\n81.07999999999998,Debit,ATM,1.0,Engineer,0\\n775.6,Credit,Branch,1.0,Retired,0\\n178.43,Debit,Branch,1.0,Student,0\\n211.91,Debit,Online,1.0,Student,0\\n17.20999999999998,Debit,Online,1.0,Student,0\\n124.22,Debit,ATM,1.0,Student,0\\n38.370000000000005,Debit,ATM,1.0,Doctor,0\\n269.79,Debit,ATM,1.0,Engineer,0\\n605.42,Debit,ATM,1.0,Student,0\\n11.189999999999998,Debit,ATM,1.0,Engineer,0\\n29.189999999999998,Credit,Branch,1.0,Doctor,0\\n701.7,Credit,Online,1.0,Retired,0\\n862.3400000000001,Debit,Branch,1.0,Doctor,0\\n410.97,Debit,ATM,1.0,Student,0\\n36.96999999999997,Debit,Branch,1.0,Engineer,0\\n137.59,Debit,ATM,1.0,Doctor,0\\n168.11,Credit,Online,1.0,Doctor,0\\n430.98,Debit,Branch,1.0,Student,0\\n13.870000000000005,Debit,Branch,1.0,Student,0\\n642.68,Debit,ATM,1.0,Retired,0\\n175.07,Debit,Online,2.0,Engineer,0\\n302.82,Debit,ATM,1.0,Engineer,0\\n1647.74,Debit,ATM,1.0,Retired,0\\n406.81,Debit,Online,1.0,Retired,0\\n256.3,Debit,Online,1.0,Retired,0\\n80.95999999999998,Credit,Online,1.0,Student,0\\n95.78,Debit,Online,1.0,Student,0\\n379.54,Credit,Branch,1.0,Doctor,0\\n903.19,Debit,Online,1.0,Student,0\\n142.19,Debit,Branch,4.0,Student,1\\n847.45,Debit,Branch,1.0,Student,0\\n295.18,Credit,Branch,1.0,Doctor,0\\n18.45999999999998,Debit,Branch,1.0,Retired,0\\n603.23,Debit,Branch,1.0,Student,0\\n54.5,Credit,Branch,1.0,Retired,0\\n414.77,Debit,Online,1.0,Doctor,0\\n886.19,Debit,Branch,1.0,Retired,0\\n440.03,Debit,Online,1.0,Engineer,0\\n35.45999999999998,Debit,ATM,1.0,Retired,0\\n76.38999999999996,Debit,Branch,1.0,Student,0\\n595.91,Credit,ATM,1.0,Student,0\\n6.029999999999973,Debit,Branch,1.0,Retired,0\\n249.34,Debit,ATM,1.0,Engineer,0\\n421.52,Debit,Branch,1.0,Student,0\\n189.77,Debit,Branch,1.0,Engineer,0\\n73.19,Debit,Branch,1.0,Retired,0\\n188.13,Credit,Online,1.0,Retired,0\\n30.519999999999982,Debit,Branch,1.0,Doctor,0\\n1235.69,Credit,Branch,1.0,Student,0\\n1159.39,Debit,Online,1.0,Doctor,0\\n170.24,Debit,Branch,1.0,Retired,0\\n56.620000000000005,Debit,Branch,1.0,Doctor,0\\n53.139999999999986,Debit,ATM,1.0,Doctor,0\\n587.23,Debit,Online,1.0,Student,0\\n146.15,Debit,Branch,1.0,Doctor,0\\n21.269999999999982,Credit,Online,1.0,Retired,0\\n1397.59,Credit,ATM,1.0,Student,0\\n76.01999999999998,Credit,Online,1.0,Doctor,0\\n170.19,Credit,Branch,5.0,Student,1\\n155.51,Debit,ATM,1.0,Doctor,0\\n135.15,Debit,Online,1.0,Retired,0\\n39.48000000000002,Debit,ATM,1.0,Retired,0\\n451.68,Debit,Online,1.0,Engineer,0\\n19.110000000000014,Credit,Online,1.0,Engineer,0\\n355.0,Credit,Online,1.0,Student,0\\n427.69,Debit,ATM,1.0,Engineer,0\\n254.86,Debit,Branch,1.0,Student,0\\n19.480000000000018,Debit,ATM,1.0,Engineer,0\\n190.17,Debit,ATM,1.0,Doctor,0\\n91.38,Debit,ATM,1.0,Retired,0\\n206.63,Credit,Online,1.0,Retired,0\\n93.22,Debit,Online,1.0,Retired,0\\n547.98,Debit,ATM,1.0,Student,0\\n641.06,Debit,ATM,1.0,Student,0\\n314.55,Credit,Branch,2.0,Student,0\\n836.45,Debit,Online,1.0,Retired,0\\n1095.09,Debit,ATM,1.0,Engineer,0\\n189.45,Credit,Branch,1.0,Doctor,0\\n91.84,Credit,Branch,1.0,Retired,0\\n609.52,Debit,ATM,1.0,Retired,0\\n859.3,Credit,Branch,1.0,Retired,0\\n100.00999999999999,Debit,ATM,1.0,Doctor,0\\n28.78000000000003,Credit,Online,1.0,Doctor,0\\n111.07999999999998,Debit,Online,1.0,Doctor,0\\n470.96,Credit,Online,2.0,Doctor,0\\n52.22999999999999,Credit,Branch,1.0,Student,0\\n78.62,Debit,Branch,1.0,Doctor,0\\n47.78999999999999,Debit,Branch,1.0,Student,0\\n333.97,Debit,Branch,1.0,Doctor,0\\n30.870000000000005,Debit,ATM,1.0,Doctor,0\\n710.43,Debit,Online,1.0,Retired,0\\n220.23,Debit,ATM,1.0,Engineer,0\\n27.28000000000003,Debit,ATM,1.0,Doctor,0\\n101.51999999999998,Debit,ATM,1.0,Engineer,0\\n162.65,Debit,ATM,1.0,Engineer,0\\n10.519999999999982,Debit,ATM,1.0,Retired,0\\n270.72,Debit,Branch,1.0,Doctor,0\\n202.34,Debit,Online,1.0,Student,0\\n247.58,Debit,ATM,1.0,Engineer,0\\n686.17,Debit,ATM,1.0,Retired,0\\n359.65,Credit,Online,1.0,Student,0\\n109.91,Debit,Branch,1.0,Doctor,0\\n215.72,Credit,Branch,1.0,Engineer,0\\n490.76,Debit,Online,1.0,Retired,0\\n224.28,Debit,Online,1.0,Retired,0\\n614.03,Debit,ATM,1.0,Retired,0\\n608.79,Debit,Online,1.0,Engineer,0\\n186.55,Debit,Branch,1.0,Engineer,0\\n840.1600000000001,Credit,Branch,1.0,Student,0\\n203.34,Debit,ATM,1.0,Doctor,0\\n90.88,Debit,ATM,1.0,Engineer,0\\n60.110000000000014,Credit,Branch,1.0,Retired,0\\n393.92,Debit,Branch,1.0,Retired,0\\n19.389999999999986,Debit,ATM,1.0,Doctor,0\\n557.41,Credit,Online,1.0,Retired,0\\n57.07000000000002,Credit,Online,1.0,Doctor,0\\n395.27,Credit,Online,1.0,Student,0\\n289.05,Debit,ATM,1.0,Retired,0\\n46.110000000000014,Debit,Online,1.0,Doctor,0\\n335.5,Debit,ATM,1.0,Retired,0\\n388.07,Debit,Online,1.0,Student,0\\n520.86,Credit,Online,1.0,Engineer,0\\n787.41,Debit,Online,1.0,Student,0\\n31.69999999999999,Credit,ATM,1.0,Doctor,0\\n22.30000000000001,Debit,ATM,1.0,Student,0\\n203.12,Debit,ATM,1.0,Retired,0\\n315.94,Credit,Branch,1.0,Doctor,0\\n192.23,Debit,Online,3.0,Engineer,1\\n1510.71,Debit,Online,1.0,Retired,0\\n0.2599999999999909,Debit,Online,1.0,Student,0\\n210.77,Debit,ATM,1.0,Retired,0\\n406.65,Debit,ATM,1.0,Doctor,0\\n422.9,Debit,ATM,1.0,Engineer,0\\n20.620000000000005,Credit,ATM,1.0,Doctor,0\\n174.39,Debit,ATM,1.0,Student,0\\n7.860000000000014,Credit,Branch,1.0,Retired,0\\n61.97999999999996,Debit,Online,1.0,Engineer,0\\n54.849999999999994,Credit,Branch,1.0,Retired,0\\n204.7,Debit,Branch,5.0,Doctor,1\\n16.55000000000001,Debit,Branch,1.0,Engineer,0\\n91.32,Debit,Branch,1.0,Engineer,0\\n195.49,Debit,ATM,1.0,Doctor,0\\n49.620000000000005,Debit,ATM,1.0,Engineer,0\\n487.16,Credit,Branch,1.0,Student,0\\n405.6,Debit,Online,1.0,Engineer,0\\n512.95,Debit,Branch,1.0,Engineer,0\\n345.94,Debit,ATM,1.0,Doctor,0\\n356.56,Debit,Online,1.0,Engineer,0\\n10.310000000000002,Debit,Online,1.0,Engineer,0\\n211.69,Debit,Branch,1.0,Doctor,0\\n221.49,Credit,Branch,1.0,Student,0\\n278.23,Debit,Online,1.0,Engineer,0\\n116.88,Debit,ATM,1.0,Doctor,0\\n328.77,Credit,Online,1.0,Doctor,0\\n77.53,Debit,Branch,1.0,Retired,0\\n421.74,Debit,Online,1.0,Doctor,0\\n313.69,Debit,Branch,1.0,Retired,0\\n411.72,Debit,Branch,1.0,Doctor,0\\n508.73,Debit,Branch,1.0,Retired,0\\n153.08,Debit,ATM,1.0,Student,0\\n23.00999999999999,Debit,Branch,1.0,Retired,0\\n69.28,Debit,Online,1.0,Student,0\\n51.25000000000003,Credit,Branch,1.0,Student,0\\n407.65,Debit,ATM,1.0,Student,0\\n459.25,Debit,Branch,1.0,Student,0\\n301.56,Debit,Branch,1.0,Doctor,0\\n17.670000000000016,Debit,Online,1.0,Doctor,0\\n5.2900000000000205,Credit,Online,1.0,Doctor,0\\n401.37,Debit,Branch,1.0,Engineer,0\\n145.4,Debit,Online,1.0,Engineer,0\\n556.34,Debit,Online,1.0,Doctor,0\\n34.31,Debit,ATM,1.0,Student,0\\n780.59,Credit,Online,1.0,Student,0\\n282.65,Debit,ATM,1.0,Doctor,0\\n305.27,Debit,Online,1.0,Doctor,0\\n185.81,Debit,Online,1.0,Doctor,0\\n66.00999999999999,Debit,Online,1.0,Engineer,0\\n447.95,Debit,Branch,1.0,Engineer,0\\n279.3,Debit,ATM,1.0,Student,0\\n26.75,Debit,Online,1.0,Doctor,0\\n611.15,Debit,ATM,1.0,Student,0\\n275.2,Debit,Online,1.0,Engineer,0\\n427.79,Debit,Branch,1.0,Student,0\\n469.13,Credit,ATM,1.0,Doctor,0\\n102.81,Debit,Branch,1.0,Retired,0\\n22.610000000000014,Debit,Online,1.0,Student,0\\n68.28,Debit,Online,1.0,Engineer,0\\n33.64999999999998,Credit,Online,1.0,Doctor,0\\n362.68,Credit,ATM,1.0,Retired,0\\n73.23000000000002,Debit,Branch,1.0,Student,0\\n654.49,Credit,Online,1.0,Student,0\\n18.560000000000002,Credit,Branch,1.0,Engineer,0\\n389.05,Debit,ATM,1.0,Student,0\\n7.3799999999999955,Debit,Online,1.0,Retired,0\\n109.48000000000002,Debit,Online,1.0,Retired,0\\n66.91,Debit,ATM,1.0,Doctor,0\\n335.48,Debit,Branch,1.0,Engineer,0\\n38.139999999999986,Debit,Online,1.0,Student,0\\n1076.98,Debit,Branch,1.0,Doctor,0\\n360.02,Debit,Online,1.0,Retired,0\\n567.71,Debit,Online,1.0,Doctor,0\\n218.19,Debit,ATM,1.0,Student,0\\n209.99,Debit,ATM,1.0,Student,0\\n11.019999999999982,Debit,Branch,1.0,Student,0\\n83.43,Debit,Online,1.0,Retired,0\\n344.97,Debit,Online,1.0,Doctor,0\\n172.29000000000002,Debit,ATM,1.0,Engineer,0\\n195.54,Debit,Online,1.0,Retired,0\\n101.23000000000005,Debit,Online,1.0,Engineer,0\\n180.46,Debit,ATM,1.0,Student,0\\n692.55,Debit,Branch,1.0,Retired,0\\n147.31,Credit,Online,1.0,Doctor,0\\n107.48000000000002,Debit,Branch,1.0,Student,0\\n1831.02,Credit,Online,1.0,Doctor,0\\n81.50999999999999,Debit,Branch,1.0,Student,0\\n365.48,Credit,Online,1.0,Retired,0\\n491.1,Credit,Online,1.0,Engineer,0\\n452.8,Debit,Branch,1.0,Retired,0\\n645.04,Debit,Branch,1.0,Retired,0\\n169.28,Debit,Branch,1.0,Doctor,0\\n88.42000000000002,Debit,ATM,1.0,Doctor,0\\n155.53,Debit,ATM,1.0,Engineer,0\\n991.8200000000002,Debit,Online,1.0,Engineer,0\\n39.24000000000001,Debit,ATM,1.0,Retired,0\\n152.01,Debit,ATM,3.0,Engineer,1\\n78.76999999999998,Credit,ATM,1.0,Engineer,0\\n26.5,Debit,Online,1.0,Engineer,0\\n83.62,Debit,ATM,1.0,Doctor,0\\n142.78,Debit,Branch,1.0,Doctor,0\\n55.99000000000001,Debit,ATM,1.0,Doctor,0\\n774.48,Debit,Branch,1.0,Doctor,0\\n105.37,Debit,ATM,1.0,Student,0\\n118.82999999999998,Debit,Online,1.0,Student,0\\n46.22,Debit,Branch,1.0,Student,0\\n659.71,Credit,Branch,1.0,Student,0\\n377.97,Debit,Online,1.0,Retired,0\\n114.1,Debit,Branch,1.0,Retired,0\\n11.300000000000011,Credit,Online,1.0,Retired,0\\n95.50000000000003,Debit,Online,1.0,Retired,0\\n130.93,Credit,Branch,1.0,Engineer,0\\n272.97,Debit,Online,1.0,Retired,0\\n73.35,Debit,Branch,1.0,Student,0\\n29.939999999999998,Debit,ATM,1.0,Doctor,0\\n307.24,Debit,ATM,2.0,Student,0\\n50.52000000000001,Debit,Online,1.0,Student,0\\n820.46,Credit,Online,1.0,Engineer,0\\n153.07,Debit,ATM,1.0,Engineer,0\\n52.94,Debit,Branch,1.0,Doctor,0\\n384.41,Debit,ATM,1.0,Engineer,0\\n235.42,Debit,Branch,1.0,Retired,0\\n114.23000000000002,Debit,ATM,1.0,Doctor,0\\n12.620000000000005,Debit,Branch,1.0,Doctor,0\\n997.3699999999999,Debit,ATM,1.0,Student,0\\n373.52,Debit,ATM,1.0,Engineer,0\\n336.05,Debit,Branch,1.0,Student,0\\n366.93,Debit,Online,1.0,Retired,0\\n112.26999999999998,Debit,Branch,1.0,Doctor,0\\n494.9599999999999,Debit,ATM,1.0,Engineer,0\\n561.58,Debit,Online,1.0,Doctor,0\\n440.94,Debit,Online,1.0,Doctor,0\\n71.9,Debit,Branch,1.0,Doctor,0\\n256.66,Credit,Online,1.0,Retired,0\\n166.55,Credit,Branch,1.0,Doctor,0\\n276.26,Debit,Branch,1.0,Doctor,0\\n35.45999999999998,Debit,ATM,1.0,Doctor,0\\n38.139999999999986,Debit,Branch,1.0,Engineer,0\\n506.26,Credit,ATM,1.0,Retired,0\\n736.32,Debit,Online,1.0,Doctor,0\\n389.43,Credit,ATM,1.0,Engineer,0\\n25.579999999999984,Debit,ATM,1.0,Engineer,0\\n446.1,Debit,ATM,1.0,Student,0\\n147.74,Debit,Branch,1.0,Student,0\\n1228.81,Debit,ATM,1.0,Student,0\\n46.22999999999999,Debit,Online,1.0,Retired,0\\n265.37,Debit,Branch,1.0,Engineer,0\\n342.57,Debit,Online,1.0,Student,0\\n417.26,Credit,Online,1.0,Doctor,0\\n33.629999999999995,Debit,Online,1.0,Retired,0\\n64.57999999999998,Debit,Branch,1.0,Retired,0\\n23.230000000000018,Credit,Branch,1.0,Student,0\\n160.52,Credit,ATM,1.0,Retired,0\\n278.88,Debit,Branch,2.0,Doctor,0\\n285.49,Credit,Branch,1.0,Doctor,0\\n71.87,Debit,ATM,1.0,Student,0\\n308.8,Debit,ATM,1.0,Retired,0\\n135.35,Debit,Branch,1.0,Engineer,0\\n288.43,Debit,Branch,1.0,Retired,0\\n147.46000000000004,Credit,Online,1.0,Doctor,0\\n214.15,Debit,Branch,1.0,Engineer,0\\n71.34,Debit,Online,3.0,Engineer,1\\n170.36,Debit,ATM,1.0,Doctor,0\\n965.6599999999999,Debit,ATM,1.0,Engineer,0\\n736.53,Debit,ATM,1.0,Engineer,0\\n213.42,Debit,ATM,1.0,Engineer,0\\n94.09,Debit,Branch,1.0,Student,0\\n91.23000000000002,Debit,ATM,1.0,Retired,0\\n263.92,Credit,Branch,1.0,Retired,0\\n77.5,Credit,Online,1.0,Doctor,0\\n3.6499999999999773,Debit,Online,1.0,Doctor,0\\n43.879999999999995,Credit,Online,1.0,Student,0\\n591.98,Debit,ATM,1.0,Student,0\\n224.79,Debit,Online,1.0,Student,0\\n64.30000000000001,Debit,ATM,1.0,Retired,0\\n111.79000000000005,Debit,Online,1.0,Doctor,0\\n927.1600000000001,Debit,ATM,1.0,Retired,0\\n613.7,Credit,Branch,1.0,Retired,0\\n26.069999999999993,Debit,Branch,3.0,Student,1\\n170.45,Debit,Branch,1.0,Engineer,0\\n344.27,Debit,Branch,1.0,Student,0\\n872.72,Debit,Online,1.0,Student,0\\n292.95,Debit,Branch,1.0,Engineer,0\\n28.439999999999998,Debit,ATM,1.0,Student,0\\n209.02,Debit,ATM,1.0,Student,0\\n20.05000000000001,Debit,ATM,1.0,Retired,0\\n175.02,Debit,Online,1.0,Student,0\\n89.5,Credit,Branch,1.0,Engineer,0\\n69.95999999999998,Debit,Branch,1.0,Student,0\\n146.51,Debit,ATM,1.0,Engineer,0\\n376.78,Credit,Online,1.0,Student,0\\n148.53999999999996,Credit,Branch,1.0,Retired,0\\n388.77,Credit,Online,1.0,Student,0\\n100.38000000000002,Debit,Branch,1.0,Doctor,0\\n137.23,Debit,Branch,1.0,Doctor,0\\n870.3,Debit,ATM,1.0,Retired,0\\n458.94,Debit,Branch,1.0,Engineer,0\\n327.35,Credit,Branch,1.0,Student,0\\n757.15,Debit,Online,1.0,Engineer,0\\n5.639999999999986,Debit,Online,1.0,Doctor,0\\n47.22999999999999,Credit,Online,1.0,Retired,0\\n239.41,Credit,Online,1.0,Doctor,0\\n7.480000000000018,Debit,ATM,1.0,Engineer,0\\n170.97,Debit,Branch,1.0,Student,0\\n262.43,Credit,Online,5.0,Doctor,1\\n659.15,Debit,ATM,1.0,Student,0\\n31.53000000000003,Debit,Online,1.0,Student,0\\n111.66,Credit,Online,1.0,Engineer,0\\n250.01,Debit,ATM,1.0,Retired,0\\n554.15,Debit,ATM,1.0,Doctor,0\\n598.66,Credit,Branch,1.0,Engineer,0\\n28.379999999999995,Debit,Branch,1.0,Doctor,0\\n16.80000000000001,Debit,ATM,1.0,Doctor,0\\n896.79,Debit,Online,1.0,Doctor,0\\n159.0,Debit,ATM,1.0,Engineer,0\\n56.31,Credit,Online,1.0,Retired,0\\n203.99,Debit,Online,1.0,Retired,0\\n50.99000000000001,Debit,Branch,1.0,Doctor,0\\n101.28000000000003,Credit,Online,1.0,Engineer,0\\n299.92,Debit,ATM,1.0,Student,0\\n77.54000000000002,Debit,Online,1.0,Retired,0\\n18.350000000000023,Debit,Branch,1.0,Student,0\\n732.53,Credit,ATM,1.0,Student,0\\n65.11000000000001,Debit,ATM,1.0,Engineer,0\\n67.07,Credit,ATM,1.0,Student,0\\n137.48,Debit,Branch,1.0,Doctor,0\\n398.36,Debit,ATM,1.0,Student,0\\n469.46,Debit,ATM,1.0,Student,0\\n37.579999999999984,Debit,ATM,1.0,Doctor,0\\n160.24,Debit,ATM,1.0,Engineer,0\\n315.39,Credit,Branch,1.0,Student,0\\n434.17,Debit,ATM,5.0,Student,1\\n165.91,Debit,ATM,1.0,Student,0\\n211.36,Debit,Branch,1.0,Engineer,0\\n241.45,Debit,Online,1.0,Student,0\\n23.24000000000001,Debit,Branch,1.0,Doctor,0\\n70.88,Credit,Branch,1.0,Retired,0\\n1143.67,Debit,Online,1.0,Retired,0\\n314.52,Debit,ATM,1.0,Retired,0\\n181.81,Credit,Online,1.0,Retired,0\\n854.6400000000001,Debit,Branch,1.0,Retired,0\\n261.19,Debit,ATM,1.0,Retired,0\\n220.68,Credit,Online,1.0,Retired,0\\n11.860000000000014,Debit,Branch,1.0,Engineer,0\\n122.65,Debit,Online,1.0,Student,0\\n395.16,Debit,Online,1.0,Retired,0\\n704.69,Debit,Online,1.0,Retired,0\\n369.89,Debit,ATM,1.0,Retired,0\\n10.920000000000016,Debit,ATM,1.0,Retired,0\\n199.14,Debit,Branch,1.0,Engineer,0\\n109.43,Debit,ATM,1.0,Retired,0\\n304.15,Debit,Branch,1.0,Student,0\\n620.54,Credit,Branch,1.0,Student,0\\n757.79,Debit,Online,1.0,Student,0\\n122.81,Debit,Branch,1.0,Doctor,0\\n96.25,Debit,Online,1.0,Retired,0\\n1431.33,Debit,ATM,1.0,Doctor,0\\n142.55,Debit,Online,1.0,Doctor,0\\n35.94,Credit,Branch,1.0,Student,0\\n24.860000000000014,Debit,Branch,1.0,Engineer,0\\n103.07999999999998,Debit,Online,1.0,Doctor,0\\n116.26999999999998,Debit,Online,1.0,Engineer,0\\n363.84,Debit,Online,3.0,Retired,1\\n34.74000000000001,Credit,Online,1.0,Retired,0\\n64.00999999999999,Credit,Branch,1.0,Student,0\\n108.75,Debit,ATM,4.0,Doctor,1\\n50.900000000000006,Credit,Online,1.0,Student,0\\n206.84,Debit,Branch,1.0,Student,0\\n37.39999999999998,Debit,ATM,1.0,Student,0\\n154.21,Debit,Online,1.0,Engineer,0\\n199.37,Debit,Online,1.0,Student,0\\n410.49,Credit,Branch,1.0,Student,0\\n1360.01,Credit,Branch,1.0,Retired,0\\n18.230000000000018,Debit,ATM,1.0,Engineer,0\\n398.7,Debit,ATM,1.0,Doctor,0\\n122.13999999999999,Debit,Online,1.0,Student,0\\n378.2,Debit,Branch,1.0,Engineer,0\\n124.74000000000001,Debit,ATM,1.0,Engineer,0\\n17.100000000000023,Debit,ATM,1.0,Retired,0\\n287.05,Debit,ATM,1.0,Student,0\\n874.72,Debit,Online,1.0,Engineer,0\\n1762.2800000000002,Debit,ATM,1.0,Student,0\\n40.120000000000005,Credit,ATM,1.0,Doctor,0\\n125.0,Credit,Online,1.0,Engineer,0\\n348.44,Debit,Online,1.0,Student,0\\n128.4,Debit,ATM,1.0,Retired,0\\n320.93,Debit,Online,1.0,Engineer,0\\n1.410000000000025,Debit,ATM,1.0,Retired,0\\n50.52000000000001,Debit,Branch,1.0,Doctor,0\\n383.95,Credit,Online,1.0,Engineer,0\\n12.939999999999998,Debit,Branch,1.0,Student,0\\n329.75,Debit,Online,1.0,Retired,0\\n981.76,Debit,Online,1.0,Doctor,0\\n40.79000000000002,Debit,ATM,1.0,Student,0\\n99.25,Credit,Online,1.0,Retired,0\\n150.6,Debit,ATM,1.0,Retired,0\\n29.5,Debit,Online,1.0,Retired,0\\n54.34,Debit,ATM,1.0,Doctor,0\\n18.25,Debit,ATM,1.0,Doctor,0\\n633.87,Debit,Online,1.0,Student,0\\n81.14999999999998,Debit,ATM,1.0,Student,0\\n83.94999999999999,Debit,Online,1.0,Retired,0\\n410.4,Credit,ATM,1.0,Retired,0\\n172.68,Debit,ATM,1.0,Doctor,0\\n139.87999999999997,Debit,ATM,1.0,Engineer,0\\n165.55,Debit,Branch,1.0,Student,0\\n53.78999999999999,Credit,ATM,3.0,Engineer,1\\n285.69,Debit,ATM,1.0,Retired,0\\n532.4,Debit,ATM,1.0,Student,0\\n293.85,Debit,Online,1.0,Student,0\\n27.939999999999998,Debit,Branch,1.0,Retired,0\\n270.36,Debit,ATM,1.0,Student,0\\n112.66,Debit,Online,3.0,Engineer,1\\n506.03,Debit,Branch,1.0,Student,0\\n206.95,Debit,Branch,1.0,Student,0\\n350.96,Debit,ATM,1.0,Retired,0\\n261.63,Debit,Branch,1.0,Student,0\\n46.120000000000005,Debit,Branch,1.0,Doctor,0\\n27.25,Credit,Branch,1.0,Retired,0\\n1353.93,Debit,Branch,1.0,Engineer,0\\n331.66,Debit,ATM,1.0,Retired,0\\n667.95,Credit,ATM,1.0,Doctor,0\\n49.84,Debit,ATM,1.0,Doctor,0\\n556.04,Debit,ATM,1.0,Retired,0\\n88.06,Credit,Online,1.0,Student,0\\n745.95,Debit,ATM,1.0,Doctor,0\\n67.25,Debit,Online,1.0,Student,0\\n93.63000000000002,Debit,ATM,1.0,Engineer,0\\n74.11000000000001,Debit,Branch,1.0,Student,0\\n41.129999999999995,Credit,Branch,1.0,Retired,0\\n192.02,Credit,Online,1.0,Retired,0\\n291.27,Debit,Branch,1.0,Retired,0\\n296.46,Debit,Branch,1.0,Student,0\\n341.84,Credit,Branch,1.0,Student,0\\n98.41000000000003,Debit,Online,1.0,Student,0\\n109.28,Debit,Online,4.0,Engineer,1\\n27.50999999999999,Credit,Online,1.0,Doctor,0\\n12.180000000000007,Debit,Branch,1.0,Retired,0\\n207.71,Credit,Online,1.0,Student,0\\n25.769999999999982,Credit,Online,1.0,Doctor,0\\n127.57,Debit,ATM,1.0,Retired,0\\n392.05,Debit,ATM,1.0,Engineer,0\\n521.01,Credit,Branch,1.0,Engineer,0\\n849.76,Debit,ATM,1.0,Student,0\\n172.5,Debit,Online,1.0,Doctor,0\\n265.44,Debit,ATM,1.0,Engineer,0\\n152.34,Debit,Branch,1.0,Doctor,0\\n21.129999999999995,Debit,Branch,1.0,Student,0\\n111.55000000000001,Debit,ATM,1.0,Doctor,0\\n321.82,Credit,Branch,1.0,Engineer,0\\n1294.81,Credit,Branch,1.0,Engineer,0\\n148.77,Debit,Branch,1.0,Retired,0\\n14.079999999999984,Debit,Branch,1.0,Retired,0\\n1283.97,Debit,ATM,1.0,Doctor,0\\n566.33,Credit,ATM,1.0,Student,0\\n206.51,Debit,ATM,1.0,Retired,0\\n180.94,Debit,Branch,1.0,Retired,0\\n77.9,Debit,Branch,1.0,Student,0\\n318.92,Credit,Branch,1.0,Student,0\\n583.3,Credit,Online,1.0,Engineer,0\\n100.68,Debit,Online,1.0,Retired,0\\n589.6399999999999,Debit,Online,1.0,Retired,0\\n225.93,Credit,Branch,1.0,Student,0\\n651.55,Debit,Online,1.0,Retired,0\\n80.97,Debit,Online,1.0,Doctor,0\\n191.89,Debit,Branch,1.0,Student,0\\n304.75,Credit,Branch,1.0,Retired,0\\n201.53,Debit,Online,1.0,Retired,0\\n8.449999999999989,Debit,ATM,1.0,Student,0\\n435.98,Debit,Branch,1.0,Engineer,0\\n743.24,Credit,Online,1.0,Student,0\\n16.269999999999982,Debit,ATM,1.0,Doctor,0\\n290.86,Debit,Online,1.0,Doctor,0\\n85.73000000000002,Debit,ATM,1.0,Doctor,0\\n555.71,Credit,Branch,1.0,Student,0\\n40.03000000000003,Debit,Branch,1.0,Student,0\\n73.00999999999999,Credit,Online,1.0,Student,0\\n346.12,Debit,Branch,1.0,Doctor,0\\n1.9300000000000068,Debit,Branch,5.0,Doctor,1\\n252.93,Debit,ATM,1.0,Retired,0\\n238.54,Debit,ATM,4.0,Student,1\\n1011.22,Debit,Branch,1.0,Retired,0\\n58.69999999999999,Debit,Branch,1.0,Doctor,0\\n7.560000000000002,Debit,ATM,1.0,Doctor,0\\n540.4,Debit,Branch,1.0,Doctor,0\\n264.14,Debit,ATM,1.0,Doctor,0\\n248.15,Debit,ATM,1.0,Retired,0\\n24.339999999999975,Debit,Branch,1.0,Engineer,0\\n428.61,Debit,ATM,1.0,Doctor,0\\n117.66000000000003,Credit,Branch,1.0,Doctor,0\\n165.8,Debit,Online,1.0,Engineer,0\\n289.18,Debit,ATM,1.0,Retired,0\\n125.39000000000001,Debit,ATM,1.0,Student,0\\n305.18,Debit,Online,1.0,Retired,0\\n506.9,Credit,Branch,1.0,Doctor,0\\n504.12,Credit,Branch,1.0,Student,0\\n42.09,Debit,Branch,1.0,Engineer,0\\n607.28,Debit,ATM,1.0,Doctor,0\\n91.9,Debit,Online,1.0,Retired,0\\n303.43,Debit,Branch,1.0,Student,0\\n668.78,Debit,ATM,1.0,Student,0\\n270.54,Credit,ATM,1.0,Student,0\\n247.93,Debit,Branch,1.0,Engineer,0\\n34.670000000000016,Debit,Online,1.0,Student,0\\n326.03,Credit,Online,1.0,Student,0\\n148.26,Debit,ATM,1.0,Student,0\\n1086.6,Debit,Online,1.0,Student,0\\n373.99,Debit,ATM,1.0,Doctor,0\\n254.34,Debit,Online,1.0,Engineer,0\\n819.48,Debit,ATM,1.0,Student,0\\n14.0,Debit,ATM,1.0,Engineer,0\\n57.16,Debit,ATM,1.0,Engineer,0\\n282.26,Debit,Online,1.0,Engineer,0\\n46.96000000000001,Debit,Online,1.0,Engineer,0\\n473.2,Debit,Online,1.0,Doctor,0\\n192.97000000000003,Debit,ATM,1.0,Retired,0\\n168.99,Debit,ATM,1.0,Student,0\\n1.8199999999999932,Debit,Online,1.0,Retired,0\\n40.89999999999998,Debit,ATM,1.0,Doctor,0\\n78.91,Debit,Online,1.0,Doctor,0\\n169.97,Credit,ATM,1.0,Student,0\\n17.79000000000002,Debit,Branch,5.0,Retired,1\\n486.61,Credit,ATM,1.0,Engineer,0\\n148.13,Debit,Branch,1.0,Retired,0\\n164.52,Debit,ATM,1.0,Doctor,0\\n720.89,Debit,ATM,1.0,Student,0\\n268.7,Debit,ATM,1.0,Retired,0\\n637.34,Debit,ATM,1.0,Retired,0\\n216.76,Credit,Online,1.0,Engineer,0\\n418.02,Debit,ATM,1.0,Doctor,0\\n292.03,Credit,ATM,1.0,Engineer,0\\n251.4,Debit,ATM,1.0,Retired,0\\n184.56,Debit,Online,1.0,Student,0\\n33.75999999999999,Debit,Online,1.0,Engineer,0\\n253.46,Debit,ATM,1.0,Engineer,0\\n1612.3699999999997,Debit,ATM,1.0,Retired,0\\n138.68,Credit,Branch,1.0,Student,0\\n42.56,Debit,Online,1.0,Student,0\\n680.76,Debit,Branch,1.0,Student,0\\n53.829999999999984,Debit,Branch,1.0,Retired,0\\n11.089999999999975,Debit,Branch,1.0,Engineer,0\\n37.81,Debit,Branch,1.0,Retired,0\\n449.18,Debit,Online,1.0,Retired,0\\n1135.8,Debit,ATM,1.0,Doctor,0\\n297.6,Debit,Online,1.0,Doctor,0\\n683.75,Debit,Branch,1.0,Doctor,0\\n21.399999999999977,Credit,Online,1.0,Engineer,0\\n315.94,Debit,ATM,1.0,Retired,0\\n331.32,Debit,Branch,5.0,Doctor,1\\n223.76,Credit,Branch,1.0,Retired,0\\n216.03000000000003,Debit,ATM,1.0,Doctor,0\\n17.420000000000016,Debit,ATM,1.0,Retired,0\\n491.91,Debit,Online,1.0,Retired,0\\n350.11,Credit,Online,1.0,Retired,0\\n218.07,Debit,Branch,1.0,Student,0\\n291.09,Debit,Branch,1.0,Engineer,0\\n422.14,Credit,Branch,1.0,Student,0\\n613.21,Debit,ATM,1.0,Retired,0\\n73.82999999999998,Debit,Online,1.0,Doctor,0\\n67.32999999999998,Debit,Online,1.0,Engineer,0\\n26.920000000000016,Debit,ATM,1.0,Retired,0\\n18.30000000000001,Debit,Online,1.0,Engineer,0\\n317.94,Debit,ATM,1.0,Engineer,0\\n179.38,Debit,Online,1.0,Doctor,0\\n918.95,Debit,Online,1.0,Doctor,0\\n13.920000000000016,Debit,ATM,1.0,Engineer,0\\n365.43,Debit,ATM,1.0,Student,0\\n263.59,Debit,Branch,1.0,Retired,0\\n54.80000000000001,Debit,Branch,1.0,Engineer,0\\n141.49,Debit,Online,1.0,Student,0\\n31.389999999999986,Debit,ATM,1.0,Student,0\\n93.82,Debit,Online,1.0,Engineer,0\\n5.7099999999999795,Debit,Branch,1.0,Student,0\\n178.39,Debit,Online,1.0,Engineer,0\\n126.91,Debit,ATM,1.0,Student,0\\n36.089999999999975,Debit,Branch,1.0,Doctor,0\\n91.77000000000001,Debit,Branch,1.0,Doctor,0\\n198.92,Debit,Online,1.0,Engineer,0\\n137.81,Debit,Branch,1.0,Engineer,0\\n136.88,Credit,Branch,1.0,Student,0\\n133.07000000000002,Debit,Branch,1.0,Student,0\\n1.1399999999999864,Debit,Branch,1.0,Doctor,0\\n256.34,Debit,Branch,1.0,Retired,0\\n56.109999999999985,Debit,Branch,1.0,Doctor,0\\n118.1,Debit,ATM,1.0,Engineer,0\\n137.85999999999999,Credit,Online,1.0,Doctor,0\\n813.78,Credit,ATM,1.0,Doctor,0\\n237.97,Debit,ATM,1.0,Doctor,0\\n684.96,Debit,ATM,1.0,Student,0\\n878.6300000000001,Debit,ATM,1.0,Engineer,0\\n276.56,Debit,Branch,1.0,Doctor,0\\n8.75,Debit,ATM,1.0,Retired,0\\n637.48,Debit,Online,1.0,Retired,0\\n103.15,Debit,Branch,1.0,Doctor,0\\n505.6,Debit,Branch,1.0,Retired,0\\n371.86,Debit,ATM,1.0,Doctor,0\\n14.259999999999991,Debit,Branch,1.0,Engineer,0\\n13.160000000000025,Debit,Branch,1.0,Engineer,0\\n167.92,Debit,ATM,2.0,Doctor,0\\n73.00999999999999,Debit,ATM,1.0,Retired,0\\n201.5,Credit,Online,1.0,Doctor,0\\n150.30000000000004,Debit,Online,1.0,Doctor,0\\n23.69999999999999,Debit,ATM,1.0,Doctor,0\\n49.59,Debit,Branch,1.0,Engineer,0\\n720.13,Credit,ATM,1.0,Student,0\\n134.92,Debit,Online,1.0,Student,0\\n116.97,Debit,ATM,1.0,Student,0\\n11.060000000000002,Debit,ATM,3.0,Engineer,1\\n88.29000000000002,Credit,Online,1.0,Engineer,0\\n5.810000000000002,Debit,ATM,1.0,Student,0\\n103.48000000000002,Debit,ATM,1.0,Engineer,0\\n156.74,Debit,ATM,1.0,Retired,0\\n505.14,Debit,ATM,1.0,Retired,0\\n31.060000000000002,Debit,ATM,1.0,Doctor,0\\n7.610000000000014,Debit,ATM,1.0,Doctor,0\\n276.16,Credit,ATM,1.0,Retired,0\\n145.77,Debit,ATM,1.0,Retired,0\\n369.44,Debit,Online,1.0,Engineer,0\\n558.86,Debit,ATM,1.0,Doctor,0\\n429.15,Debit,Branch,1.0,Student,0\\n36.74000000000001,Debit,Branch,1.0,Doctor,0\\n79.13999999999999,Credit,Online,1.0,Retired,0\\n132.48,Debit,Branch,1.0,Engineer,0\\n136.48,Debit,Online,4.0,Engineer,1\\n203.76,Debit,Branch,1.0,Retired,0\\n750.95,Debit,Branch,1.0,Retired,0\\n0.8400000000000318,Debit,ATM,1.0,Engineer,0\\n257.18,Debit,Online,1.0,Doctor,0\\n767.66,Debit,ATM,1.0,Doctor,0\\n182.29,Debit,Online,1.0,Doctor,0\\n184.51,Credit,Online,1.0,Doctor,0\\n451.31,Debit,ATM,5.0,Retired,1\\n144.1,Debit,Branch,1.0,Doctor,0\\n72.49999999999997,Debit,ATM,1.0,Doctor,0\\n74.11000000000001,Credit,Online,4.0,Retired,1\\n22.149999999999977,Debit,Branch,1.0,Doctor,0\\n777.92,Debit,Branch,1.0,Doctor,0\\n790.07,Debit,Online,1.0,Student,0\\n406.33,Credit,Branch,1.0,Engineer,0\\n767.41,Debit,ATM,1.0,Doctor,0\\n4.579999999999984,Credit,Online,1.0,Student,0\\n447.83,Credit,Branch,1.0,Doctor,0\\n49.670000000000016,Debit,Online,1.0,Student,0\\n77.82999999999998,Credit,Branch,1.0,Engineer,0\\n702.87,Debit,ATM,1.0,Student,0\\n133.56,Debit,Online,1.0,Student,0\\n868.05,Credit,Online,1.0,Engineer,0\\n52.870000000000005,Debit,Branch,1.0,Student,0\\n179.0,Debit,ATM,1.0,Retired,0\\n1168.26,Credit,Online,1.0,Retired,0\\n384.11,Debit,ATM,1.0,Retired,0\\n227.61,Debit,Online,1.0,Retired,0\\n40.829999999999984,Debit,ATM,1.0,Engineer,0\\n19.75999999999999,Debit,ATM,1.0,Student,0\\n484.24,Debit,Branch,1.0,Doctor,0\\n494.6600000000001,Debit,Online,1.0,Doctor,0\\n301.47,Debit,Branch,1.0,Student,0\\n199.09,Debit,Online,1.0,Doctor,0\\n38.94999999999999,Debit,Online,1.0,Engineer,0\\n515.94,Debit,ATM,1.0,Engineer,0\\n41.93000000000001,Debit,ATM,1.0,Engineer,0\\n137.84000000000003,Debit,ATM,1.0,Student,0\\n95.35,Debit,Online,1.0,Student,0\\n93.13999999999999,Debit,Online,1.0,Retired,0\\n1427.71,Debit,Branch,1.0,Doctor,0\\n79.32999999999998,Credit,Online,1.0,Doctor,0\\n76.88999999999999,Debit,ATM,1.0,Doctor,0\\n233.71,Debit,Online,1.0,Student,0\\n14.920000000000016,Debit,Branch,1.0,Engineer,0\\n242.17,Debit,ATM,1.0,Doctor,0\\n122.98000000000002,Debit,Online,1.0,Retired,0\\n129.35,Debit,ATM,1.0,Engineer,0\\n138.33,Debit,Online,1.0,Student,0\\n39.31,Debit,Online,1.0,Student,0\\n91.85,Debit,Online,1.0,Student,0\\n277.7,Debit,Branch,1.0,Engineer,0\\n114.03,Debit,ATM,1.0,Doctor,0\\n302.63,Credit,Branch,1.0,Engineer,0\\n31.189999999999998,Debit,ATM,1.0,Engineer,0\\n112.90999999999997,Credit,Online,1.0,Engineer,0\\n742.26,Debit,Online,1.0,Engineer,0\\n256.8,Debit,ATM,1.0,Student,0\\n378.68,Debit,ATM,1.0,Doctor,0\\n571.93,Debit,Online,1.0,Retired,0\\n26.310000000000002,Credit,Online,1.0,Retired,0\\n205.58,Debit,Online,1.0,Student,0\\n533.61,Debit,Online,1.0,Engineer,0\\n428.62,Debit,Branch,1.0,Retired,0\\n361.22,Debit,ATM,1.0,Retired,0\\n837.29,Debit,Branch,1.0,Student,0\\n117.25,Credit,Online,1.0,Doctor,0\\n135.27,Debit,ATM,1.0,Doctor,0\\n185.1,Debit,Branch,1.0,Retired,0\\n113.54000000000002,Debit,Online,1.0,Engineer,0\\n354.96,Debit,Online,1.0,Doctor,0\\n224.22000000000003,Debit,Branch,1.0,Doctor,0\\n737.1,Debit,ATM,1.0,Retired,0\\n223.22,Debit,ATM,1.0,Student,0\\n557.26,Debit,ATM,1.0,Doctor,0\\n1496.57,Debit,Online,1.0,Engineer,0\\n27.439999999999998,Debit,ATM,1.0,Retired,0\\n310.09,Debit,Branch,1.0,Doctor,0\\n80.38,Debit,Online,1.0,Doctor,0\\n26.100000000000023,Credit,Branch,1.0,Doctor,0\\n845.1400000000001,Credit,Branch,1.0,Retired,0\\n59.72999999999999,Debit,ATM,1.0,Student,0\\n758.77,Debit,ATM,1.0,Engineer,0\\n301.51,Debit,ATM,1.0,Student,0\\n418.03,Debit,Online,1.0,Doctor,0\\n118.06,Credit,Branch,1.0,Doctor,0\\n483.92,Debit,ATM,1.0,Retired,0\\n78.93,Debit,ATM,1.0,Doctor,0\\n36.629999999999995,Debit,ATM,1.0,Retired,0\\n87.85000000000002,Debit,Branch,1.0,Engineer,0\\n1001.8300000000002,Debit,Online,1.0,Doctor,0\\n705.34,Debit,Online,1.0,Doctor,0\\n146.54999999999998,Debit,Online,5.0,Retired,1\\n116.88999999999999,Debit,Online,1.0,Retired,0\\n106.41,Debit,Branch,1.0,Retired,0\\n1087.9,Debit,ATM,1.0,Retired,0\\n584.41,Debit,ATM,1.0,Student,0\\n584.98,Credit,Branch,1.0,Retired,0\\n79.20999999999998,Debit,Branch,1.0,Retired,0\\n173.13,Credit,Online,1.0,Student,0\\n335.7,Debit,ATM,1.0,Retired,0\\n1225.5,Credit,Online,1.0,Doctor,0\\n422.81,Debit,Branch,1.0,Student,0\\n135.43,Debit,ATM,1.0,Retired,0\\n584.88,Debit,ATM,1.0,Student,0\\n308.94,Debit,Online,1.0,Student,0\\n295.93,Debit,Branch,1.0,Doctor,0\\n1512.9900000000002,Debit,Online,1.0,Student,0\\n77.44,Debit,Branch,1.0,Retired,0\\n92.5,Credit,Online,1.0,Engineer,0\\n97.74000000000001,Credit,Online,1.0,Engineer,0\\n291.68,Debit,ATM,1.0,Student,0\\n56.96000000000001,Debit,ATM,1.0,Student,0\\n436.8,Debit,Online,1.0,Student,0\\n259.49,Debit,Online,1.0,Retired,0\\n726.26,Debit,Online,1.0,Retired,0\\n568.68,Debit,ATM,1.0,Retired,0\\n77.57,Debit,Online,1.0,Doctor,0\\n999.28,Debit,Online,1.0,Engineer,0\\n14.160000000000025,Credit,Branch,1.0,Retired,0\\n1142.83,Credit,Branch,1.0,Retired,0\\n61.329999999999984,Debit,ATM,1.0,Engineer,0\\n27.639999999999986,Debit,Online,1.0,Engineer,0\\n3.8500000000000227,Debit,ATM,1.0,Doctor,0\\n431.22,Credit,Branch,1.0,Retired,0\\n178.55,Debit,Branch,1.0,Engineer,0\\n248.76,Debit,ATM,1.0,Student,0\\n76.16,Debit,ATM,1.0,Student,0\\n347.25,Debit,ATM,1.0,Doctor,0\\n28.04000000000002,Debit,ATM,5.0,Doctor,1\\n325.98,Debit,ATM,1.0,Student,0\\n249.56,Debit,Branch,1.0,Retired,0\\n17.430000000000007,Debit,ATM,1.0,Doctor,0\\n198.01,Credit,Branch,1.0,Student,0\\n585.58,Debit,Branch,1.0,Student,0\\n434.67,Credit,Online,1.0,Student,0\\n510.7,Credit,Online,1.0,Student,0\\n331.98,Debit,ATM,1.0,Retired,0\\n199.54,Debit,Online,1.0,Engineer,0\\n212.97,Debit,Online,1.0,Engineer,0\\n270.56,Debit,Online,1.0,Student,0\\n306.37,Debit,ATM,1.0,Engineer,0\\n643.02,Credit,ATM,1.0,Doctor,0\\n98.48000000000002,Debit,Branch,1.0,Engineer,0\\n889.01,Debit,Online,1.0,Engineer,0\\n537.86,Debit,Online,1.0,Student,0\\n241.18,Debit,ATM,1.0,Student,0\\n130.54,Debit,ATM,1.0,Doctor,0\\n800.29,Credit,Branch,1.0,Student,0\\n8.810000000000002,Debit,Online,1.0,Doctor,0\\n28.519999999999982,Debit,ATM,1.0,Student,0\\n431.31,Credit,Online,1.0,Student,0\\n885.3300000000002,Credit,ATM,1.0,Engineer,0\\n199.23,Debit,ATM,1.0,Engineer,0\\n42.25999999999999,Debit,ATM,1.0,Doctor,0\\n166.06,Debit,ATM,1.0,Engineer,0\\n357.72,Debit,ATM,1.0,Retired,0\\n588.37,Debit,Online,1.0,Student,0\\n72.82,Debit,Online,1.0,Doctor,0\\n162.36,Debit,Online,1.0,Engineer,0\\n584.82,Credit,Online,1.0,Doctor,0\\n38.14999999999998,Credit,Online,1.0,Retired,0\\n477.54,Credit,ATM,1.0,Student,0\\n639.57,Debit,Branch,1.0,Doctor,0\\n58.22999999999999,Debit,Online,1.0,Student,0\\n776.21,Credit,Online,1.0,Retired,0\\n248.76,Debit,Branch,1.0,Student,0\\n188.61,Debit,Online,1.0,Retired,0\\n675.37,Credit,Online,1.0,Retired,0\\n94.82,Credit,Branch,1.0,Retired,0\\n425.18,Credit,Online,1.0,Engineer,0\\n50.28000000000003,Debit,Branch,1.0,Engineer,0\\n864.72,Credit,Branch,1.0,Engineer,0\\n70.68,Debit,Online,1.0,Student,0\\n261.77,Debit,Online,1.0,Student,0\\n183.22,Debit,ATM,1.0,Student,0\\n58.31999999999999,Credit,Branch,4.0,Engineer,1\\n156.86,Debit,ATM,1.0,Doctor,0\\n120.67000000000002,Debit,ATM,1.0,Doctor,0\\n308.62,Credit,Branch,1.0,Engineer,0\\n506.81,Debit,ATM,1.0,Engineer,0\\n328.39,Debit,ATM,1.0,Engineer,0\\n796.3,Debit,Branch,1.0,Retired,0\\n72.47000000000003,Debit,Online,1.0,Doctor,0\\n279.6,Debit,ATM,1.0,Student,0\\n304.2,Debit,Online,1.0,Student,0\\n351.38,Debit,Branch,1.0,Retired,0\\n86.07,Debit,Branch,1.0,Doctor,0\\n604.5,Debit,ATM,1.0,Student,0\\n258.7,Debit,ATM,1.0,Student,0\\n994.6300000000001,Debit,Online,1.0,Doctor,0\\n11.45999999999998,Credit,Branch,1.0,Retired,0\\n63.75999999999999,Debit,ATM,1.0,Retired,0\\n446.8299999999999,Credit,Branch,1.0,Retired,0\\n63.53999999999999,Debit,ATM,1.0,Engineer,0\\n81.10999999999999,Debit,Online,1.0,Engineer,0\\n441.26,Credit,Branch,5.0,Doctor,1\\n170.96,Debit,Branch,1.0,Doctor,0\\n48.50999999999996,Debit,Branch,1.0,Student,0\\n325.03,Debit,Branch,1.0,Doctor,0\\n125.82999999999998,Debit,ATM,1.0,Retired,0\\n506.83,Debit,Branch,1.0,Engineer,0\\n738.94,Debit,Branch,1.0,Doctor,0\\n180.36,Credit,Online,1.0,Engineer,0\\n225.1,Debit,ATM,1.0,Student,0\\n359.51,Debit,Online,1.0,Retired,0\\n720.46,Debit,Branch,1.0,Retired,0\\n1116.57,Debit,ATM,1.0,Retired,0\\n291.46,Debit,ATM,1.0,Retired,0\\n1192.95,Debit,Branch,1.0,Student,0\\n98.24000000000001,Debit,Online,1.0,Student,0\\n100.48000000000002,Credit,Branch,1.0,Student,0\\n45.900000000000006,Debit,Branch,1.0,Engineer,0\\n258.21,Debit,Online,1.0,Doctor,0\\n1079.11,Debit,Online,1.0,Engineer,0\\n287.51,Debit,Online,1.0,Student,0\\n501.3,Credit,Online,1.0,Engineer,0\\n26.100000000000023,Debit,ATM,1.0,Student,0\\n436.77,Debit,ATM,1.0,Student,0\\n292.38,Debit,ATM,1.0,Doctor,0\\n1026.46,Debit,Branch,1.0,Retired,0\\n25.29000000000002,Debit,Online,1.0,Engineer,0\\n123.35,Credit,Online,1.0,Doctor,0\\n139.52,Debit,Branch,1.0,Student,0\\n51.19999999999999,Debit,Online,1.0,Student,0\\n122.85,Credit,Online,3.0,Doctor,1\\n161.38,Credit,Online,1.0,Student,0\\n2.509999999999991,Debit,Online,1.0,Retired,0\\n22.620000000000005,Debit,ATM,1.0,Doctor,0\\n126.82999999999998,Debit,Branch,1.0,Retired,0\\n46.599999999999994,Debit,Online,1.0,Doctor,0\\n243.8,Debit,Branch,1.0,Doctor,0\\n231.51,Credit,Branch,1.0,Retired,0\\n175.05,Debit,Online,1.0,Engineer,0\\n762.74,Debit,ATM,1.0,Doctor,0\\n34.03000000000003,Debit,Branch,1.0,Engineer,0\\n15.949999999999989,Debit,Branch,1.0,Student,0\\n926.53,Debit,ATM,1.0,Engineer,0\\n101.50999999999999,Credit,Online,1.0,Engineer,0\\n309.42,Debit,Branch,1.0,Engineer,0\\n257.6,Credit,Online,1.0,Retired,0\\n746.78,Credit,Branch,1.0,Student,0\\n82.00999999999999,Credit,Branch,1.0,Student,0\\n476.99,Debit,Online,1.0,Student,0\\n320.11,Debit,Branch,1.0,Student,0\\n333.39,Debit,ATM,1.0,Doctor,0\\n10.300000000000011,Debit,ATM,1.0,Engineer,0\\n737.46,Credit,Branch,4.0,Doctor,1\\n416.55,Debit,Online,1.0,Engineer,0\\n84.91,Debit,Online,1.0,Student,0\\n98.94999999999999,Debit,Branch,1.0,Retired,0\\n18.139999999999986,Credit,ATM,1.0,Retired,0\\n1154.79,Debit,ATM,1.0,Doctor,0\\n215.13,Debit,Online,1.0,Engineer,0\\n218.57,Credit,Branch,1.0,Doctor,0\\n341.88,Debit,ATM,1.0,Engineer,0\\n691.92,Debit,Online,1.0,Student,0\\n50.43000000000001,Debit,Branch,1.0,Doctor,0\\n440.43,Debit,Branch,1.0,Retired,0\\n299.03,Debit,Branch,1.0,Engineer,0\\n1.9800000000000182,Debit,ATM,1.0,Doctor,0\\n173.45,Debit,ATM,1.0,Engineer,0\\n438.76,Debit,Branch,1.0,Student,0\\n519.62,Credit,Online,1.0,Retired,0\\n738.68,Debit,Online,1.0,Doctor,0\\n151.14,Debit,Online,1.0,Retired,0\\n75.76999999999998,Debit,Branch,1.0,Engineer,0\\n444.52,Debit,Online,1.0,Engineer,0\\n5.2900000000000205,Debit,Online,1.0,Doctor,0\\n97.63,Credit,Online,1.0,Doctor,0\\n256.95,Debit,Branch,1.0,Engineer,0\\n734.86,Credit,Branch,1.0,Engineer,0\\n1250.94,Debit,ATM,2.0,Doctor,0\\n84.28,Debit,Branch,1.0,Doctor,0\\n927.45,Debit,ATM,1.0,Student,0\\n202.49,Credit,ATM,1.0,Engineer,0\\n154.99,Debit,Branch,1.0,Student,0\\n481.53,Debit,Branch,1.0,Retired,0\\n172.92,Debit,Online,1.0,Student,0\\n275.59,Credit,Branch,1.0,Retired,0\\n207.2,Debit,Online,1.0,Engineer,0\\n136.82,Debit,Branch,1.0,Engineer,0\\n624.0,Debit,Branch,5.0,Engineer,1\\n179.38,Debit,Online,1.0,Engineer,0\\n10.149999999999977,Debit,ATM,5.0,Doctor,1\\n26.30000000000001,Debit,ATM,1.0,Doctor,0\\n319.5,Credit,Branch,1.0,Engineer,0\\n182.42000000000002,Debit,Branch,1.0,Retired,0\\n716.6199999999999,Debit,ATM,1.0,Doctor,0\\n222.96,Credit,ATM,1.0,Doctor,0\\n79.76999999999998,Debit,ATM,1.0,Retired,0\\n431.08,Debit,Branch,1.0,Retired,0\\n592.24,Debit,ATM,1.0,Doctor,0\\n200.19,Credit,Branch,1.0,Retired,0\\n297.5,Credit,Branch,1.0,Retired,0\\n345.86,Debit,ATM,1.0,Retired,0\\n343.88,Debit,Online,1.0,Retired,0\\n16.519999999999982,Credit,Online,1.0,Student,0\\n162.1,Debit,Branch,1.0,Engineer,0\\n36.120000000000005,Debit,Online,1.0,Student,0\\n354.91,Debit,ATM,1.0,Retired,0\\n38.410000000000025,Debit,ATM,1.0,Doctor,0\\n53.52000000000001,Debit,Branch,1.0,Engineer,0\\n498.59,Debit,Online,1.0,Retired,0\\n13.300000000000011,Debit,ATM,1.0,Student,0\\n189.65,Debit,ATM,1.0,Student,0\\n255.32,Debit,ATM,1.0,Retired,0\\n230.51,Credit,Branch,1.0,Engineer,0\\n237.74,Debit,ATM,1.0,Doctor,0\\n512.76,Debit,ATM,1.0,Doctor,0\\n151.36999999999998,Debit,ATM,1.0,Engineer,0\\n85.01000000000002,Credit,ATM,1.0,Student,0\\n444.47,Debit,Online,1.0,Retired,0\\n184.19,Debit,ATM,1.0,Retired,0\\n879.25,Credit,Online,1.0,Student,0\\n55.97999999999999,Credit,Branch,1.0,Student,0\\n54.91,Credit,ATM,1.0,Engineer,0\\n1047.6899999999998,Debit,Online,1.0,Student,0\\n393.74,Debit,Online,1.0,Student,0\\n58.94,Debit,Online,1.0,Engineer,0\\n515.57,Debit,ATM,1.0,Engineer,0\\n332.15,Debit,ATM,1.0,Doctor,0\\n177.94,Debit,Online,1.0,Student,0\\n68.68,Debit,Online,1.0,Engineer,0\\n1431.54,Debit,Online,1.0,Student,0\\n240.03,Debit,Online,1.0,Engineer,0\\n168.34,Debit,ATM,1.0,Retired,0\\n474.77,Debit,Online,1.0,Engineer,0\\n451.7,Debit,Online,1.0,Engineer,0\\n243.85,Debit,Branch,1.0,Engineer,0\\n5.759999999999991,Debit,Branch,1.0,Engineer,0\\n435.08,Debit,Online,1.0,Engineer,0\\n127.78,Debit,ATM,1.0,Student,0\\n23.139999999999986,Credit,Online,1.0,Doctor,0\\n545.87,Debit,Branch,1.0,Engineer,0\\n21.20999999999998,Debit,Online,1.0,Engineer,0\\n423.53,Credit,Branch,1.0,Doctor,0\\n142.1,Credit,Online,1.0,Student,0\\n1413.24,Debit,ATM,1.0,Engineer,0\\n114.15,Debit,ATM,1.0,Student,0\\n275.98,Credit,Online,1.0,Retired,0\\n590.68,Debit,Branch,1.0,Student,0\\n152.42,Debit,ATM,1.0,Doctor,0\\n395.77,Credit,Branch,1.0,Doctor,0\\n615.16,Debit,Online,1.0,Student,0\\n207.82,Credit,Online,1.0,Student,0\\n220.52,Debit,ATM,1.0,Retired,0\\n281.47,Debit,ATM,1.0,Engineer,0\\n57.91,Credit,Branch,1.0,Engineer,0\\n30.480000000000018,Credit,Branch,1.0,Doctor,0\\n1152.58,Debit,Branch,1.0,Retired,0\\n453.09,Debit,Branch,1.0,Doctor,0\\n424.47,Debit,Online,1.0,Student,0\\n228.4,Debit,ATM,1.0,Doctor,0\\n67.17000000000002,Debit,Online,1.0,Doctor,0\\n284.89,Debit,Online,1.0,Doctor,0\\n118.68999999999997,Debit,Online,1.0,Doctor,0\\n221.33,Debit,ATM,1.0,Student,0\\n252.31,Credit,ATM,1.0,Student,0\\n58.849999999999994,Credit,Online,1.0,Retired,0\\n194.68,Debit,Online,1.0,Doctor,0\\n433.53,Debit,Branch,1.0,Doctor,0\\n178.26,Debit,ATM,1.0,Retired,0\\n207.65,Debit,Online,1.0,Engineer,0\\n237.0,Debit,Online,1.0,Doctor,0\\n1169.59,Debit,Online,1.0,Student,0\\n347.63,Credit,Online,1.0,Student,0\\n517.68,Debit,ATM,1.0,Doctor,0\\n36.25,Debit,Branch,1.0,Doctor,0\\n46.52999999999997,Debit,ATM,1.0,Engineer,0\\n207.47,Debit,ATM,1.0,Doctor,0\\n199.7,Debit,ATM,1.0,Engineer,0\\n307.89,Credit,Online,1.0,Retired,0\\n403.63,Debit,Branch,3.0,Engineer,1\\n20.060000000000002,Debit,ATM,1.0,Student,0\\n236.57,Debit,ATM,1.0,Retired,0\\n0.3199999999999932,Debit,ATM,1.0,Engineer,0\\n14.279999999999973,Debit,ATM,1.0,Student,0\\n232.35,Credit,Branch,1.0,Engineer,0\\n317.53,Debit,Online,1.0,Engineer,0\\n74.67000000000002,Debit,ATM,1.0,Engineer,0\\n65.00999999999999,Credit,Online,1.0,Doctor,0\\n0.44999999999998863,Debit,Branch,1.0,Engineer,0\\n364.13,Debit,ATM,1.0,Doctor,0\\n340.13,Debit,Branch,3.0,Student,1\\n15.810000000000002,Debit,Branch,4.0,Doctor,1\\n222.66,Debit,Online,1.0,Doctor,0\\n638.24,Debit,Branch,1.0,Engineer,0\\n241.21,Debit,ATM,1.0,Engineer,0\\n171.16,Debit,Online,1.0,Retired,0\\n1360.67,Debit,Branch,1.0,Engineer,0\\n37.64999999999998,Credit,Online,1.0,Student,0\\n25.769999999999982,Debit,Online,1.0,Retired,0\\n789.8,Debit,ATM,1.0,Doctor,0\\n308.85,Credit,Branch,2.0,Student,0\\n1454.52,Debit,ATM,1.0,Student,0\\n806.97,Debit,Online,1.0,Student,0\\n364.81,Debit,Online,1.0,Student,0\\n490.82,Debit,ATM,1.0,Engineer,0\\n1021.3800000000001,Debit,Branch,1.0,Doctor,0\\n311.28,Debit,Branch,1.0,Doctor,0\\n85.03,Debit,ATM,1.0,Retired,0\\n307.75,Debit,Branch,1.0,Doctor,0\\n333.67,Debit,Online,1.0,Engineer,0\\n589.89,Debit,Branch,3.0,Engineer,1\\n372.08,Debit,Branch,1.0,Doctor,0\\n502.9,Credit,Online,1.0,Student,0\\n103.81,Debit,ATM,1.0,Doctor,0\\n69.43,Debit,ATM,1.0,Engineer,0\\n110.4,Credit,ATM,1.0,Doctor,0\\n275.65,Credit,Branch,1.0,Engineer,0\\n336.01,Debit,Online,4.0,Doctor,1\\n251.8,Debit,ATM,1.0,Doctor,0\\n334.07,Debit,Branch,1.0,Engineer,0\\n52.44,Debit,Online,1.0,Student,0\\n1030.85,Debit,ATM,1.0,Student,0\\n141.37,Debit,Online,1.0,Engineer,0\\n211.7,Credit,Online,1.0,Doctor,0\\n61.400000000000006,Debit,Branch,2.0,Engineer,0\\n308.23,Debit,ATM,1.0,Retired,0\\n111.41,Debit,Branch,1.0,Student,0\\n675.49,Debit,ATM,1.0,Retired,0\\n29.71999999999997,Debit,ATM,1.0,Student,0\\n301.73,Debit,Online,1.0,Doctor,0\\n294.61,Debit,Branch,1.0,Retired,0\\n106.43,Credit,ATM,1.0,Engineer,0\\n381.52,Debit,Online,1.0,Doctor,0\\n1142.76,Credit,Online,1.0,Student,0\\n5.660000000000025,Debit,Branch,1.0,Engineer,0\\n209.09,Debit,ATM,1.0,Doctor,0\\n521.81,Debit,ATM,1.0,Engineer,0\\n588.36,Debit,Online,1.0,Engineer,0\\n146.67,Debit,Online,1.0,Student,0\\n176.52,Credit,Online,5.0,Retired,1\\n57.34,Debit,Online,1.0,Student,0\\n294.77,Debit,Online,1.0,Retired,0\\n881.3200000000002,Debit,Online,1.0,Engineer,0\\n162.59,Debit,Branch,1.0,Retired,0\\n56.150000000000006,Debit,Branch,1.0,Doctor,0\\n524.55,Debit,ATM,1.0,Doctor,0\\n535.4,Debit,Branch,1.0,Student,0\\n56.84,Debit,ATM,1.0,Engineer,0\\n135.94000000000003,Debit,Branch,1.0,Retired,0\\n47.099999999999994,Credit,Branch,1.0,Doctor,0\\n124.05000000000001,Credit,Branch,1.0,Doctor,0\\n802.89,Debit,ATM,1.0,Student,0\\n193.16,Debit,ATM,1.0,Retired,0\\n541.52,Credit,Branch,1.0,Engineer,0\\n20.170000000000016,Debit,ATM,1.0,Retired,0\\n35.98000000000002,Credit,Branch,1.0,Doctor,0\\n273.24,Debit,Branch,1.0,Retired,0\\n663.45,Debit,ATM,1.0,Retired,0\\n343.86,Debit,Branch,1.0,Engineer,0\\n69.38,Debit,Branch,2.0,Doctor,0\\n75.43,Debit,ATM,1.0,Retired,0\\n414.64,Debit,Branch,1.0,Doctor,0\\n86.79000000000005,Debit,Branch,1.0,Doctor,0\\n1105.88,Debit,ATM,1.0,Engineer,0\\n14.100000000000023,Debit,Branch,1.0,Engineer,0\\n63.329999999999984,Credit,Branch,1.0,Student,0\\n606.27,Debit,Branch,1.0,Doctor,0\\n4.470000000000027,Debit,Branch,1.0,Student,0\\n289.01,Debit,Online,1.0,Retired,0\\n338.69,Debit,Branch,1.0,Student,0\\n97.73000000000002,Debit,Branch,1.0,Doctor,0\\n1021.1600000000001,Debit,ATM,1.0,Student,0\\n27.610000000000014,Credit,ATM,1.0,Retired,0\\n284.17,Debit,ATM,1.0,Retired,0\\n76.20999999999998,Debit,Branch,1.0,Student,0\\n334.79,Credit,Branch,1.0,Doctor,0\\n584.51,Debit,ATM,1.0,Retired,0\\n432.18,Debit,Branch,1.0,Student,0\\n134.55,Debit,Online,1.0,Doctor,0\\n61.66,Debit,ATM,1.0,Student,0\\n12.350000000000023,Debit,Branch,1.0,Student,0\\n213.25,Debit,Branch,1.0,Student,0\\n34.93000000000001,Debit,Branch,1.0,Engineer,0\\n959.48,Debit,Branch,1.0,Doctor,0\\n335.68,Debit,Online,1.0,Student,0\\n423.96,Debit,ATM,1.0,Doctor,0\\n361.38,Credit,Online,3.0,Retired,1\\n220.82,Debit,Branch,1.0,Engineer,0\\n717.36,Credit,Online,1.0,Student,0\\n406.12,Debit,ATM,1.0,Doctor,0\\n427.83,Debit,ATM,1.0,Engineer,0\\n416.62,Credit,Online,1.0,Student,0\\n21.899999999999977,Debit,ATM,1.0,Student,0\\n717.74,Credit,Online,1.0,Engineer,0\\n393.68,Debit,ATM,1.0,Doctor,0\\n281.91,Debit,Branch,1.0,Student,0\\n239.85,Debit,ATM,1.0,Retired,0\\n237.84,Debit,Branch,1.0,Student,0\\n459.29,Credit,Online,1.0,Retired,0\\n196.49,Debit,Branch,1.0,Engineer,0\\n21.230000000000018,Debit,ATM,4.0,Student,1\\n95.23000000000002,Debit,Online,3.0,Student,1\\n344.87,Debit,Branch,1.0,Retired,0\\n129.62,Credit,ATM,1.0,Student,0\\n16.53000000000003,Debit,ATM,1.0,Student,0\\n277.02,Credit,ATM,1.0,Doctor,0\\n13.019999999999982,Debit,Branch,1.0,Doctor,0\\n199.02,Debit,ATM,1.0,Student,0\\n684.5,Debit,Branch,1.0,Doctor,0\\n1173.74,Credit,Online,1.0,Doctor,0\\n45.920000000000016,Debit,ATM,1.0,Student,0\\n761.73,Debit,ATM,1.0,Student,0\\n331.38,Debit,ATM,1.0,Engineer,0\\n602.8,Debit,Branch,1.0,Retired,0\\n64.12,Credit,Branch,1.0,Doctor,0\\n57.379999999999995,Debit,Online,1.0,Student,0\\n94.64000000000001,Credit,ATM,1.0,Student,0\\n155.56,Credit,Branch,1.0,Student,0\\n301.39,Credit,Online,1.0,Doctor,0\\n136.31,Debit,Online,1.0,Retired,0\\n4.389999999999986,Debit,ATM,1.0,Student,0\\n429.25,Debit,Online,1.0,Engineer,0\\n138.54,Credit,Branch,1.0,Engineer,0\\n33.03000000000003,Debit,Branch,1.0,Student,0\\n76.38999999999996,Debit,Online,1.0,Doctor,0\\n25.319999999999993,Debit,ATM,1.0,Student,0\\n330.91,Debit,ATM,1.0,Engineer,0\\n153.55,Debit,Online,1.0,Doctor,0\\n217.61,Debit,Online,1.0,Student,0\\n131.69,Credit,Branch,1.0,Engineer,0\\n953.1700000000001,Debit,Online,1.0,Retired,0\\n68.49000000000001,Debit,Online,1.0,Retired,0\\n1493.0000000000002,Debit,ATM,1.0,Retired,0\\n470.62,Debit,Branch,1.0,Doctor,0\\n385.35,Debit,Branch,1.0,Doctor,0\\n74.72,Debit,Online,1.0,Student,0\\n352.03,Credit,Online,1.0,Student,0\\n275.87,Debit,ATM,1.0,Student,0\\n90.94,Credit,ATM,1.0,Retired,0\\n206.25,Debit,ATM,1.0,Retired,0\\n116.75999999999996,Debit,ATM,1.0,Engineer,0\\n91.5,Debit,ATM,1.0,Doctor,0\\n489.31,Debit,Branch,1.0,Engineer,0\\n1664.33,Debit,Branch,1.0,Student,0\\n414.49,Credit,Online,1.0,Doctor,0\\n315.13,Debit,Branch,1.0,Engineer,0\\n28.379999999999995,Debit,Branch,1.0,Doctor,0\\n456.05,Debit,Branch,1.0,Doctor,0\\n277.22,Debit,Branch,1.0,Doctor,0\\n54.84,Debit,Online,1.0,Retired,0\\n29.920000000000016,Credit,Online,1.0,Doctor,0\\n133.06000000000003,Debit,Online,1.0,Engineer,0\\n332.06,Debit,ATM,4.0,Doctor,1\\n14.339999999999975,Credit,Online,1.0,Retired,0\\n468.32,Debit,Online,1.0,Retired,0\\n582.17,Debit,Branch,1.0,Engineer,0\\n245.62,Debit,Branch,1.0,Student,0\\n981.9000000000001,Credit,Online,1.0,Doctor,0\\n83.6,Debit,ATM,1.0,Doctor,0\\n331.22,Credit,Branch,1.0,Doctor,0\\n57.49000000000001,Credit,Online,1.0,Student,0\\n85.57999999999998,Debit,ATM,1.0,Engineer,0\\n157.56,Debit,Branch,1.0,Doctor,0\\n230.3,Debit,Online,1.0,Engineer,0\\n305.92,Debit,ATM,1.0,Retired,0\\n942.7,Debit,Online,1.0,Engineer,0\\n116.32999999999998,Debit,Branch,1.0,Student,0\\n537.71,Credit,Online,1.0,Student,0\\n538.17,Credit,Branch,1.0,Engineer,0\\n219.44,Debit,Online,1.0,Engineer,0\\n61.620000000000005,Debit,Online,1.0,Doctor,0\\n58.77000000000001,Debit,Online,1.0,Engineer,0\\n538.13,Debit,ATM,1.0,Retired,0\\n177.05,Debit,Branch,1.0,Student,0\\n403.01,Debit,Online,3.0,Doctor,1\\n719.76,Debit,Branch,1.0,Student,0\\n163.22,Debit,Online,1.0,Student,0\\n242.85,Debit,Online,1.0,Engineer,0\\n291.22,Credit,Online,1.0,Engineer,0\\n56.52000000000001,Debit,ATM,1.0,Engineer,0\\n195.8,Debit,Online,1.0,Doctor,0\\n66.75999999999996,Credit,Branch,1.0,Doctor,0\\n190.9,Debit,Online,1.0,Student,0\\n106.99000000000001,Debit,Branch,1.0,Engineer,0\\n655.81,Debit,ATM,2.0,Retired,0\\n107.10000000000002,Credit,Online,1.0,Student,0\\n79.92000000000002,Debit,ATM,2.0,Engineer,0\\n430.83,Debit,Branch,1.0,Student,0\\n235.34,Debit,Branch,1.0,Student,0\\n86.35,Credit,Branch,1.0,Retired,0\\n337.99,Debit,ATM,1.0,Doctor,0\\n577.13,Credit,Branch,1.0,Engineer,0\\n213.33,Debit,ATM,1.0,Retired,0\\n54.52000000000001,Debit,Branch,1.0,Doctor,0\\n100.13,Debit,Branch,1.0,Doctor,0\\n883.9200000000001,Credit,Online,1.0,Retired,0\\n69.80000000000001,Credit,Branch,1.0,Student,0\\n768.94,Debit,Branch,1.0,Retired,0\\n179.62,Debit,Online,1.0,Student,0\\n425.91,Debit,ATM,1.0,Student,0\\n263.34,Debit,ATM,1.0,Retired,0\\n113.03,Credit,Online,1.0,Doctor,0\\n11.019999999999982,Debit,Online,1.0,Doctor,0\\n865.1700000000001,Debit,Branch,1.0,Student,0\\n152.0,Debit,ATM,1.0,Engineer,0\\n270.39,Debit,ATM,1.0,Student,0\\n246.41,Debit,ATM,1.0,Retired,0\\n336.84,Debit,ATM,1.0,Student,0\\n261.45,Credit,Online,1.0,Engineer,0\\n99.98000000000002,Credit,Online,1.0,Retired,0\\n400.69,Debit,Online,1.0,Engineer,0\\n411.47,Debit,ATM,1.0,Student,0\\n204.63,Debit,Online,1.0,Engineer,0\\n421.56,Debit,Online,1.0,Engineer,0\\n193.38,Debit,ATM,1.0,Student,0\\n377.04,Debit,ATM,1.0,Engineer,0\\n54.099999999999994,Credit,Branch,1.0,Engineer,0\\n18.100000000000023,Debit,ATM,1.0,Retired,0\\n408.62,Credit,Online,1.0,Engineer,0\\n162.1,Debit,Branch,1.0,Doctor,0\\n165.31,Debit,ATM,1.0,Doctor,0\\n267.48,Debit,ATM,2.0,Student,0\\n856.9000000000001,Debit,Branch,1.0,Engineer,0\\n433.9,Debit,Online,1.0,Doctor,0\\n271.22,Credit,ATM,1.0,Doctor,0\\n307.68,Credit,Online,1.0,Retired,0\\n348.17,Debit,ATM,1.0,Student,0\\n43.099999999999994,Debit,Branch,1.0,Student,0\\n557.78,Credit,Branch,1.0,Student,0\\n325.6,Debit,ATM,1.0,Doctor,0\\n235.83,Credit,Online,1.0,Engineer,0\\n603.54,Debit,Online,1.0,Doctor,0\\n270.25,Debit,ATM,1.0,Engineer,0\\n123.38,Debit,Online,1.0,Doctor,0\\n577.12,Debit,ATM,1.0,Engineer,0\\n92.24000000000001,Debit,Branch,1.0,Engineer,0\\n856.21,Credit,Branch,1.0,Doctor,0\\n251.54,Debit,Branch,1.0,Doctor,0\\n28.629999999999995,Debit,Branch,1.0,Retired,0\\n185.97,Debit,Online,1.0,Student,0\\n243.08,Credit,Online,1.0,Student,0\\n'}"
            ]
          },
          "metadata": {},
          "execution_count": 2
        }
      ]
    },
    {
      "cell_type": "code",
      "source": [
        "df = pd.read_csv('Dataset_clustering.csv')"
      ],
      "metadata": {
        "id": "284cf-ATc7_p"
      },
      "execution_count": 3,
      "outputs": []
    },
    {
      "cell_type": "code",
      "source": [
        "df"
      ],
      "metadata": {
        "id": "U4QpGXZCc9bg",
        "colab": {
          "base_uri": "https://localhost:8080/",
          "height": 424
        },
        "outputId": "3d61cfca-28e5-4e04-e796-fa30f1c4156a"
      },
      "execution_count": 4,
      "outputs": [
        {
          "output_type": "execute_result",
          "data": {
            "text/plain": [
              "      TransactionAmount TransactionType Channel  LoginAttempts  \\\n",
              "0                 14.09           Debit     ATM            1.0   \n",
              "1                376.24           Debit     ATM            1.0   \n",
              "2                126.29           Debit  Online            1.0   \n",
              "3                184.50           Debit  Online            1.0   \n",
              "4                 13.45          Credit  Online            1.0   \n",
              "...                 ...             ...     ...            ...   \n",
              "2507             856.21          Credit  Branch            1.0   \n",
              "2508             251.54           Debit  Branch            1.0   \n",
              "2509              28.63           Debit  Branch            1.0   \n",
              "2510             185.97           Debit  Online            1.0   \n",
              "2511             243.08          Credit  Online            1.0   \n",
              "\n",
              "     CustomerOccupation  Cluster_Kmeans  \n",
              "0                Doctor               0  \n",
              "1                Doctor               0  \n",
              "2               Student               0  \n",
              "3               Student               0  \n",
              "4               Student               0  \n",
              "...                 ...             ...  \n",
              "2507             Doctor               0  \n",
              "2508             Doctor               0  \n",
              "2509            Retired               0  \n",
              "2510            Student               0  \n",
              "2511            Student               0  \n",
              "\n",
              "[2512 rows x 6 columns]"
            ],
            "text/html": [
              "\n",
              "  <div id=\"df-b81071e3-24e2-43a2-8c97-588a16903c21\" class=\"colab-df-container\">\n",
              "    <div>\n",
              "<style scoped>\n",
              "    .dataframe tbody tr th:only-of-type {\n",
              "        vertical-align: middle;\n",
              "    }\n",
              "\n",
              "    .dataframe tbody tr th {\n",
              "        vertical-align: top;\n",
              "    }\n",
              "\n",
              "    .dataframe thead th {\n",
              "        text-align: right;\n",
              "    }\n",
              "</style>\n",
              "<table border=\"1\" class=\"dataframe\">\n",
              "  <thead>\n",
              "    <tr style=\"text-align: right;\">\n",
              "      <th></th>\n",
              "      <th>TransactionAmount</th>\n",
              "      <th>TransactionType</th>\n",
              "      <th>Channel</th>\n",
              "      <th>LoginAttempts</th>\n",
              "      <th>CustomerOccupation</th>\n",
              "      <th>Cluster_Kmeans</th>\n",
              "    </tr>\n",
              "  </thead>\n",
              "  <tbody>\n",
              "    <tr>\n",
              "      <th>0</th>\n",
              "      <td>14.09</td>\n",
              "      <td>Debit</td>\n",
              "      <td>ATM</td>\n",
              "      <td>1.0</td>\n",
              "      <td>Doctor</td>\n",
              "      <td>0</td>\n",
              "    </tr>\n",
              "    <tr>\n",
              "      <th>1</th>\n",
              "      <td>376.24</td>\n",
              "      <td>Debit</td>\n",
              "      <td>ATM</td>\n",
              "      <td>1.0</td>\n",
              "      <td>Doctor</td>\n",
              "      <td>0</td>\n",
              "    </tr>\n",
              "    <tr>\n",
              "      <th>2</th>\n",
              "      <td>126.29</td>\n",
              "      <td>Debit</td>\n",
              "      <td>Online</td>\n",
              "      <td>1.0</td>\n",
              "      <td>Student</td>\n",
              "      <td>0</td>\n",
              "    </tr>\n",
              "    <tr>\n",
              "      <th>3</th>\n",
              "      <td>184.50</td>\n",
              "      <td>Debit</td>\n",
              "      <td>Online</td>\n",
              "      <td>1.0</td>\n",
              "      <td>Student</td>\n",
              "      <td>0</td>\n",
              "    </tr>\n",
              "    <tr>\n",
              "      <th>4</th>\n",
              "      <td>13.45</td>\n",
              "      <td>Credit</td>\n",
              "      <td>Online</td>\n",
              "      <td>1.0</td>\n",
              "      <td>Student</td>\n",
              "      <td>0</td>\n",
              "    </tr>\n",
              "    <tr>\n",
              "      <th>...</th>\n",
              "      <td>...</td>\n",
              "      <td>...</td>\n",
              "      <td>...</td>\n",
              "      <td>...</td>\n",
              "      <td>...</td>\n",
              "      <td>...</td>\n",
              "    </tr>\n",
              "    <tr>\n",
              "      <th>2507</th>\n",
              "      <td>856.21</td>\n",
              "      <td>Credit</td>\n",
              "      <td>Branch</td>\n",
              "      <td>1.0</td>\n",
              "      <td>Doctor</td>\n",
              "      <td>0</td>\n",
              "    </tr>\n",
              "    <tr>\n",
              "      <th>2508</th>\n",
              "      <td>251.54</td>\n",
              "      <td>Debit</td>\n",
              "      <td>Branch</td>\n",
              "      <td>1.0</td>\n",
              "      <td>Doctor</td>\n",
              "      <td>0</td>\n",
              "    </tr>\n",
              "    <tr>\n",
              "      <th>2509</th>\n",
              "      <td>28.63</td>\n",
              "      <td>Debit</td>\n",
              "      <td>Branch</td>\n",
              "      <td>1.0</td>\n",
              "      <td>Retired</td>\n",
              "      <td>0</td>\n",
              "    </tr>\n",
              "    <tr>\n",
              "      <th>2510</th>\n",
              "      <td>185.97</td>\n",
              "      <td>Debit</td>\n",
              "      <td>Online</td>\n",
              "      <td>1.0</td>\n",
              "      <td>Student</td>\n",
              "      <td>0</td>\n",
              "    </tr>\n",
              "    <tr>\n",
              "      <th>2511</th>\n",
              "      <td>243.08</td>\n",
              "      <td>Credit</td>\n",
              "      <td>Online</td>\n",
              "      <td>1.0</td>\n",
              "      <td>Student</td>\n",
              "      <td>0</td>\n",
              "    </tr>\n",
              "  </tbody>\n",
              "</table>\n",
              "<p>2512 rows × 6 columns</p>\n",
              "</div>\n",
              "    <div class=\"colab-df-buttons\">\n",
              "\n",
              "  <div class=\"colab-df-container\">\n",
              "    <button class=\"colab-df-convert\" onclick=\"convertToInteractive('df-b81071e3-24e2-43a2-8c97-588a16903c21')\"\n",
              "            title=\"Convert this dataframe to an interactive table.\"\n",
              "            style=\"display:none;\">\n",
              "\n",
              "  <svg xmlns=\"http://www.w3.org/2000/svg\" height=\"24px\" viewBox=\"0 -960 960 960\">\n",
              "    <path d=\"M120-120v-720h720v720H120Zm60-500h600v-160H180v160Zm220 220h160v-160H400v160Zm0 220h160v-160H400v160ZM180-400h160v-160H180v160Zm440 0h160v-160H620v160ZM180-180h160v-160H180v160Zm440 0h160v-160H620v160Z\"/>\n",
              "  </svg>\n",
              "    </button>\n",
              "\n",
              "  <style>\n",
              "    .colab-df-container {\n",
              "      display:flex;\n",
              "      gap: 12px;\n",
              "    }\n",
              "\n",
              "    .colab-df-convert {\n",
              "      background-color: #E8F0FE;\n",
              "      border: none;\n",
              "      border-radius: 50%;\n",
              "      cursor: pointer;\n",
              "      display: none;\n",
              "      fill: #1967D2;\n",
              "      height: 32px;\n",
              "      padding: 0 0 0 0;\n",
              "      width: 32px;\n",
              "    }\n",
              "\n",
              "    .colab-df-convert:hover {\n",
              "      background-color: #E2EBFA;\n",
              "      box-shadow: 0px 1px 2px rgba(60, 64, 67, 0.3), 0px 1px 3px 1px rgba(60, 64, 67, 0.15);\n",
              "      fill: #174EA6;\n",
              "    }\n",
              "\n",
              "    .colab-df-buttons div {\n",
              "      margin-bottom: 4px;\n",
              "    }\n",
              "\n",
              "    [theme=dark] .colab-df-convert {\n",
              "      background-color: #3B4455;\n",
              "      fill: #D2E3FC;\n",
              "    }\n",
              "\n",
              "    [theme=dark] .colab-df-convert:hover {\n",
              "      background-color: #434B5C;\n",
              "      box-shadow: 0px 1px 3px 1px rgba(0, 0, 0, 0.15);\n",
              "      filter: drop-shadow(0px 1px 2px rgba(0, 0, 0, 0.3));\n",
              "      fill: #FFFFFF;\n",
              "    }\n",
              "  </style>\n",
              "\n",
              "    <script>\n",
              "      const buttonEl =\n",
              "        document.querySelector('#df-b81071e3-24e2-43a2-8c97-588a16903c21 button.colab-df-convert');\n",
              "      buttonEl.style.display =\n",
              "        google.colab.kernel.accessAllowed ? 'block' : 'none';\n",
              "\n",
              "      async function convertToInteractive(key) {\n",
              "        const element = document.querySelector('#df-b81071e3-24e2-43a2-8c97-588a16903c21');\n",
              "        const dataTable =\n",
              "          await google.colab.kernel.invokeFunction('convertToInteractive',\n",
              "                                                    [key], {});\n",
              "        if (!dataTable) return;\n",
              "\n",
              "        const docLinkHtml = 'Like what you see? Visit the ' +\n",
              "          '<a target=\"_blank\" href=https://colab.research.google.com/notebooks/data_table.ipynb>data table notebook</a>'\n",
              "          + ' to learn more about interactive tables.';\n",
              "        element.innerHTML = '';\n",
              "        dataTable['output_type'] = 'display_data';\n",
              "        await google.colab.output.renderOutput(dataTable, element);\n",
              "        const docLink = document.createElement('div');\n",
              "        docLink.innerHTML = docLinkHtml;\n",
              "        element.appendChild(docLink);\n",
              "      }\n",
              "    </script>\n",
              "  </div>\n",
              "\n",
              "\n",
              "<div id=\"df-507d6eaf-266d-4bcd-a046-2fd418867600\">\n",
              "  <button class=\"colab-df-quickchart\" onclick=\"quickchart('df-507d6eaf-266d-4bcd-a046-2fd418867600')\"\n",
              "            title=\"Suggest charts\"\n",
              "            style=\"display:none;\">\n",
              "\n",
              "<svg xmlns=\"http://www.w3.org/2000/svg\" height=\"24px\"viewBox=\"0 0 24 24\"\n",
              "     width=\"24px\">\n",
              "    <g>\n",
              "        <path d=\"M19 3H5c-1.1 0-2 .9-2 2v14c0 1.1.9 2 2 2h14c1.1 0 2-.9 2-2V5c0-1.1-.9-2-2-2zM9 17H7v-7h2v7zm4 0h-2V7h2v10zm4 0h-2v-4h2v4z\"/>\n",
              "    </g>\n",
              "</svg>\n",
              "  </button>\n",
              "\n",
              "<style>\n",
              "  .colab-df-quickchart {\n",
              "      --bg-color: #E8F0FE;\n",
              "      --fill-color: #1967D2;\n",
              "      --hover-bg-color: #E2EBFA;\n",
              "      --hover-fill-color: #174EA6;\n",
              "      --disabled-fill-color: #AAA;\n",
              "      --disabled-bg-color: #DDD;\n",
              "  }\n",
              "\n",
              "  [theme=dark] .colab-df-quickchart {\n",
              "      --bg-color: #3B4455;\n",
              "      --fill-color: #D2E3FC;\n",
              "      --hover-bg-color: #434B5C;\n",
              "      --hover-fill-color: #FFFFFF;\n",
              "      --disabled-bg-color: #3B4455;\n",
              "      --disabled-fill-color: #666;\n",
              "  }\n",
              "\n",
              "  .colab-df-quickchart {\n",
              "    background-color: var(--bg-color);\n",
              "    border: none;\n",
              "    border-radius: 50%;\n",
              "    cursor: pointer;\n",
              "    display: none;\n",
              "    fill: var(--fill-color);\n",
              "    height: 32px;\n",
              "    padding: 0;\n",
              "    width: 32px;\n",
              "  }\n",
              "\n",
              "  .colab-df-quickchart:hover {\n",
              "    background-color: var(--hover-bg-color);\n",
              "    box-shadow: 0 1px 2px rgba(60, 64, 67, 0.3), 0 1px 3px 1px rgba(60, 64, 67, 0.15);\n",
              "    fill: var(--button-hover-fill-color);\n",
              "  }\n",
              "\n",
              "  .colab-df-quickchart-complete:disabled,\n",
              "  .colab-df-quickchart-complete:disabled:hover {\n",
              "    background-color: var(--disabled-bg-color);\n",
              "    fill: var(--disabled-fill-color);\n",
              "    box-shadow: none;\n",
              "  }\n",
              "\n",
              "  .colab-df-spinner {\n",
              "    border: 2px solid var(--fill-color);\n",
              "    border-color: transparent;\n",
              "    border-bottom-color: var(--fill-color);\n",
              "    animation:\n",
              "      spin 1s steps(1) infinite;\n",
              "  }\n",
              "\n",
              "  @keyframes spin {\n",
              "    0% {\n",
              "      border-color: transparent;\n",
              "      border-bottom-color: var(--fill-color);\n",
              "      border-left-color: var(--fill-color);\n",
              "    }\n",
              "    20% {\n",
              "      border-color: transparent;\n",
              "      border-left-color: var(--fill-color);\n",
              "      border-top-color: var(--fill-color);\n",
              "    }\n",
              "    30% {\n",
              "      border-color: transparent;\n",
              "      border-left-color: var(--fill-color);\n",
              "      border-top-color: var(--fill-color);\n",
              "      border-right-color: var(--fill-color);\n",
              "    }\n",
              "    40% {\n",
              "      border-color: transparent;\n",
              "      border-right-color: var(--fill-color);\n",
              "      border-top-color: var(--fill-color);\n",
              "    }\n",
              "    60% {\n",
              "      border-color: transparent;\n",
              "      border-right-color: var(--fill-color);\n",
              "    }\n",
              "    80% {\n",
              "      border-color: transparent;\n",
              "      border-right-color: var(--fill-color);\n",
              "      border-bottom-color: var(--fill-color);\n",
              "    }\n",
              "    90% {\n",
              "      border-color: transparent;\n",
              "      border-bottom-color: var(--fill-color);\n",
              "    }\n",
              "  }\n",
              "</style>\n",
              "\n",
              "  <script>\n",
              "    async function quickchart(key) {\n",
              "      const quickchartButtonEl =\n",
              "        document.querySelector('#' + key + ' button');\n",
              "      quickchartButtonEl.disabled = true;  // To prevent multiple clicks.\n",
              "      quickchartButtonEl.classList.add('colab-df-spinner');\n",
              "      try {\n",
              "        const charts = await google.colab.kernel.invokeFunction(\n",
              "            'suggestCharts', [key], {});\n",
              "      } catch (error) {\n",
              "        console.error('Error during call to suggestCharts:', error);\n",
              "      }\n",
              "      quickchartButtonEl.classList.remove('colab-df-spinner');\n",
              "      quickchartButtonEl.classList.add('colab-df-quickchart-complete');\n",
              "    }\n",
              "    (() => {\n",
              "      let quickchartButtonEl =\n",
              "        document.querySelector('#df-507d6eaf-266d-4bcd-a046-2fd418867600 button');\n",
              "      quickchartButtonEl.style.display =\n",
              "        google.colab.kernel.accessAllowed ? 'block' : 'none';\n",
              "    })();\n",
              "  </script>\n",
              "</div>\n",
              "\n",
              "  <div id=\"id_7afd02df-3b50-4a30-86e1-f5cad5af29ec\">\n",
              "    <style>\n",
              "      .colab-df-generate {\n",
              "        background-color: #E8F0FE;\n",
              "        border: none;\n",
              "        border-radius: 50%;\n",
              "        cursor: pointer;\n",
              "        display: none;\n",
              "        fill: #1967D2;\n",
              "        height: 32px;\n",
              "        padding: 0 0 0 0;\n",
              "        width: 32px;\n",
              "      }\n",
              "\n",
              "      .colab-df-generate:hover {\n",
              "        background-color: #E2EBFA;\n",
              "        box-shadow: 0px 1px 2px rgba(60, 64, 67, 0.3), 0px 1px 3px 1px rgba(60, 64, 67, 0.15);\n",
              "        fill: #174EA6;\n",
              "      }\n",
              "\n",
              "      [theme=dark] .colab-df-generate {\n",
              "        background-color: #3B4455;\n",
              "        fill: #D2E3FC;\n",
              "      }\n",
              "\n",
              "      [theme=dark] .colab-df-generate:hover {\n",
              "        background-color: #434B5C;\n",
              "        box-shadow: 0px 1px 3px 1px rgba(0, 0, 0, 0.15);\n",
              "        filter: drop-shadow(0px 1px 2px rgba(0, 0, 0, 0.3));\n",
              "        fill: #FFFFFF;\n",
              "      }\n",
              "    </style>\n",
              "    <button class=\"colab-df-generate\" onclick=\"generateWithVariable('df')\"\n",
              "            title=\"Generate code using this dataframe.\"\n",
              "            style=\"display:none;\">\n",
              "\n",
              "  <svg xmlns=\"http://www.w3.org/2000/svg\" height=\"24px\"viewBox=\"0 0 24 24\"\n",
              "       width=\"24px\">\n",
              "    <path d=\"M7,19H8.4L18.45,9,17,7.55,7,17.6ZM5,21V16.75L18.45,3.32a2,2,0,0,1,2.83,0l1.4,1.43a1.91,1.91,0,0,1,.58,1.4,1.91,1.91,0,0,1-.58,1.4L9.25,21ZM18.45,9,17,7.55Zm-12,3A5.31,5.31,0,0,0,4.9,8.1,5.31,5.31,0,0,0,1,6.5,5.31,5.31,0,0,0,4.9,4.9,5.31,5.31,0,0,0,6.5,1,5.31,5.31,0,0,0,8.1,4.9,5.31,5.31,0,0,0,12,6.5,5.46,5.46,0,0,0,6.5,12Z\"/>\n",
              "  </svg>\n",
              "    </button>\n",
              "    <script>\n",
              "      (() => {\n",
              "      const buttonEl =\n",
              "        document.querySelector('#id_7afd02df-3b50-4a30-86e1-f5cad5af29ec button.colab-df-generate');\n",
              "      buttonEl.style.display =\n",
              "        google.colab.kernel.accessAllowed ? 'block' : 'none';\n",
              "\n",
              "      buttonEl.onclick = () => {\n",
              "        google.colab.notebook.generateWithVariable('df');\n",
              "      }\n",
              "      })();\n",
              "    </script>\n",
              "  </div>\n",
              "\n",
              "    </div>\n",
              "  </div>\n"
            ],
            "application/vnd.google.colaboratory.intrinsic+json": {
              "type": "dataframe",
              "variable_name": "df",
              "summary": "{\n  \"name\": \"df\",\n  \"rows\": 2512,\n  \"fields\": [\n    {\n      \"column\": \"TransactionAmount\",\n      \"properties\": {\n        \"dtype\": \"number\",\n        \"std\": 291.9462433824229,\n        \"min\": 0.2599999999999909,\n        \"max\": 1919.11,\n        \"num_unique_values\": 2455,\n        \"samples\": [\n          124.74,\n          821.54,\n          19.110000000000014\n        ],\n        \"semantic_type\": \"\",\n        \"description\": \"\"\n      }\n    },\n    {\n      \"column\": \"TransactionType\",\n      \"properties\": {\n        \"dtype\": \"category\",\n        \"num_unique_values\": 2,\n        \"samples\": [\n          \"Credit\",\n          \"Debit\"\n        ],\n        \"semantic_type\": \"\",\n        \"description\": \"\"\n      }\n    },\n    {\n      \"column\": \"Channel\",\n      \"properties\": {\n        \"dtype\": \"category\",\n        \"num_unique_values\": 3,\n        \"samples\": [\n          \"ATM\",\n          \"Online\"\n        ],\n        \"semantic_type\": \"\",\n        \"description\": \"\"\n      }\n    },\n    {\n      \"column\": \"LoginAttempts\",\n      \"properties\": {\n        \"dtype\": \"number\",\n        \"std\": 0.6026622213569746,\n        \"min\": 1.0,\n        \"max\": 5.0,\n        \"num_unique_values\": 5,\n        \"samples\": [\n          3.0,\n          4.0\n        ],\n        \"semantic_type\": \"\",\n        \"description\": \"\"\n      }\n    },\n    {\n      \"column\": \"CustomerOccupation\",\n      \"properties\": {\n        \"dtype\": \"category\",\n        \"num_unique_values\": 4,\n        \"samples\": [\n          \"Student\",\n          \"Engineer\"\n        ],\n        \"semantic_type\": \"\",\n        \"description\": \"\"\n      }\n    },\n    {\n      \"column\": \"Cluster_Kmeans\",\n      \"properties\": {\n        \"dtype\": \"number\",\n        \"std\": 0,\n        \"min\": 0,\n        \"max\": 1,\n        \"num_unique_values\": 2,\n        \"samples\": [\n          1,\n          0\n        ],\n        \"semantic_type\": \"\",\n        \"description\": \"\"\n      }\n    }\n  ]\n}"
            }
          },
          "metadata": {},
          "execution_count": 4
        }
      ]
    },
    {
      "cell_type": "code",
      "source": [
        "df.Cluster_Kmeans.value_counts()"
      ],
      "metadata": {
        "id": "3pqN6zywc-3b",
        "colab": {
          "base_uri": "https://localhost:8080/",
          "height": 178
        },
        "outputId": "701269c1-a7a7-4980-9786-60b7280bcfbd"
      },
      "execution_count": 5,
      "outputs": [
        {
          "output_type": "execute_result",
          "data": {
            "text/plain": [
              "Cluster_Kmeans\n",
              "0    2417\n",
              "1      95\n",
              "Name: count, dtype: int64"
            ],
            "text/html": [
              "<div>\n",
              "<style scoped>\n",
              "    .dataframe tbody tr th:only-of-type {\n",
              "        vertical-align: middle;\n",
              "    }\n",
              "\n",
              "    .dataframe tbody tr th {\n",
              "        vertical-align: top;\n",
              "    }\n",
              "\n",
              "    .dataframe thead th {\n",
              "        text-align: right;\n",
              "    }\n",
              "</style>\n",
              "<table border=\"1\" class=\"dataframe\">\n",
              "  <thead>\n",
              "    <tr style=\"text-align: right;\">\n",
              "      <th></th>\n",
              "      <th>count</th>\n",
              "    </tr>\n",
              "    <tr>\n",
              "      <th>Cluster_Kmeans</th>\n",
              "      <th></th>\n",
              "    </tr>\n",
              "  </thead>\n",
              "  <tbody>\n",
              "    <tr>\n",
              "      <th>0</th>\n",
              "      <td>2417</td>\n",
              "    </tr>\n",
              "    <tr>\n",
              "      <th>1</th>\n",
              "      <td>95</td>\n",
              "    </tr>\n",
              "  </tbody>\n",
              "</table>\n",
              "</div><br><label><b>dtype:</b> int64</label>"
            ]
          },
          "metadata": {},
          "execution_count": 5
        }
      ]
    },
    {
      "cell_type": "markdown",
      "source": [
        "# **3. Data Splitting**"
      ],
      "metadata": {
        "id": "KkPem5eWL2UP"
      }
    },
    {
      "cell_type": "markdown",
      "source": [
        "Tahap Data Splitting bertujuan untuk memisahkan dataset menjadi dua bagian: data latih (training set) dan data uji (test set)."
      ],
      "metadata": {
        "id": "YYj1rl_JNI9Y"
      }
    },
    {
      "cell_type": "code",
      "source": [
        "numerical_features = ['TransactionAmount', 'LoginAttempts']\n",
        "categorical_features = ['TransactionType', 'Channel', 'CustomerOccupation']\n",
        "X = df[numerical_features + categorical_features]\n",
        "y = df['Cluster_Kmeans']"
      ],
      "metadata": {
        "id": "OubAW-7ONKVj"
      },
      "execution_count": 6,
      "outputs": []
    },
    {
      "cell_type": "code",
      "source": [
        "encoder = OneHotEncoder(handle_unknown='ignore')\n",
        "X_encoded = encoder.fit_transform(X[categorical_features]).toarray()\n",
        "\n",
        "scaler = MinMaxScaler()\n",
        "X_scaled = scaler.fit_transform(X[numerical_features])\n",
        "X_preprocessed = np.hstack((X_scaled, X_encoded))\n"
      ],
      "metadata": {
        "id": "7T0oGVV9dTtT"
      },
      "execution_count": 7,
      "outputs": []
    },
    {
      "cell_type": "code",
      "source": [
        "X_train, X_test, y_train, y_test = train_test_split(X_preprocessed, y, test_size=0.3, random_state=42, stratify=y)"
      ],
      "metadata": {
        "id": "vdD-ioATdWUr"
      },
      "execution_count": 8,
      "outputs": []
    },
    {
      "cell_type": "markdown",
      "source": [
        "# **4. Membangun Model Klasifikasi**\n"
      ],
      "metadata": {
        "id": "IVPbB03CMhTT"
      }
    },
    {
      "cell_type": "markdown",
      "source": [
        "## **a. Membangun Model Klasifikasi**"
      ],
      "metadata": {
        "id": "Ned1pL9zMmBK"
      }
    },
    {
      "cell_type": "markdown",
      "source": [
        "Setelah memilih algoritma klasifikasi yang sesuai, langkah selanjutnya adalah melatih model menggunakan data latih.\n",
        "\n",
        "Berikut adalah rekomendasi tahapannya.\n",
        "1. Pilih algoritma klasifikasi yang sesuai, seperti Logistic Regression, Decision Tree, Random Forest, atau K-Nearest Neighbors (KNN).\n",
        "2. Latih model menggunakan data latih."
      ],
      "metadata": {
        "id": "WAWzPOE4Nkti"
      }
    },
    {
      "cell_type": "code",
      "source": [
        "smote = SMOTE(random_state=42, sampling_strategy=0.2)\n",
        "X_train_resampled, y_train_resampled = smote.fit_resample(X_train, y_train)\n",
        "\n",
        "models = {\n",
        "    \"Random Forest\": RandomForestClassifier(n_estimators=30, max_depth=3, random_state=42),\n",
        "    \"SVM\": SVC(C=1.0, kernel='rbf', probability=True)\n",
        "}"
      ],
      "metadata": {
        "id": "4JYxBe87NLDk"
      },
      "execution_count": 9,
      "outputs": []
    },
    {
      "cell_type": "markdown",
      "source": [
        "Tulis narasi atau penjelasan algoritma yang Anda gunakan."
      ],
      "metadata": {
        "id": "seYoHNY3XU1y"
      }
    },
    {
      "cell_type": "markdown",
      "source": [
        "## **b. Evaluasi Model Klasifikasi**"
      ],
      "metadata": {
        "id": "ergzChZFEL-O"
      }
    },
    {
      "cell_type": "markdown",
      "source": [
        "Berikut adalah **rekomendasi** tahapannya.\n",
        "1. Lakukan prediksi menggunakan data uji.\n",
        "2. Hitung metrik evaluasi seperti Accuracy dan F1-Score (Opsional: Precision dan Recall).\n",
        "3. Buat confusion matrix untuk melihat detail prediksi benar dan salah."
      ],
      "metadata": {
        "id": "zOm68u-7NpLT"
      }
    },
    {
      "cell_type": "code",
      "source": [
        "for name, model in models.items():\n",
        "    print(f\"\\n=== {name} ===\")\n",
        "\n",
        "    clf = ImbPipeline(steps=[\n",
        "        ('classifier', model)\n",
        "    ])\n",
        "\n",
        "    clf.fit(X_train_resampled, y_train_resampled)\n",
        "    y_pred = clf.predict(X_test)\n",
        "    cm = confusion_matrix(y_test, y_pred)\n",
        "    print(cm)\n",
        "    print(classification_report(y_test, y_pred))\n",
        "\n",
        "    # Plot Confusion Matrix\n",
        "    plt.figure(figsize=(6, 4))\n",
        "    sns.heatmap(cm, annot=True, fmt='d', cmap='Blues', xticklabels=['Non-Fraud', 'Fraud'], yticklabels=['Non-Fraud', 'Fraud'])\n",
        "    plt.xlabel('Predicted Label')\n",
        "    plt.ylabel('True Label')\n",
        "    plt.title(f'Confusion Matrix - {name}')\n",
        "    plt.show()\n",
        "\n",
        "    # Cross-Validation F1 Score\n",
        "    scores = cross_val_score(clf, X_preprocessed, y, cv=5, scoring='f1')\n",
        "    print(\"Cross-Validation F1 Scores:\", scores)\n",
        "    print(\"Mean F1 Score:\", scores.mean())"
      ],
      "metadata": {
        "id": "tMq4QAssNLip",
        "colab": {
          "base_uri": "https://localhost:8080/",
          "height": 1000
        },
        "outputId": "1d6081d5-dc25-4b12-f48b-30fe6ae9ee0b"
      },
      "execution_count": 10,
      "outputs": [
        {
          "output_type": "stream",
          "name": "stdout",
          "text": [
            "\n",
            "=== Random Forest ===\n",
            "[[725   0]\n",
            " [  1  28]]\n",
            "              precision    recall  f1-score   support\n",
            "\n",
            "           0       1.00      1.00      1.00       725\n",
            "           1       1.00      0.97      0.98        29\n",
            "\n",
            "    accuracy                           1.00       754\n",
            "   macro avg       1.00      0.98      0.99       754\n",
            "weighted avg       1.00      1.00      1.00       754\n",
            "\n"
          ]
        },
        {
          "output_type": "display_data",
          "data": {
            "text/plain": [
              "<Figure size 600x400 with 2 Axes>"
            ],
            "image/png": "[encoded data removed]"
          },
          "metadata": {}
        },
        {
          "output_type": "stream",
          "name": "stdout",
          "text": [
            "Cross-Validation F1 Scores: [0.91428571 0.91428571 0.97297297 0.91428571 0.94444444]\n",
            "Mean F1 Score: 0.9320549120549121\n",
            "\n",
            "=== SVM ===\n",
            "[[723   2]\n",
            " [  1  28]]\n",
            "              precision    recall  f1-score   support\n",
            "\n",
            "           0       1.00      1.00      1.00       725\n",
            "           1       0.93      0.97      0.95        29\n",
            "\n",
            "    accuracy                           1.00       754\n",
            "   macro avg       0.97      0.98      0.97       754\n",
            "weighted avg       1.00      1.00      1.00       754\n",
            "\n"
          ]
        },
        {
          "output_type": "display_data",
          "data": {
            "text/plain": [
              "<Figure size 600x400 with 2 Axes>"
            ],
            "image/png": "[encoded data removed]"
          },
          "metadata": {}
        },
        {
          "output_type": "stream",
          "name": "stdout",
          "text": [
            "Cross-Validation F1 Scores: [0.97297297 0.97297297 1.         0.97297297 0.97297297]\n",
            "Mean F1 Score: 0.9783783783783784\n"
          ]
        }
      ]
    },
    {
      "cell_type": "markdown",
      "source": [
        "Tulis hasil evaluasi algoritma yang digunakan, jika Anda menggunakan 2 algoritma, maka bandingkan hasilnya."
      ],
      "metadata": {
        "id": "H4_9OwrsXZlz"
      }
    },
    {
      "cell_type": "markdown",
      "source": [
        "## **c. Tuning Model Klasifikasi (Optional)**"
      ],
      "metadata": {
        "id": "ph9yIYDXEPuB"
      }
    },
    {
      "cell_type": "markdown",
      "source": [
        "Gunakan GridSearchCV, RandomizedSearchCV, atau metode lainnya untuk mencari kombinasi hyperparameter terbaik"
      ],
      "metadata": {
        "id": "-Bikx3LINv5e"
      }
    },
    {
      "cell_type": "code",
      "source": [
        "models = {\n",
        "    \"Random Forest\": RandomForestClassifier(random_state=42),\n",
        "    \"SVM\": SVC(probability=True, random_state=42)\n",
        "}"
      ],
      "metadata": {
        "id": "UEUXQvaedqJl"
      },
      "execution_count": 11,
      "outputs": []
    },
    {
      "cell_type": "code",
      "source": [
        "hyperparameters = {\n",
        "    \"Random Forest\": {\n",
        "        'classifier__n_estimators': [50, 100],\n",
        "        'classifier__max_depth': [3, 4],\n",
        "        'classifier__min_samples_split': [20],\n",
        "        'classifier__min_samples_leaf': [5, 10],\n",
        "        'classifier__bootstrap': [True],\n",
        "        'classifier__max_features': ['sqrt'],\n",
        "        'classifier__ccp_alpha': [0.01]\n",
        "    },\n",
        "    \"SVM\": {\n",
        "        'classifier__C': [0.1, 1, 10],\n",
        "        'classifier__kernel': ['linear', 'rbf'],\n",
        "        'classifier__gamma': ['scale']\n",
        "    }\n",
        "}\n",
        "\n",
        "\n",
        "skf = StratifiedKFold(n_splits=5)"
      ],
      "metadata": {
        "id": "winbFzb8NL95"
      },
      "execution_count": 12,
      "outputs": []
    },
    {
      "cell_type": "markdown",
      "source": [
        "## **d. Evaluasi Model Klasifikasi setelah Tuning (Optional)**"
      ],
      "metadata": {
        "id": "hE7pqlEPEYzI"
      }
    },
    {
      "cell_type": "markdown",
      "source": [
        "Berikut adalah rekomendasi tahapannya.\n",
        "1. Gunakan model dengan hyperparameter terbaik.\n",
        "2. Hitung ulang metrik evaluasi untuk melihat apakah ada peningkatan performa."
      ],
      "metadata": {
        "id": "feaPESoeN0zz"
      }
    },
    {
      "cell_type": "code",
      "source": [
        "X_train, X_test, y_train, y_test = train_test_split(X_preprocessed, y, test_size=0.3, random_state=42, stratify=y)\n",
        "\n",
        "for name, model in models.items():\n",
        "    print(f\"\\n=== {name} ===\")\n",
        "    pipeline = ImbPipeline(steps=[\n",
        "        ('smote', SMOTE(sampling_strategy=0.05, random_state=42)),\n",
        "        ('classifier', model)\n",
        "    ])\n",
        "\n",
        "    grid_search = GridSearchCV(pipeline, hyperparameters[name], cv=3, scoring='f1', n_jobs=-1)\n",
        "    grid_search.fit(X_train, y_train)\n",
        "\n",
        "    best_model = grid_search.best_estimator_\n",
        "    print(f\"Best Parameters for {name}: {grid_search.best_params_}\")\n",
        "\n",
        "    y_pred = best_model.predict(X_test)\n",
        "\n",
        "    cm = confusion_matrix(y_test, y_pred)\n",
        "    print(cm)\n",
        "    print(classification_report(y_test, y_pred))\n",
        "\n",
        "    # Plot Confusion Matrix\n",
        "    plt.figure(figsize=(6, 4))\n",
        "    sns.heatmap(cm, annot=True, fmt='d', cmap='Blues', xticklabels=['Non-Fraud', 'Fraud'], yticklabels=['Non-Fraud', 'Fraud'])\n",
        "    plt.xlabel('Predicted Label')\n",
        "    plt.ylabel('True Label')\n",
        "    plt.title(f'Confusion Matrix - {name}')\n",
        "    plt.show()\n",
        "\n",
        "    # Cross-Validation F1 Score\n",
        "    scores = cross_val_score(best_model, X_preprocessed, y, cv=skf, scoring='f1')\n",
        "    print(\"Cross-Validation F1 Scores:\", scores)\n",
        "    print(\"Mean F1 Score:\", scores.mean())\n"
      ],
      "metadata": {
        "id": "HTXZRvEeNMb1",
        "colab": {
          "base_uri": "https://localhost:8080/",
          "height": 1000
        },
        "outputId": "c659dfa3-7673-44d7-a35c-ade8a8fd535a"
      },
      "execution_count": 13,
      "outputs": [
        {
          "output_type": "stream",
          "name": "stdout",
          "text": [
            "\n",
            "=== Random Forest ===\n",
            "Best Parameters for Random Forest: {'classifier__bootstrap': True, 'classifier__ccp_alpha': 0.01, 'classifier__max_depth': 4, 'classifier__max_features': 'sqrt', 'classifier__min_samples_leaf': 5, 'classifier__min_samples_split': 20, 'classifier__n_estimators': 100}\n",
            "[[725   0]\n",
            " [  3  26]]\n",
            "              precision    recall  f1-score   support\n",
            "\n",
            "           0       1.00      1.00      1.00       725\n",
            "           1       1.00      0.90      0.95        29\n",
            "\n",
            "    accuracy                           1.00       754\n",
            "   macro avg       1.00      0.95      0.97       754\n",
            "weighted avg       1.00      1.00      1.00       754\n",
            "\n"
          ]
        },
        {
          "output_type": "display_data",
          "data": {
            "text/plain": [
              "<Figure size 600x400 with 2 Axes>"
            ],
            "image/png": "[encoded data removed]"
          },
          "metadata": {}
        },
        {
          "output_type": "stream",
          "name": "stdout",
          "text": [
            "Cross-Validation F1 Scores: [0.97297297 1.         1.         0.97297297 0.94444444]\n",
            "Mean F1 Score: 0.978078078078078\n",
            "\n",
            "=== SVM ===\n",
            "Best Parameters for SVM: {'classifier__C': 1, 'classifier__gamma': 'scale', 'classifier__kernel': 'linear'}\n",
            "[[724   1]\n",
            " [  0  29]]\n",
            "              precision    recall  f1-score   support\n",
            "\n",
            "           0       1.00      1.00      1.00       725\n",
            "           1       0.97      1.00      0.98        29\n",
            "\n",
            "    accuracy                           1.00       754\n",
            "   macro avg       0.98      1.00      0.99       754\n",
            "weighted avg       1.00      1.00      1.00       754\n",
            "\n"
          ]
        },
        {
          "output_type": "display_data",
          "data": {
            "text/plain": [
              "<Figure size 600x400 with 2 Axes>"
            ],
            "image/png": "[encoded data removed]"
          },
          "metadata": {}
        },
        {
          "output_type": "stream",
          "name": "stdout",
          "text": [
            "Cross-Validation F1 Scores: [1.         1.         0.97435897 1.         1.        ]\n",
            "Mean F1 Score: 0.9948717948717949\n"
          ]
        }
      ]
    },
    {
      "cell_type": "markdown",
      "source": [
        "## **e. Analisis Hasil Evaluasi Model Klasifikasi**"
      ],
      "metadata": {
        "id": "ZRsOdm4uEgAW"
      }
    },
    {
      "cell_type": "markdown",
      "source": [
        "## **1. Random Forest**\n",
        "\n",
        "### Sebelum Tuning\n",
        "- **Accuracy**: 100%\n",
        "- **Precision (Kelas 1 - Minoritas)**: 1.00\n",
        "- **Recall (Kelas 1 - Minoritas)**: 0.97 → Ada sedikit kekurangan dalam menangkap kelas minoritas\n",
        "- **Mean F1 Score (CV)**: 0.9321\n",
        "- **Overfitting**: Tidak terlihat jelas, namun recall sedikit lebih rendah dibanding model lain.\n",
        "\n",
        "### Sesudah Tuning\n",
        "- **Accuracy**: 100%\n",
        "- **Precision (Kelas 1 - Minoritas)**: 1.00\n",
        "- **Recall (Kelas 1 - Minoritas)**: 0.90 → Sedikit menurun dibanding sebelum tuning\n",
        "- **Mean F1 Score (CV)**: 0.9781 (Meningkat dari sebelumnya)\n",
        "\n",
        "## **2. SVM**\n",
        "\n",
        "### Sebelum Tuning\n",
        "- **Accuracy**: 100%\n",
        "- **Precision (Kelas 1 - Minoritas)**: 0.93\n",
        "- **Recall (Kelas 1 - Minoritas)**: 0.97 → Cukup kuat dalam menangkap kelas minoritas\n",
        "- **Mean F1 Score (CV)**: 0.9784\n",
        "\n",
        "### Sesudah Tuning\n",
        "- **Accuracy**: 100%\n",
        "- **Precision (Kelas 1 - Minoritas)**: 0.97\n",
        "- **Recall (Kelas 1 - Minoritas)**: 1.00 → Meningkat dibanding sebelumnya\n",
        "- **Mean F1 Score (CV)**: 0.9949 (Meningkat signifikan)\n"
      ],
      "metadata": {
        "id": "Hm3BhSi6N4_l"
      }
    },
    {
      "cell_type": "markdown",
      "source": [
        "## **Kesimpulan**\n",
        "1. **Random Forest**: Setelah tuning, mean F1 score meningkat dari 0.9321 menjadi 0.9781, tetapi recall untuk kelas minoritas sedikit menurun dari 0.97 menjadi 0.90. Ini menunjukkan bahwa model menjadi lebih seimbang dalam klasifikasi keseluruhan tetapi sedikit lebih lemah dalam menangkap kelas minoritas. Untuk precision, perlu di perhatikan atau di banding lagi dengan dataset yang lebih besar apakah benaran sempuran atau hanya overfitting. Lalu, jika recall tetap menjadi perhatian utama, dapat dicoba teknik balancing data lebih lanjut atau model lain seperti XGBoost.\n",
        "\n",
        "2. **SVM**: Model mengalami peningkatan signifikan setelah tuning, dengan recall untuk kelas minoritas meningkat menjadi 1.00 dan mean F1 score naik menjadi 0.9949. Ini menunjukkan bahwa tuning yang dilakukan berhasil meningkatkan performa model dalam menangkap kelas minoritas tanpa mengorbankan akurasi keseluruhan. Namun, harus di lihat apakah recall disini overfitting karena sangat sempurna (nilai 1.0) dalam menilai kelas minoritas. Jika diperlukan optimasi lebih lanjut, bisa dicoba pengaturan hyperparameter lebih agresif seperti peningkatan nilai C atau eksplorasi kernel lain, lalu saran selanjutnya adalah menambahkan data lebih banyak lagi (menggunakan dataset lebih besar) sehingga lebih kelihatan dan lebih menghindari overfitting.\n",
        "\n",
        "Secara keseluruhan, tuning memberikan dampak positif terutama pada SVM, sedangkan Random Forest mengalami sedikit penurunan recall. Pemilihan model terbaik akan bergantung pada apakah prioritas utama adalah recall untuk kelas minoritas atau keseimbangan keseluruhan performa model.\n",
        "\n"
      ],
      "metadata": {
        "id": "UyPBCt_YhIz1"
      }
    }
  ]
}